{
 "cells": [
  {
   "cell_type": "markdown",
   "metadata": {},
   "source": [
    "Before you turn this problem in, make sure everything runs as expected. First, **restart the kernel** (in the menubar, select Kernel$\\rightarrow$Restart) and then **run all cells** (in the menubar, select Cell$\\rightarrow$Run All).\n",
    "\n",
    "Make sure you fill in any place that says `YOUR CODE HERE` or \"YOUR ANSWER HERE\", as well as your name and collaborators below:"
   ]
  },
  {
   "cell_type": "code",
   "execution_count": 2,
   "metadata": {},
   "outputs": [],
   "source": [
    "NAME = \"Adonis Yee\"\n",
    "COLLABORATORS = \"\""
   ]
  },
  {
   "cell_type": "markdown",
   "metadata": {},
   "source": [
    "---"
   ]
  },
  {
   "cell_type": "markdown",
   "metadata": {
    "deletable": false,
    "editable": false,
    "nbgrader": {
     "cell_type": "markdown",
     "checksum": "851a1167a43648157d50a63c9bf36e69",
     "grade": false,
     "grade_id": "intro",
     "locked": true,
     "schema_version": 2,
     "solution": false
    }
   },
   "source": [
    "# Project 1: Trump, Twitter, and Text\n",
    "\n",
    "Welcome to the first project of Data 100! In this project, we will work with the Twitter API in order to analyze Donald Trump's tweets.\n",
    "\n",
    "**The project is due 11:59pm Tuesday, October 23, California Time.**\n",
    "\n",
    "You do not have to work on this project before the midterm, but you might find it helpful, since it goes over a lot of pandas materials that we haven't used in a while.\n",
    "\n",
    "**Fun:**\n",
    "\n",
    "We intend this project to be fun! You will analyze actual data from the Twitter API. You will also draw conclusions about the current (and often controversial) US President's tweet behavior. If you find yourself getting frustrated or stuck on one problem for too long, we suggest coming into office hours and working with friends in the class.\n",
    "\n",
    "With that in mind, let's get started!"
   ]
  },
  {
   "cell_type": "code",
   "execution_count": 3,
   "metadata": {
    "deletable": false,
    "editable": false,
    "nbgrader": {
     "cell_type": "code",
     "checksum": "39a1c52c1b5855b6bd9b10e6a7802072",
     "grade": false,
     "grade_id": "import",
     "locked": true,
     "schema_version": 2,
     "solution": false
    }
   },
   "outputs": [],
   "source": [
    "# Run this cell to set up your notebook\n",
    "import csv\n",
    "import numpy as np\n",
    "import pandas as pd\n",
    "import matplotlib.pyplot as plt\n",
    "import zipfile\n",
    "\n",
    "# Ensure that Pandas shows at least 280 characters in columns, so we can see full tweets\n",
    "pd.set_option('max_colwidth', 280)\n",
    "\n",
    "%matplotlib inline\n",
    "plt.style.use('fivethirtyeight')\n",
    "import seaborn as sns\n",
    "sns.set()\n",
    "sns.set_context(\"talk\")\n",
    "import re"
   ]
  },
  {
   "cell_type": "markdown",
   "metadata": {
    "deletable": false,
    "editable": false,
    "nbgrader": {
     "cell_type": "markdown",
     "checksum": "69812bdeba1101e72f0c2c49d4e05e7e",
     "grade": false,
     "grade_id": "tweepy-intro",
     "locked": true,
     "schema_version": 2,
     "solution": false
    }
   },
   "source": [
    "# Downloading Recent Tweets\n",
    "\n",
    "---\n",
    "\n",
    "Since we'll be looking at Twitter data, we need to download the data from Twitter!\n",
    "\n",
    "Twitter provides an API for downloading tweet data in large batches.  The `tweepy` package makes it fairly easy to use."
   ]
  },
  {
   "cell_type": "code",
   "execution_count": 4,
   "metadata": {
    "deletable": false,
    "editable": false,
    "nbgrader": {
     "cell_type": "code",
     "checksum": "727d86148491e8268741fb9ad1182f32",
     "grade": false,
     "grade_id": "tweepy",
     "locked": true,
     "schema_version": 2,
     "solution": false
    }
   },
   "outputs": [],
   "source": [
    "## Make sure you are in your data100 conda environment if you are working locally.\n",
    "# The following should run:\n",
    "import tweepy"
   ]
  },
  {
   "cell_type": "markdown",
   "metadata": {
    "deletable": false,
    "editable": false,
    "nbgrader": {
     "cell_type": "markdown",
     "checksum": "be71d5e18529a33a68df98dba32c6b98",
     "grade": false,
     "grade_id": "instructions",
     "locked": true,
     "schema_version": 2,
     "solution": false
    }
   },
   "source": [
    "There are instructions on using `tweepy` [here](http://tweepy.readthedocs.io/en/v3.5.0/getting_started.html), but we will give you example code.\n",
    "\n",
    "Twitter requires you to have authentication keys to access their API.  To get your keys, you'll have to sign up as a Twitter developer.  The next question will walk you through this process."
   ]
  },
  {
   "cell_type": "markdown",
   "metadata": {
    "deletable": false,
    "editable": false,
    "nbgrader": {
     "cell_type": "markdown",
     "checksum": "d7f77217a61748b66ee95e547435218f",
     "grade": false,
     "grade_id": "q1",
     "locked": true,
     "schema_version": 2,
     "solution": false
    }
   },
   "source": [
    "## Question 1\n",
    "\n",
    "Follow the instructions below to get your Twitter API keys.  **Read the instructions completely before starting.**\n",
    "\n",
    "1. [Create a Twitter account](https://twitter.com).  You can use an existing account if you have one; if you prefer to not do this assignment under your regular account, feel free to create a throw-away account.\n",
    "2. Under account settings, add your phone number to the account.\n",
    "3. [Create a Twitter developer account](https://dev.twitter.com/resources/signup) by clicking the 'Apply' button on the top right of the page. Attach it to your Twitter account. You'll have to fill out a form describing what you want to do with the developer account. Explain that you are doing this for a class at UC Berkeley and that you don't know exactly what you're building yet and just need the account to get started. These applications are approved by some sort of AI system, so it doesn't matter exactly what you write. Just don't enter a bunch of alweiofalwiuhflawiuehflawuihflaiwhfe type stuff or you might get rejected.\n",
    "4. Once you're logged into your developer account, [create an application for this assignment](https://apps.twitter.com/app/new).  You can call it whatever you want, and you can write any URL when it asks for a web site.  You don't need to provide a callback URL.\n",
    "5. On the page for that application, find your Consumer Key and Consumer Secret.\n",
    "6. On the same page, create an Access Token.  Record the resulting Access Token and Access Token Secret.\n",
    "7. Edit the file [keys.json](keys.json) and replace the placeholders with your keys.  "
   ]
  },
  {
   "cell_type": "markdown",
   "metadata": {
    "deletable": false,
    "editable": false,
    "nbgrader": {
     "cell_type": "markdown",
     "checksum": "660b295179b4972ddbe15e607eab658b",
     "grade": false,
     "grade_id": "warning",
     "locked": true,
     "schema_version": 2,
     "solution": false
    }
   },
   "source": [
    "\n",
    "## WARNING (Please Read) !!!!\n",
    "\n",
    "\n",
    "### Protect your Twitter Keys\n",
    "<span style=\"color:red\">\n",
    "If someone has your authentication keys, they can access your Twitter account and post as you!  So don't give them to anyone, and **don't write them down in this notebook**. \n",
    "</span>\n",
    "The usual way to store sensitive information like this is to put it in a separate file and read it programmatically.  That way, you can share the rest of your code without sharing your keys.  That's why we're asking you to put your keys in `keys.json` for this assignment.\n",
    "\n",
    "\n",
    "### Avoid making too many API calls.\n",
    "\n",
    "<span style=\"color:red\">\n",
    "Twitter limits developers to a certain rate of requests for data.  If you make too many requests in a short period of time, you'll have to wait awhile (around 15 minutes) before you can make more.  </span> \n",
    "So carefully follow the code examples you see and don't rerun cells without thinking.  Instead, always save the data you've collected to a file.  We've provided templates to help you do that.\n",
    "\n",
    "\n",
    "### Be careful about which functions you call!\n",
    "\n",
    "<span style=\"color:red\">\n",
    "This API can retweet tweets, follow and unfollow people, and modify your twitter settings.  Be careful which functions you invoke! </span> One of the sp18 instructors accidentally re-tweeted some tweets because that instructor typed `retweet` instead of `retweet_count`. \n",
    "</span>\n"
   ]
  },
  {
   "cell_type": "code",
   "execution_count": 5,
   "metadata": {
    "deletable": false,
    "editable": false,
    "nbgrader": {
     "cell_type": "code",
     "checksum": "c2eb5fb9a1af6832165a365b0aad21ab",
     "grade": false,
     "grade_id": "keys",
     "locked": true,
     "schema_version": 2,
     "solution": false
    }
   },
   "outputs": [],
   "source": [
    "import json\n",
    "key_file = 'keys.json'\n",
    "# Loading your keys from keys.json (which you should have filled\n",
    "# in in question 1):\n",
    "with open(key_file) as f:\n",
    "    keys = json.load(f)\n",
    "# if you print or view the contents of keys be sure to delete the cell!"
   ]
  },
  {
   "cell_type": "markdown",
   "metadata": {
    "deletable": false,
    "editable": false,
    "nbgrader": {
     "cell_type": "markdown",
     "checksum": "118d21c4ccbbf942c9f2707840908cca",
     "grade": false,
     "grade_id": "tweepy-auth-note",
     "locked": true,
     "schema_version": 2,
     "solution": false
    }
   },
   "source": [
    "This cell tests the Twitter authentication. It should run without errors or warnings and display your Twitter username."
   ]
  },
  {
   "cell_type": "code",
   "execution_count": 6,
   "metadata": {
    "deletable": false,
    "editable": false,
    "nbgrader": {
     "cell_type": "code",
     "checksum": "66806331fe1cb852ab300e98459cb2d4",
     "grade": false,
     "grade_id": "twitter-auth",
     "locked": true,
     "schema_version": 2,
     "solution": false
    }
   },
   "outputs": [
    {
     "name": "stdout",
     "output_type": "stream",
     "text": [
      "Your username is: adonisYEE\n"
     ]
    }
   ],
   "source": [
    "import tweepy\n",
    "from tweepy import TweepError\n",
    "import logging\n",
    "\n",
    "try:\n",
    "    auth = tweepy.OAuthHandler(keys[\"consumer_key\"], keys[\"consumer_secret\"])\n",
    "    auth.set_access_token(keys[\"access_token\"], keys[\"access_token_secret\"])\n",
    "    api = tweepy.API(auth)\n",
    "    print(\"Your username is:\", api.auth.get_username())\n",
    "except TweepError as e:\n",
    "    logging.warning(\"There was a Tweepy error. Double check your API keys and try again.\")\n",
    "    logging.warning(e)"
   ]
  },
  {
   "cell_type": "markdown",
   "metadata": {
    "deletable": false,
    "editable": false,
    "nbgrader": {
     "cell_type": "markdown",
     "checksum": "b738ef5c6ffad625b8d5a61b66719ad6",
     "grade": false,
     "grade_id": "q2",
     "locked": true,
     "schema_version": 2,
     "solution": false
    }
   },
   "source": [
    "## Question 2\n",
    "\n",
    "In the example below, we have loaded some tweets by @BerkeleyData.  Run it and read the code."
   ]
  },
  {
   "cell_type": "code",
   "execution_count": 7,
   "metadata": {
    "deletable": false,
    "editable": false,
    "nbgrader": {
     "cell_type": "code",
     "checksum": "3defce91d655ee59ae318cc20133476a",
     "grade": false,
     "grade_id": "load-berkeley-tweets",
     "locked": true,
     "schema_version": 2,
     "solution": false
    }
   },
   "outputs": [],
   "source": [
    "from pathlib import Path\n",
    "import json\n",
    "\n",
    "ds_tweets_save_path = \"BerkeleyData_recent_tweets.json\"\n",
    "# Guarding against attempts to download the data multiple\n",
    "# times:\n",
    "if not Path(ds_tweets_save_path).is_file():\n",
    "    # Getting as many recent tweets by @BerkeleyData as Twitter will let us have.\n",
    "    # We use tweet_mode='extended' so that Twitter gives us full 280 character tweets.\n",
    "    # This was a change introduced in September 2017.\n",
    "    \n",
    "    # The tweepy Cursor API actually returns \"sophisticated\" Status objects but we \n",
    "    # will use the basic Python dictionaries stored in the _json field. \n",
    "    example_tweets = [t._json for t in tweepy.Cursor(api.user_timeline, id=\"BerkeleyData\", \n",
    "                                             tweet_mode='extended').items()]\n",
    "    \n",
    "    # Saving the tweets to a json file on disk for future analysis\n",
    "    with open(ds_tweets_save_path, \"w\") as f:        \n",
    "        json.dump(example_tweets, f)\n",
    "\n",
    "# Re-loading the json file:\n",
    "with open(ds_tweets_save_path, \"r\") as f:\n",
    "    example_tweets = json.load(f)"
   ]
  },
  {
   "cell_type": "markdown",
   "metadata": {
    "deletable": false,
    "editable": false,
    "nbgrader": {
     "cell_type": "markdown",
     "checksum": "7dc93f6841b3ecdb826a8ff12ebb2030",
     "grade": false,
     "grade_id": "first-tweet-did-it-workk",
     "locked": true,
     "schema_version": 2,
     "solution": false
    }
   },
   "source": [
    "Assuming everything ran correctly you should be able to look at the first tweet by running the cell below.\n",
    "\n",
    "<span style=\"color:red\">\n",
    "**Warning** Do not attempt to view all the tweets in a notebook.  It will likely freeze your browser.  The following would be a **bad idea**:\n",
    "```python\n",
    "    pprint(example_tweets)\n",
    "```\n",
    "\n",
    "</span> "
   ]
  },
  {
   "cell_type": "code",
   "execution_count": 8,
   "metadata": {
    "deletable": false,
    "editable": false,
    "nbgrader": {
     "cell_type": "code",
     "checksum": "de383bb55c2e4e13c896209b5f7589c0",
     "grade": false,
     "grade_id": "first-tweet",
     "locked": true,
     "schema_version": 2,
     "solution": false
    }
   },
   "outputs": [
    {
     "name": "stdout",
     "output_type": "stream",
     "text": [
      "{'contributors': None,\n",
      " 'coordinates': None,\n",
      " 'created_at': 'Wed Oct 17 14:12:03 +0000 2018',\n",
      " 'display_text_range': [0, 140],\n",
      " 'entities': {'hashtags': [],\n",
      "              'symbols': [],\n",
      "              'urls': [],\n",
      "              'user_mentions': [{'id': 263020833,\n",
      "                                 'id_str': '263020833',\n",
      "                                 'indices': [3, 19],\n",
      "                                 'name': 'Berkeley School of Information',\n",
      "                                 'screen_name': 'BerkeleyISchool'},\n",
      "                                {'id': 24414370,\n",
      "                                 'id_str': '24414370',\n",
      "                                 'indices': [26, 34],\n",
      "                                 'name': 'Anno Saxenian',\n",
      "                                 'screen_name': 'annosax'}]},\n",
      " 'favorite_count': 0,\n",
      " 'favorited': False,\n",
      " 'full_text': 'RT @BerkeleyISchool: Dean @annosax is one 3 women who have '\n",
      "              'authored key works to understand the current Entrepreneurial '\n",
      "              'Age. https://t.co/k…',\n",
      " 'geo': None,\n",
      " 'id': 1052562888731320322,\n",
      " 'id_str': '1052562888731320322',\n",
      " 'in_reply_to_screen_name': None,\n",
      " 'in_reply_to_status_id': None,\n",
      " 'in_reply_to_status_id_str': None,\n",
      " 'in_reply_to_user_id': None,\n",
      " 'in_reply_to_user_id_str': None,\n",
      " 'is_quote_status': False,\n",
      " 'lang': 'en',\n",
      " 'place': None,\n",
      " 'retweet_count': 4,\n",
      " 'retweeted': False,\n",
      " 'retweeted_status': {'contributors': None,\n",
      "                      'coordinates': None,\n",
      "                      'created_at': 'Wed Oct 17 00:10:48 +0000 2018',\n",
      "                      'display_text_range': [0, 198],\n",
      "                      'entities': {'hashtags': [{'indices': [154, 168],\n",
      "                                                 'text': 'SiliconValley'},\n",
      "                                                {'indices': [169, 186],\n",
      "                                                 'text': 'Entrepreneurship'}],\n",
      "                                   'media': [{'display_url': 'pic.twitter.com/XDv65ShEbG',\n",
      "                                              'expanded_url': 'https://twitter.com/BerkeleyISchool/status/1052351185112506368/photo/1',\n",
      "                                              'id': 1052351182730129408,\n",
      "                                              'id_str': '1052351182730129408',\n",
      "                                              'indices': [199, 222],\n",
      "                                              'media_url': 'http://pbs.twimg.com/media/Dpqz0zmXcAAL2gF.png',\n",
      "                                              'media_url_https': 'https://pbs.twimg.com/media/Dpqz0zmXcAAL2gF.png',\n",
      "                                              'sizes': {'large': {'h': 456,\n",
      "                                                                  'resize': 'fit',\n",
      "                                                                  'w': 960},\n",
      "                                                        'medium': {'h': 456,\n",
      "                                                                   'resize': 'fit',\n",
      "                                                                   'w': 960},\n",
      "                                                        'small': {'h': 323,\n",
      "                                                                  'resize': 'fit',\n",
      "                                                                  'w': 680},\n",
      "                                                        'thumb': {'h': 150,\n",
      "                                                                  'resize': 'crop',\n",
      "                                                                  'w': 150}},\n",
      "                                              'type': 'photo',\n",
      "                                              'url': 'https://t.co/XDv65ShEbG'}],\n",
      "                                   'symbols': [],\n",
      "                                   'urls': [{'display_url': 'buff.ly/2pYmNje',\n",
      "                                             'expanded_url': 'https://buff.ly/2pYmNje',\n",
      "                                             'indices': [104, 127],\n",
      "                                             'url': 'https://t.co/ke8memYKaQ'}],\n",
      "                                   'user_mentions': [{'id': 24414370,\n",
      "                                                      'id_str': '24414370',\n",
      "                                                      'indices': [5, 13],\n",
      "                                                      'name': 'Anno Saxenian',\n",
      "                                                      'screen_name': 'annosax'},\n",
      "                                                     {'id': 54711914,\n",
      "                                                      'id_str': '54711914',\n",
      "                                                      'indices': [131, 145],\n",
      "                                                      'name': 'Nicolas Colin '\n",
      "                                                              '🇪🇺',\n",
      "                                                      'screen_name': 'Nicolas_Colin'},\n",
      "                                                     {'id': 91478624,\n",
      "                                                      'id_str': '91478624',\n",
      "                                                      'indices': [146, 153],\n",
      "                                                      'name': 'Forbes',\n",
      "                                                      'screen_name': 'Forbes'},\n",
      "                                                     {'id': 176932593,\n",
      "                                                      'id_str': '176932593',\n",
      "                                                      'indices': [187, 198],\n",
      "                                                      'name': 'UC Berkeley',\n",
      "                                                      'screen_name': 'UCBerkeley'}]},\n",
      "                      'extended_entities': {'media': [{'display_url': 'pic.twitter.com/XDv65ShEbG',\n",
      "                                                       'expanded_url': 'https://twitter.com/BerkeleyISchool/status/1052351185112506368/photo/1',\n",
      "                                                       'id': 1052351182730129408,\n",
      "                                                       'id_str': '1052351182730129408',\n",
      "                                                       'indices': [199, 222],\n",
      "                                                       'media_url': 'http://pbs.twimg.com/media/Dpqz0zmXcAAL2gF.png',\n",
      "                                                       'media_url_https': 'https://pbs.twimg.com/media/Dpqz0zmXcAAL2gF.png',\n",
      "                                                       'sizes': {'large': {'h': 456,\n",
      "                                                                           'resize': 'fit',\n",
      "                                                                           'w': 960},\n",
      "                                                                 'medium': {'h': 456,\n",
      "                                                                            'resize': 'fit',\n",
      "                                                                            'w': 960},\n",
      "                                                                 'small': {'h': 323,\n",
      "                                                                           'resize': 'fit',\n",
      "                                                                           'w': 680},\n",
      "                                                                 'thumb': {'h': 150,\n",
      "                                                                           'resize': 'crop',\n",
      "                                                                           'w': 150}},\n",
      "                                                       'type': 'photo',\n",
      "                                                       'url': 'https://t.co/XDv65ShEbG'}]},\n",
      "                      'favorite_count': 9,\n",
      "                      'favorited': False,\n",
      "                      'full_text': 'Dean @annosax is one 3 women who have '\n",
      "                                   'authored key works to understand the '\n",
      "                                   'current Entrepreneurial Age. '\n",
      "                                   'https://t.co/ke8memYKaQ By @Nicolas_Colin '\n",
      "                                   '@Forbes #SiliconValley #Entrepreneurship '\n",
      "                                   '@UCBerkeley https://t.co/XDv65ShEbG',\n",
      "                      'geo': None,\n",
      "                      'id': 1052351185112506368,\n",
      "                      'id_str': '1052351185112506368',\n",
      "                      'in_reply_to_screen_name': None,\n",
      "                      'in_reply_to_status_id': None,\n",
      "                      'in_reply_to_status_id_str': None,\n",
      "                      'in_reply_to_user_id': None,\n",
      "                      'in_reply_to_user_id_str': None,\n",
      "                      'is_quote_status': False,\n",
      "                      'lang': 'en',\n",
      "                      'place': None,\n",
      "                      'possibly_sensitive': False,\n",
      "                      'retweet_count': 4,\n",
      "                      'retweeted': False,\n",
      "                      'source': '<a href=\"https://buffer.com\" '\n",
      "                                'rel=\"nofollow\">Buffer</a>',\n",
      "                      'truncated': False,\n",
      "                      'user': {'contributors_enabled': False,\n",
      "                               'created_at': 'Wed Mar 09 06:13:42 +0000 2011',\n",
      "                               'default_profile': False,\n",
      "                               'default_profile_image': False,\n",
      "                               'description': 'The UC Berkeley School of '\n",
      "                                              'Information is a '\n",
      "                                              'multi-disciplinary program '\n",
      "                                              'devoted to enhancing the '\n",
      "                                              'accessibility, usability, '\n",
      "                                              'credibility & security of '\n",
      "                                              'information.',\n",
      "                               'entities': {'description': {'urls': []},\n",
      "                                            'url': {'urls': [{'display_url': 'ischool.berkeley.edu',\n",
      "                                                              'expanded_url': 'http://ischool.berkeley.edu',\n",
      "                                                              'indices': [0,\n",
      "                                                                          23],\n",
      "                                                              'url': 'https://t.co/5eXJ0wN1Jd'}]}},\n",
      "                               'favourites_count': 3224,\n",
      "                               'follow_request_sent': False,\n",
      "                               'followers_count': 4978,\n",
      "                               'following': False,\n",
      "                               'friends_count': 650,\n",
      "                               'geo_enabled': True,\n",
      "                               'has_extended_profile': False,\n",
      "                               'id': 263020833,\n",
      "                               'id_str': '263020833',\n",
      "                               'is_translation_enabled': False,\n",
      "                               'is_translator': False,\n",
      "                               'lang': 'en',\n",
      "                               'listed_count': 218,\n",
      "                               'location': 'Berkeley, California, USA',\n",
      "                               'name': 'Berkeley School of Information',\n",
      "                               'notifications': False,\n",
      "                               'profile_background_color': '38628F',\n",
      "                               'profile_background_image_url': 'http://abs.twimg.com/images/themes/theme1/bg.png',\n",
      "                               'profile_background_image_url_https': 'https://abs.twimg.com/images/themes/theme1/bg.png',\n",
      "                               'profile_background_tile': False,\n",
      "                               'profile_banner_url': 'https://pbs.twimg.com/profile_banners/263020833/1520571883',\n",
      "                               'profile_image_url': 'http://pbs.twimg.com/profile_images/971975267764789254/eAmDOL2o_normal.jpg',\n",
      "                               'profile_image_url_https': 'https://pbs.twimg.com/profile_images/971975267764789254/eAmDOL2o_normal.jpg',\n",
      "                               'profile_link_color': '3B7EA1',\n",
      "                               'profile_sidebar_border_color': 'C0DEED',\n",
      "                               'profile_sidebar_fill_color': 'DDEEF6',\n",
      "                               'profile_text_color': '333333',\n",
      "                               'profile_use_background_image': True,\n",
      "                               'protected': False,\n",
      "                               'screen_name': 'BerkeleyISchool',\n",
      "                               'statuses_count': 3950,\n",
      "                               'time_zone': None,\n",
      "                               'translator_type': 'none',\n",
      "                               'url': 'https://t.co/5eXJ0wN1Jd',\n",
      "                               'utc_offset': None,\n",
      "                               'verified': False}},\n",
      " 'source': '<a href=\"http://twitter.com\" rel=\"nofollow\">Twitter Web Client</a>',\n",
      " 'truncated': False,\n",
      " 'user': {'contributors_enabled': False,\n",
      "          'created_at': 'Thu Feb 28 14:37:26 +0000 2013',\n",
      "          'default_profile': False,\n",
      "          'default_profile_image': False,\n",
      "          'description': 'An online Master of Information and Data Science '\n",
      "                         '(MIDS) degree from the UC Berkeley School of '\n",
      "                         'Information. Learn more at: http://t.co/zf6gfBWovQ',\n",
      "          'entities': {'description': {'urls': [{'display_url': 'bit.ly/tBerkeleyData',\n",
      "                                                 'expanded_url': 'http://bit.ly/tBerkeleyData',\n",
      "                                                 'indices': [122, 144],\n",
      "                                                 'url': 'http://t.co/zf6gfBWovQ'}]},\n",
      "                       'url': {'urls': [{'display_url': 'datascience.berkeley.edu',\n",
      "                                         'expanded_url': 'http://datascience.berkeley.edu',\n",
      "                                         'indices': [0, 22],\n",
      "                                         'url': 'http://t.co/S79Ul3oCaa'}]}},\n",
      "          'favourites_count': 172,\n",
      "          'follow_request_sent': False,\n",
      "          'followers_count': 11762,\n",
      "          'following': False,\n",
      "          'friends_count': 412,\n",
      "          'geo_enabled': False,\n",
      "          'has_extended_profile': False,\n",
      "          'id': 1227698863,\n",
      "          'id_str': '1227698863',\n",
      "          'is_translation_enabled': False,\n",
      "          'is_translator': False,\n",
      "          'lang': 'en',\n",
      "          'listed_count': 488,\n",
      "          'location': 'Berkeley, CA',\n",
      "          'name': 'datascience@berkeley',\n",
      "          'notifications': False,\n",
      "          'profile_background_color': 'CCCCCC',\n",
      "          'profile_background_image_url': 'http://abs.twimg.com/images/themes/theme1/bg.png',\n",
      "          'profile_background_image_url_https': 'https://abs.twimg.com/images/themes/theme1/bg.png',\n",
      "          'profile_background_tile': False,\n",
      "          'profile_banner_url': 'https://pbs.twimg.com/profile_banners/1227698863/1502212054',\n",
      "          'profile_image_url': 'http://pbs.twimg.com/profile_images/894968224973897728/lI8iiF3J_normal.jpg',\n",
      "          'profile_image_url_https': 'https://pbs.twimg.com/profile_images/894968224973897728/lI8iiF3J_normal.jpg',\n",
      "          'profile_link_color': '5173B6',\n",
      "          'profile_sidebar_border_color': 'FFFFFF',\n",
      "          'profile_sidebar_fill_color': 'DDEEF6',\n",
      "          'profile_text_color': '333333',\n",
      "          'profile_use_background_image': True,\n",
      "          'protected': False,\n",
      "          'screen_name': 'BerkeleyData',\n",
      "          'statuses_count': 2407,\n",
      "          'time_zone': None,\n",
      "          'translator_type': 'none',\n",
      "          'url': 'http://t.co/S79Ul3oCaa',\n",
      "          'utc_offset': None,\n",
      "          'verified': False}}\n"
     ]
    }
   ],
   "source": [
    "# Looking at one tweet object, which has type Status: \n",
    "from pprint import pprint # ...to get a more easily-readable view.\n",
    "pprint(example_tweets[0])"
   ]
  },
  {
   "cell_type": "markdown",
   "metadata": {
    "collapsed": true,
    "deletable": false,
    "editable": false,
    "nbgrader": {
     "cell_type": "markdown",
     "checksum": "43ce65ddda5bb1543856611dd2c536f9",
     "grade": false,
     "grade_id": "q2a",
     "locked": true,
     "schema_version": 2,
     "solution": false
    }
   },
   "source": [
    "## Question 2a\n",
    "\n",
    "### What you need to do. \n",
    "\n",
    "Re-factor the above code fragment into reusable snippets below.  You should not need to make major modifications; this is mostly an exercise in understanding the above code block. "
   ]
  },
  {
   "cell_type": "code",
   "execution_count": 9,
   "metadata": {
    "deletable": false,
    "nbgrader": {
     "cell_type": "code",
     "checksum": "bd6de9d61c340450539455afd0f8fdf3",
     "grade": false,
     "grade_id": "load-keys",
     "locked": false,
     "schema_version": 2,
     "solution": true
    },
    "tags": [
     "student"
    ]
   },
   "outputs": [],
   "source": [
    "def load_keys(path):\n",
    "    \"\"\"Loads your Twitter authentication keys from a file on disk.\n",
    "    \n",
    "    Args:\n",
    "        path (str): The path to your key file.  The file should\n",
    "          be in JSON format and look like this (but filled in):\n",
    "            {\n",
    "                \"consumer_key\": \"<your Consumer Key here>\",\n",
    "                \"consumer_secret\":  \"<your Consumer Secret here>\",\n",
    "                \"access_token\": \"<your Access Token here>\",\n",
    "                \"access_token_secret\": \"<your Access Token Secret here>\"\n",
    "            }\n",
    "    \n",
    "    Returns:\n",
    "        dict: A dictionary mapping key names (like \"consumer_key\") to\n",
    "          key values.\"\"\"\n",
    "    \n",
    "    # YOUR CODE HERE\n",
    "    with open(path, 'r') as f:\n",
    "        dictionary = json.load(f)\n",
    "    \n",
    "    return dictionary"
   ]
  },
  {
   "cell_type": "code",
   "execution_count": 10,
   "metadata": {
    "deletable": false,
    "nbgrader": {
     "cell_type": "code",
     "checksum": "76ff200bf064ab3f5c457bc4725d8cd8",
     "grade": false,
     "grade_id": "download-recent-tweets",
     "locked": false,
     "schema_version": 2,
     "solution": true
    },
    "tags": [
     "student"
    ]
   },
   "outputs": [],
   "source": [
    "def download_recent_tweets_by_user(user_account_name, keys):\n",
    "    \"\"\"Downloads tweets by one Twitter user.\n",
    "\n",
    "    Args:\n",
    "        user_account_name (str): The name of the Twitter account\n",
    "          whose tweets will be downloaded.\n",
    "        keys (dict): A Python dictionary with Twitter authentication\n",
    "          keys (strings), like this (but filled in):\n",
    "            {\n",
    "                \"consumer_key\": \"<your Consumer Key here>\",\n",
    "                \"consumer_secret\":  \"<your Consumer Secret here>\",\n",
    "                \"access_token\": \"<your Access Token here>\",\n",
    "                \"access_token_secret\": \"<your Access Token Secret here>\"\n",
    "            }\n",
    "\n",
    "    Returns:\n",
    "        list: A list of Dictonary objects, each representing one tweet.\"\"\"\n",
    "    import tweepy\n",
    "    from tweepy import TweepError\n",
    "    import logging\n",
    "\n",
    "    try:\n",
    "        auth = tweepy.OAuthHandler(keys[\"consumer_key\"], keys[\"consumer_secret\"])\n",
    "        auth.set_access_token(keys[\"access_token\"], keys[\"access_token_secret\"])\n",
    "        api = tweepy.API(auth)\n",
    "    except TweepError as e:\n",
    "        logging.warning(\"There was a Tweepy error. Double check your API keys and try again.\")\n",
    "        logging.warning(e)\n",
    "        \n",
    "    from pathlib import Path\n",
    "    import json\n",
    "    \n",
    "    tweets = [t._json for t in tweepy.Cursor(api.user_timeline, id=user_account_name, \n",
    "                                             tweet_mode='extended').items()]\n",
    "    return tweets\n",
    "    # YOUR CODE HERE"
   ]
  },
  {
   "cell_type": "code",
   "execution_count": 11,
   "metadata": {
    "deletable": false,
    "nbgrader": {
     "cell_type": "code",
     "checksum": "75d788899e9212031d95685b7ebb4505",
     "grade": false,
     "grade_id": "save-tweets",
     "locked": false,
     "schema_version": 2,
     "solution": true
    },
    "tags": [
     "student"
    ]
   },
   "outputs": [],
   "source": [
    "def save_tweets(tweets, path):\n",
    "    \"\"\"Saves a list of tweets to a file in the local filesystem.\n",
    "    \n",
    "    This function makes no guarantee about the format of the saved\n",
    "    tweets, **except** that calling load_tweets(path) after\n",
    "    save_tweets(tweets, path) will produce the same list of tweets\n",
    "    and that only the file at the given path is used to store the\n",
    "    tweets.  (That means you can implement this function however\n",
    "    you want, as long as saving and loading works!)\n",
    "\n",
    "    Args:\n",
    "        tweets (list): A list of tweet objects (of type Dictionary) to\n",
    "          be saved.\n",
    "        path (str): The place where the tweets will be saved.\n",
    "\n",
    "    Returns:\n",
    "        None\"\"\"\n",
    "    # YOUR CODE HERE\n",
    "    with open(path, \"w\") as f:        \n",
    "        json.dump(tweets, f)"
   ]
  },
  {
   "cell_type": "code",
   "execution_count": 12,
   "metadata": {
    "deletable": false,
    "nbgrader": {
     "cell_type": "code",
     "checksum": "31f5a74addf3b0211c65b0220160568c",
     "grade": false,
     "grade_id": "load-tweets",
     "locked": false,
     "schema_version": 2,
     "solution": true
    },
    "tags": [
     "student"
    ]
   },
   "outputs": [],
   "source": [
    "def load_tweets(path):\n",
    "    \"\"\"Loads tweets that have previously been saved.\n",
    "    \n",
    "    Calling load_tweets(path) after save_tweets(tweets, path)\n",
    "    will produce the same list of tweets.\n",
    "    \n",
    "    Args:\n",
    "        path (str): The place where the tweets were be saved.\n",
    "\n",
    "    Returns:\n",
    "        list: A list of Dictionary objects, each representing one tweet.\"\"\"\n",
    "    \n",
    "    # YOUR CODE HERE\n",
    "    with open(path, \"r\") as f:\n",
    "        tweets = json.load(f)\n",
    "    return tweets"
   ]
  },
  {
   "cell_type": "code",
   "execution_count": 13,
   "metadata": {
    "deletable": false,
    "nbgrader": {
     "cell_type": "code",
     "checksum": "2c2633d5128de6e4aadf225aa291118d",
     "grade": false,
     "grade_id": "get-tweets-with-cache",
     "locked": false,
     "schema_version": 2,
     "solution": true
    },
    "tags": [
     "student"
    ]
   },
   "outputs": [],
   "source": [
    "def get_tweets_with_cache(user_account_name, keys_path):\n",
    "    \"\"\"Get recent tweets from one user, loading from a disk cache if available.\n",
    "    \n",
    "    The first time you call this function, it will download tweets by\n",
    "    a user.  Subsequent calls will not re-download the tweets; instead\n",
    "    they'll load the tweets from a save file in your local filesystem.\n",
    "    All this is done using the functions you defined in the previous cell.\n",
    "    This has benefits and drawbacks that often appear when you cache data:\n",
    "    \n",
    "    +: Using this function will prevent extraneous usage of the Twitter API.\n",
    "    +: You will get your data much faster after the first time it's called.\n",
    "    -: If you really want to re-download the tweets (say, to get newer ones,\n",
    "       or because you screwed up something in the previous cell and your\n",
    "       tweets aren't what you wanted), you'll have to find the save file\n",
    "       (which will look like <something>_recent_tweets.pkl) and delete it.\n",
    "    \n",
    "    Args:\n",
    "        user_account_name (str): The Twitter handle of a user, without the @.\n",
    "        keys_path (str): The path to a JSON keys file in your filesystem.\n",
    "    \"\"\"\n",
    "    \n",
    "    # YOUR CODE HERE\n",
    "    tweet_save_path = user_account_name + \"_recent_tweets.json\"\n",
    "    keys = load_keys(keys_path)\n",
    "    \n",
    "    tweets = download_recent_tweets_by_user(user_account_name, keys)\n",
    "    \n",
    "    if not Path(tweet_save_path).is_file():\n",
    "        save_tweets(tweets, tweet_save_path)\n",
    "    \n",
    "    tweets = load_tweets(tweet_save_path)\n",
    "        \n",
    "    return tweets\n",
    "    \n",
    "        "
   ]
  },
  {
   "cell_type": "markdown",
   "metadata": {
    "deletable": false,
    "editable": false,
    "nbgrader": {
     "cell_type": "markdown",
     "checksum": "a2ddaff40134b8cf8f582c1df5db3883",
     "grade": false,
     "grade_id": "about-to-get-real",
     "locked": true,
     "schema_version": 2,
     "solution": false
    }
   },
   "source": [
    "If everything was implemented correctly you should be able to obtain roughly the last 3000 tweets by the `realdonaldtrump`.  (This may take a few minutes)"
   ]
  },
  {
   "cell_type": "code",
   "execution_count": 14,
   "metadata": {
    "deletable": false,
    "editable": false,
    "nbgrader": {
     "cell_type": "code",
     "checksum": "8ac3bb2120526571535abbe412929bfd",
     "grade": false,
     "grade_id": "trump-tweets",
     "locked": true,
     "schema_version": 2,
     "solution": false
    }
   },
   "outputs": [
    {
     "name": "stdout",
     "output_type": "stream",
     "text": [
      "Number of tweets downloaded: 3222\n"
     ]
    }
   ],
   "source": [
    "# When you are done, run this cell to load @realdonaldtrump's tweets.\n",
    "# Note the function get_tweets_with_cache.  You may find it useful\n",
    "# later.\n",
    "trump_tweets = get_tweets_with_cache(\"realdonaldtrump\", key_file)\n",
    "print(\"Number of tweets downloaded:\", len(trump_tweets))"
   ]
  },
  {
   "cell_type": "code",
   "execution_count": 15,
   "metadata": {
    "deletable": false,
    "editable": false,
    "nbgrader": {
     "cell_type": "code",
     "checksum": "afaf66b3188a4752b0271beed957ef6c",
     "grade": true,
     "grade_id": "trump-tweets-test",
     "locked": true,
     "points": 1,
     "schema_version": 2,
     "solution": false
    }
   },
   "outputs": [],
   "source": [
    "assert 2000 <= len(trump_tweets) <= 4000"
   ]
  },
  {
   "cell_type": "markdown",
   "metadata": {
    "deletable": false,
    "editable": false,
    "nbgrader": {
     "cell_type": "markdown",
     "checksum": "e991a5d45fd0eeebe8b1c6371a4019f9",
     "grade": false,
     "grade_id": "q2b",
     "locked": true,
     "schema_version": 2,
     "solution": false
    }
   },
   "source": [
    "### Question 2b\n",
    "\n",
    "We are limited to how many tweets we can download.  In what month is the oldest tweet from Trump?"
   ]
  },
  {
   "cell_type": "code",
   "execution_count": 16,
   "metadata": {
    "deletable": false,
    "nbgrader": {
     "cell_type": "code",
     "checksum": "1b46b55114772326e527b1dd67a17a8e",
     "grade": false,
     "grade_id": "oldest-month-question",
     "locked": false,
     "schema_version": 2,
     "solution": true
    }
   },
   "outputs": [
    {
     "data": {
      "text/plain": [
       "10"
      ]
     },
     "execution_count": 16,
     "metadata": {},
     "output_type": "execute_result"
    }
   ],
   "source": [
    "# Enter the number of the month of the oldest tweet (e.g. 1 for January)\n",
    "months = {'Jan': 1, 'Feb': 2, 'Mar': 3, 'Apr': 4, 'May': 5, 'June': 6, 'July': 7, 'Aug': 8, 'Sept': 9, 'Oct': 10, 'Nov': 11, 'Dec': 12 }\n",
    "oldest = trump_tweets[len(trump_tweets)-1]['created_at'][4:7]\n",
    "oldest_month = months[oldest]\n",
    "oldest_month\n",
    "\n",
    "# YOUR CODE HERE"
   ]
  },
  {
   "cell_type": "code",
   "execution_count": null,
   "metadata": {
    "deletable": false,
    "editable": false,
    "nbgrader": {
     "cell_type": "code",
     "checksum": "a1bc7ba95e8b2c50def1081519525604",
     "grade": true,
     "grade_id": "oldest-month-answer",
     "locked": true,
     "points": 1,
     "schema_version": 2,
     "solution": false
    }
   },
   "outputs": [],
   "source": []
  },
  {
   "cell_type": "markdown",
   "metadata": {
    "deletable": false,
    "editable": false,
    "nbgrader": {
     "cell_type": "markdown",
     "checksum": "06c75046cf9899a309ab35c11c403965",
     "grade": false,
     "grade_id": "q3",
     "locked": true,
     "schema_version": 2,
     "solution": false
    }
   },
   "source": [
    "\n",
    "## Question 3\n",
    "\n",
    "\n",
    "**IMPORTANT! PLEASE READ**\n",
    "\n",
    "Unfortunately, Twitter prevent us from going further back in time using the public APIs.  Fortunately, we have a snapshot of earlier tweets that we can combine with our new data.  \n",
    "\n",
    "We will again use the `fetch_and_cache` utility to download the dataset. "
   ]
  },
  {
   "cell_type": "code",
   "execution_count": 17,
   "metadata": {
    "deletable": false,
    "editable": false,
    "nbgrader": {
     "cell_type": "code",
     "checksum": "4ac0f2bbd264f78c5709e04bfaee390d",
     "grade": false,
     "grade_id": "download-data",
     "locked": true,
     "schema_version": 2,
     "solution": false
    }
   },
   "outputs": [
    {
     "name": "stdout",
     "output_type": "stream",
     "text": [
      "Using version already downloaded: Sat Oct 20 20:18:47 2018\n",
      "MD5 hash of file: b6e33874de91d1a40207cdf9f9b51a09\n",
      "Located at data/old_trump_tweets.json.zip\n"
     ]
    }
   ],
   "source": [
    "# Download the dataset\n",
    "from utils import fetch_and_cache\n",
    "data_url = 'http://www.ds100.org/fa18/assets/datasets/old_trump_tweets.json.zip'\n",
    "file_name = 'old_trump_tweets.json.zip'\n",
    "\n",
    "dest_path = fetch_and_cache(data_url=data_url, file=file_name)\n",
    "print(f'Located at {dest_path}')"
   ]
  },
  {
   "cell_type": "markdown",
   "metadata": {
    "deletable": false,
    "editable": false,
    "nbgrader": {
     "cell_type": "markdown",
     "checksum": "da803030a1c84a39afbb134dfb8b19fd",
     "grade": false,
     "grade_id": "loading-data-inst",
     "locked": true,
     "schema_version": 2,
     "solution": false
    }
   },
   "source": [
    "Finally, we we will load the tweets directly from the compressed file without decompressing it first."
   ]
  },
  {
   "cell_type": "code",
   "execution_count": 18,
   "metadata": {
    "deletable": false,
    "editable": false,
    "nbgrader": {
     "cell_type": "code",
     "checksum": "2f84519e987875b6b57d9cc5bae460cf",
     "grade": false,
     "grade_id": "loading-old-tweets",
     "locked": true,
     "schema_version": 2,
     "solution": false
    }
   },
   "outputs": [],
   "source": [
    "my_zip = zipfile.ZipFile(dest_path, 'r')\n",
    "with my_zip.open(\"old_trump_tweets.json\", \"r\") as f:\n",
    "    old_trump_tweets = json.load(f)"
   ]
  },
  {
   "cell_type": "markdown",
   "metadata": {
    "deletable": false,
    "editable": false,
    "nbgrader": {
     "cell_type": "markdown",
     "checksum": "8661fc27e5f1cdfce041efd3896ae838",
     "grade": false,
     "grade_id": "formatting-note",
     "locked": true,
     "schema_version": 2,
     "solution": false
    }
   },
   "source": [
    "This data is formatted identically to the recent tweets we just downloaded:"
   ]
  },
  {
   "cell_type": "code",
   "execution_count": 19,
   "metadata": {
    "deletable": false,
    "editable": false,
    "nbgrader": {
     "cell_type": "code",
     "checksum": "30d8ef8fa2c1b900a48779e6cf0320b6",
     "grade": false,
     "grade_id": "pprint-old-tweets",
     "locked": true,
     "schema_version": 2,
     "solution": false
    }
   },
   "outputs": [
    {
     "name": "stdout",
     "output_type": "stream",
     "text": [
      "{'contributors': None,\n",
      " 'coordinates': None,\n",
      " 'created_at': 'Wed Oct 12 14:00:48 +0000 2016',\n",
      " 'entities': {'hashtags': [{'indices': [23, 38], 'text': 'CrookedHillary'}],\n",
      "              'media': [{'display_url': 'pic.twitter.com/wjsl8ITVvk',\n",
      "                         'expanded_url': 'https://twitter.com/realDonaldTrump/status/786204978629185536/video/1',\n",
      "                         'id': 786204885318561792,\n",
      "                         'id_str': '786204885318561792',\n",
      "                         'indices': [39, 62],\n",
      "                         'media_url': 'http://pbs.twimg.com/ext_tw_video_thumb/786204885318561792/pu/img/XqMoixLm83FzkAbn.jpg',\n",
      "                         'media_url_https': 'https://pbs.twimg.com/ext_tw_video_thumb/786204885318561792/pu/img/XqMoixLm83FzkAbn.jpg',\n",
      "                         'sizes': {'large': {'h': 576,\n",
      "                                             'resize': 'fit',\n",
      "                                             'w': 1024},\n",
      "                                   'medium': {'h': 338,\n",
      "                                              'resize': 'fit',\n",
      "                                              'w': 600},\n",
      "                                   'small': {'h': 191,\n",
      "                                             'resize': 'fit',\n",
      "                                             'w': 340},\n",
      "                                   'thumb': {'h': 150,\n",
      "                                             'resize': 'crop',\n",
      "                                             'w': 150}},\n",
      "                         'type': 'photo',\n",
      "                         'url': 'https://t.co/wjsl8ITVvk'}],\n",
      "              'symbols': [],\n",
      "              'urls': [],\n",
      "              'user_mentions': []},\n",
      " 'extended_entities': {'media': [{'additional_media_info': {'monetizable': False},\n",
      "                                  'display_url': 'pic.twitter.com/wjsl8ITVvk',\n",
      "                                  'expanded_url': 'https://twitter.com/realDonaldTrump/status/786204978629185536/video/1',\n",
      "                                  'id': 786204885318561792,\n",
      "                                  'id_str': '786204885318561792',\n",
      "                                  'indices': [39, 62],\n",
      "                                  'media_url': 'http://pbs.twimg.com/ext_tw_video_thumb/786204885318561792/pu/img/XqMoixLm83FzkAbn.jpg',\n",
      "                                  'media_url_https': 'https://pbs.twimg.com/ext_tw_video_thumb/786204885318561792/pu/img/XqMoixLm83FzkAbn.jpg',\n",
      "                                  'sizes': {'large': {'h': 576,\n",
      "                                                      'resize': 'fit',\n",
      "                                                      'w': 1024},\n",
      "                                            'medium': {'h': 338,\n",
      "                                                       'resize': 'fit',\n",
      "                                                       'w': 600},\n",
      "                                            'small': {'h': 191,\n",
      "                                                      'resize': 'fit',\n",
      "                                                      'w': 340},\n",
      "                                            'thumb': {'h': 150,\n",
      "                                                      'resize': 'crop',\n",
      "                                                      'w': 150}},\n",
      "                                  'type': 'video',\n",
      "                                  'url': 'https://t.co/wjsl8ITVvk',\n",
      "                                  'video_info': {'aspect_ratio': [16, 9],\n",
      "                                                 'duration_millis': 30106,\n",
      "                                                 'variants': [{'bitrate': 832000,\n",
      "                                                               'content_type': 'video/mp4',\n",
      "                                                               'url': 'https://video.twimg.com/ext_tw_video/786204885318561792/pu/vid/640x360/6vt24D3ZQSvYuDqe.mp4'},\n",
      "                                                              {'bitrate': 2176000,\n",
      "                                                               'content_type': 'video/mp4',\n",
      "                                                               'url': 'https://video.twimg.com/ext_tw_video/786204885318561792/pu/vid/1280x720/rSbgQdvR9TPIlRWr.mp4'},\n",
      "                                                              {'bitrate': 320000,\n",
      "                                                               'content_type': 'video/mp4',\n",
      "                                                               'url': 'https://video.twimg.com/ext_tw_video/786204885318561792/pu/vid/320x180/JuNJDqr1KHqoP83N.mp4'},\n",
      "                                                              {'content_type': 'application/x-mpegURL',\n",
      "                                                               'url': 'https://video.twimg.com/ext_tw_video/786204885318561792/pu/pl/IugUNii3a7lmjApS.m3u8'}]}}]},\n",
      " 'favorite_count': 42242,\n",
      " 'favorited': False,\n",
      " 'geo': None,\n",
      " 'id': 786204978629185536,\n",
      " 'id_str': '786204978629185536',\n",
      " 'in_reply_to_screen_name': None,\n",
      " 'in_reply_to_status_id': None,\n",
      " 'in_reply_to_status_id_str': None,\n",
      " 'in_reply_to_user_id': None,\n",
      " 'in_reply_to_user_id_str': None,\n",
      " 'is_quote_status': False,\n",
      " 'lang': 'en',\n",
      " 'place': {'attributes': {},\n",
      "           'bounding_box': {'coordinates': [[[-87.634643, 24.396308],\n",
      "                                             [-79.974307, 24.396308],\n",
      "                                             [-79.974307, 31.001056],\n",
      "                                             [-87.634643, 31.001056]]],\n",
      "                            'type': 'Polygon'},\n",
      "           'contained_within': [],\n",
      "           'country': 'United States',\n",
      "           'country_code': 'US',\n",
      "           'full_name': 'Florida, USA',\n",
      "           'id': '4ec01c9dbc693497',\n",
      "           'name': 'Florida',\n",
      "           'place_type': 'admin',\n",
      "           'url': 'https://api.twitter.com/1.1/geo/id/4ec01c9dbc693497.json'},\n",
      " 'possibly_sensitive': False,\n",
      " 'retweet_count': 24915,\n",
      " 'retweeted': False,\n",
      " 'source': '<a href=\"http://twitter.com/download/iphone\" '\n",
      "           'rel=\"nofollow\">Twitter for iPhone</a>',\n",
      " 'text': 'PAY TO PLAY POLITICS. \\n#CrookedHillary https://t.co/wjsl8ITVvk',\n",
      " 'truncated': False,\n",
      " 'user': {'contributors_enabled': False,\n",
      "          'created_at': 'Wed Mar 18 13:46:38 +0000 2009',\n",
      "          'default_profile': False,\n",
      "          'default_profile_image': False,\n",
      "          'description': '45th President of the United States of America🇺🇸',\n",
      "          'entities': {'description': {'urls': []}},\n",
      "          'favourites_count': 12,\n",
      "          'follow_request_sent': False,\n",
      "          'followers_count': 35307313,\n",
      "          'following': False,\n",
      "          'friends_count': 45,\n",
      "          'geo_enabled': True,\n",
      "          'has_extended_profile': False,\n",
      "          'id': 25073877,\n",
      "          'id_str': '25073877',\n",
      "          'is_translation_enabled': True,\n",
      "          'is_translator': False,\n",
      "          'lang': 'en',\n",
      "          'listed_count': 74225,\n",
      "          'location': 'Washington, DC',\n",
      "          'name': 'Donald J. Trump',\n",
      "          'notifications': False,\n",
      "          'profile_background_color': '6D5C18',\n",
      "          'profile_background_image_url': 'http://pbs.twimg.com/profile_background_images/530021613/trump_scotland__43_of_70_cc.jpg',\n",
      "          'profile_background_image_url_https': 'https://pbs.twimg.com/profile_background_images/530021613/trump_scotland__43_of_70_cc.jpg',\n",
      "          'profile_background_tile': True,\n",
      "          'profile_banner_url': 'https://pbs.twimg.com/profile_banners/25073877/1501916634',\n",
      "          'profile_image_url': 'http://pbs.twimg.com/profile_images/874276197357596672/kUuht00m_normal.jpg',\n",
      "          'profile_image_url_https': 'https://pbs.twimg.com/profile_images/874276197357596672/kUuht00m_normal.jpg',\n",
      "          'profile_link_color': '1B95E0',\n",
      "          'profile_sidebar_border_color': 'BDDCAD',\n",
      "          'profile_sidebar_fill_color': 'C5CEC0',\n",
      "          'profile_text_color': '333333',\n",
      "          'profile_use_background_image': True,\n",
      "          'protected': False,\n",
      "          'screen_name': 'realDonaldTrump',\n",
      "          'statuses_count': 35480,\n",
      "          'time_zone': 'Eastern Time (US & Canada)',\n",
      "          'translator_type': 'regular',\n",
      "          'url': None,\n",
      "          'utc_offset': -14400,\n",
      "          'verified': True}}\n"
     ]
    }
   ],
   "source": [
    "pprint(old_trump_tweets[0])"
   ]
  },
  {
   "cell_type": "markdown",
   "metadata": {
    "deletable": false,
    "editable": false,
    "nbgrader": {
     "cell_type": "markdown",
     "checksum": "15f652a6c9d0626c82b34be4253b2333",
     "grade": false,
     "grade_id": "listing-keys-inst",
     "locked": true,
     "schema_version": 2,
     "solution": false
    }
   },
   "source": [
    "As a dictionary we can also list the keys:"
   ]
  },
  {
   "cell_type": "code",
   "execution_count": 20,
   "metadata": {
    "deletable": false,
    "editable": false,
    "nbgrader": {
     "cell_type": "code",
     "checksum": "c88eaf1ba38e6c52151ad6a2922216c0",
     "grade": false,
     "grade_id": "listing-keys",
     "locked": true,
     "schema_version": 2,
     "solution": false
    }
   },
   "outputs": [
    {
     "data": {
      "text/plain": [
       "dict_keys(['created_at', 'id', 'id_str', 'text', 'truncated', 'entities', 'extended_entities', 'source', 'in_reply_to_status_id', 'in_reply_to_status_id_str', 'in_reply_to_user_id', 'in_reply_to_user_id_str', 'in_reply_to_screen_name', 'user', 'geo', 'coordinates', 'place', 'contributors', 'is_quote_status', 'retweet_count', 'favorite_count', 'favorited', 'retweeted', 'possibly_sensitive', 'lang'])"
      ]
     },
     "execution_count": 20,
     "metadata": {},
     "output_type": "execute_result"
    }
   ],
   "source": [
    "old_trump_tweets[0].keys()"
   ]
  },
  {
   "cell_type": "markdown",
   "metadata": {},
   "source": [
    "Since we're giving you a zipfile of old tweets, you may wonder why we didn't just give you a zipfile of ALL tweets and save you the trouble of creating a Twitter developer account. The reason is that we wanted you to see what it's like to collect data from the real world on your own. It can be a pain!"
   ]
  },
  {
   "cell_type": "markdown",
   "metadata": {
    "deletable": false,
    "editable": false,
    "nbgrader": {
     "cell_type": "markdown",
     "checksum": "b40bfbf5e74ba5af630326ab7a77c98c",
     "grade": false,
     "grade_id": "q3a",
     "locked": true,
     "schema_version": 2,
     "solution": false
    }
   },
   "source": [
    "### Question 3a\n",
    "\n",
    "Merge the `old_trump_tweets` and the `trump_tweets` we downloaded from twitter into one giant list of tweets. \n",
    "\n",
    "**Important:** There may be some overlap so be sure to eliminate duplicate tweets.  \n",
    "**Hint:** the `id` of a tweet is always unique."
   ]
  },
  {
   "cell_type": "code",
   "execution_count": 21,
   "metadata": {
    "deletable": false,
    "nbgrader": {
     "cell_type": "code",
     "checksum": "cfff2cf8e110d51cb3dbb7f5086b9be4",
     "grade": false,
     "grade_id": "q3a-answer",
     "locked": false,
     "schema_version": 2,
     "solution": true
    }
   },
   "outputs": [],
   "source": [
    "old_ids = set()\n",
    "for old_tweet in old_trump_tweets:\n",
    "    old_ids.add(old_tweet['id'])\n",
    "\n",
    "new_ids = set()\n",
    "for tweet in trump_tweets: \n",
    "    new_ids.add(tweet['id'])\n",
    "\n",
    "no_duplicates = old_ids - new_ids\n",
    "        \n",
    "old_tweets = [old_tweet for old_tweet in old_trump_tweets if old_tweet['id'] in no_duplicates]\n",
    "\n",
    "\n",
    "all_tweets =  old_tweets + trump_tweets\n",
    "\n",
    "# YOUR CODE HERE"
   ]
  },
  {
   "cell_type": "code",
   "execution_count": 22,
   "metadata": {
    "deletable": false,
    "editable": false,
    "nbgrader": {
     "cell_type": "code",
     "checksum": "7a21da10aa86da615b340c8edb2973c3",
     "grade": true,
     "grade_id": "q3a-test",
     "locked": true,
     "points": 2,
     "schema_version": 2,
     "solution": false
    }
   },
   "outputs": [],
   "source": [
    "assert len(all_tweets) > len(trump_tweets)\n",
    "assert len(all_tweets) > len(old_trump_tweets)"
   ]
  },
  {
   "cell_type": "markdown",
   "metadata": {
    "deletable": false,
    "editable": false,
    "nbgrader": {
     "cell_type": "markdown",
     "checksum": "532cecf04260fcadca43ce63bf296d5d",
     "grade": false,
     "grade_id": "q3b",
     "locked": true,
     "schema_version": 2,
     "solution": false
    }
   },
   "source": [
    "### Question 3b\n",
    "\n",
    "Construct a DataFrame called `trump` containing all the tweets stored in `all_tweets`. The index of the dataframe should be the ID of each tweet (looks something like `907698529606541312`). It should have these columns:\n",
    "\n",
    "- `time`: The time the tweet was created encoded as a datetime object. (Use `pd.to_datetime` to encode the timestamp.)\n",
    "- `source`: The source device of the tweet.\n",
    "- `text`: The text of the tweet.\n",
    "- `retweet_count`: The retweet count of the tweet. \n",
    "\n",
    "Finally, **the resulting dataframe should be sorted by the index.**\n",
    "\n",
    "**Warning:** *Some tweets will store the text in the `text` field and other will use the `full_text` field.*"
   ]
  },
  {
   "cell_type": "code",
   "execution_count": 23,
   "metadata": {
    "deletable": false,
    "nbgrader": {
     "cell_type": "code",
     "checksum": "dbbe93f4346b0c4ce93681c2c7d06078",
     "grade": false,
     "grade_id": "q3b-answer",
     "locked": false,
     "schema_version": 2,
     "solution": true
    },
    "tags": [
     "student"
    ]
   },
   "outputs": [
    {
     "data": {
      "text/html": [
       "<div>\n",
       "<style scoped>\n",
       "    .dataframe tbody tr th:only-of-type {\n",
       "        vertical-align: middle;\n",
       "    }\n",
       "\n",
       "    .dataframe tbody tr th {\n",
       "        vertical-align: top;\n",
       "    }\n",
       "\n",
       "    .dataframe thead th {\n",
       "        text-align: right;\n",
       "    }\n",
       "</style>\n",
       "<table border=\"1\" class=\"dataframe\">\n",
       "  <thead>\n",
       "    <tr style=\"text-align: right;\">\n",
       "      <th></th>\n",
       "      <th>time</th>\n",
       "      <th>source</th>\n",
       "      <th>text</th>\n",
       "      <th>retweet_count</th>\n",
       "    </tr>\n",
       "    <tr>\n",
       "      <th>id</th>\n",
       "      <th></th>\n",
       "      <th></th>\n",
       "      <th></th>\n",
       "      <th></th>\n",
       "    </tr>\n",
       "  </thead>\n",
       "  <tbody>\n",
       "    <tr>\n",
       "      <th>690171032150237184</th>\n",
       "      <td>2016-01-21 13:56:11</td>\n",
       "      <td>&lt;a href=\"http://twitter.com/download/android\" rel=\"nofollow\"&gt;Twitter for Android&lt;/a&gt;</td>\n",
       "      <td>\"@bigop1: @realDonaldTrump  @SarahPalinUSA https://t.co/3kYQGqeVyD\"</td>\n",
       "      <td>1059</td>\n",
       "    </tr>\n",
       "    <tr>\n",
       "      <th>690171403388104704</th>\n",
       "      <td>2016-01-21 13:57:39</td>\n",
       "      <td>&lt;a href=\"http://twitter.com/download/android\" rel=\"nofollow\"&gt;Twitter for Android&lt;/a&gt;</td>\n",
       "      <td>\"@AmericanAsPie:  @glennbeck @SarahPalinUSA Remember when Glenn gave out gifts to ILLEGAL ALIENS at crossing the border? Me too!\"</td>\n",
       "      <td>1339</td>\n",
       "    </tr>\n",
       "    <tr>\n",
       "      <th>690173226341691392</th>\n",
       "      <td>2016-01-21 14:04:54</td>\n",
       "      <td>&lt;a href=\"http://twitter.com/download/android\" rel=\"nofollow\"&gt;Twitter for Android&lt;/a&gt;</td>\n",
       "      <td>So sad that @CNN and many others refused to show the massive crowd at the arena yesterday in Oklahoma. Dishonest reporting!</td>\n",
       "      <td>2006</td>\n",
       "    </tr>\n",
       "    <tr>\n",
       "      <th>690176882055114758</th>\n",
       "      <td>2016-01-21 14:19:26</td>\n",
       "      <td>&lt;a href=\"http://twitter.com/download/android\" rel=\"nofollow\"&gt;Twitter for Android&lt;/a&gt;</td>\n",
       "      <td>Sad sack @JebBush has just done another ad on me, with special interest money, saying I won't beat Hillary - I WILL. But he can't beat me.</td>\n",
       "      <td>2266</td>\n",
       "    </tr>\n",
       "    <tr>\n",
       "      <th>690180284189310976</th>\n",
       "      <td>2016-01-21 14:32:57</td>\n",
       "      <td>&lt;a href=\"http://twitter.com/download/android\" rel=\"nofollow\"&gt;Twitter for Android&lt;/a&gt;</td>\n",
       "      <td>Low energy candidate @JebBush has wasted $80 million on his failed presidential campaign. Millions spent on me. He should go home and relax!</td>\n",
       "      <td>2886</td>\n",
       "    </tr>\n",
       "    <tr>\n",
       "      <th>690271688127213568</th>\n",
       "      <td>2016-01-21 20:36:09</td>\n",
       "      <td>&lt;a href=\"http://twitter.com/download/iphone\" rel=\"nofollow\"&gt;Twitter for iPhone&lt;/a&gt;</td>\n",
       "      <td>New Day on CNN treats me very badly. @AlisynCamerota is a disaster. Not going to watch anymore.</td>\n",
       "      <td>1429</td>\n",
       "    </tr>\n",
       "    <tr>\n",
       "      <th>690272687168458754</th>\n",
       "      <td>2016-01-21 20:40:07</td>\n",
       "      <td>&lt;a href=\"http://twitter.com/download/android\" rel=\"nofollow\"&gt;Twitter for Android&lt;/a&gt;</td>\n",
       "      <td>Happy birthday to my friend, the great @jacknicklaus - a totally special guy!</td>\n",
       "      <td>1053</td>\n",
       "    </tr>\n",
       "    <tr>\n",
       "      <th>690313350278819840</th>\n",
       "      <td>2016-01-21 23:21:42</td>\n",
       "      <td>&lt;a href=\"http://twitter.com/download/iphone\" rel=\"nofollow\"&gt;Twitter for iPhone&lt;/a&gt;</td>\n",
       "      <td>Thank you, Iowa! #Trump2016 https://t.co/ryhEheTLqN</td>\n",
       "      <td>2329</td>\n",
       "    </tr>\n",
       "    <tr>\n",
       "      <th>690315202261155840</th>\n",
       "      <td>2016-01-21 23:29:04</td>\n",
       "      <td>&lt;a href=\"http://twitter.com/download/iphone\" rel=\"nofollow\"&gt;Twitter for iPhone&lt;/a&gt;</td>\n",
       "      <td>Thank you! #Trump2016 https://t.co/pcdmyIO1Zt</td>\n",
       "      <td>1463</td>\n",
       "    </tr>\n",
       "    <tr>\n",
       "      <th>690315366564626433</th>\n",
       "      <td>2016-01-21 23:29:43</td>\n",
       "      <td>&lt;a href=\"http://twitter.com/download/iphone\" rel=\"nofollow\"&gt;Twitter for iPhone&lt;/a&gt;</td>\n",
       "      <td>Thank you, New Hampshire!\\n#Trump2016 https://t.co/TG9oZKly4l</td>\n",
       "      <td>1761</td>\n",
       "    </tr>\n",
       "    <tr>\n",
       "      <th>690315667636023296</th>\n",
       "      <td>2016-01-21 23:30:55</td>\n",
       "      <td>&lt;a href=\"http://twitter.com/download/iphone\" rel=\"nofollow\"&gt;Twitter for iPhone&lt;/a&gt;</td>\n",
       "      <td>#Trump2016 #MakeAmericaGreatAgain https://t.co/vfUwGIGjN4</td>\n",
       "      <td>2217</td>\n",
       "    </tr>\n",
       "    <tr>\n",
       "      <th>690336644281581568</th>\n",
       "      <td>2016-01-22 00:54:16</td>\n",
       "      <td>&lt;a href=\"http://twitter.com/download/iphone\" rel=\"nofollow\"&gt;Twitter for iPhone&lt;/a&gt;</td>\n",
       "      <td>Why does @Greta have a fired Bushy like dummy, John Sununu on- spewing false info? I will beat Hillary by a lot, she wants no part of Trump.</td>\n",
       "      <td>1576</td>\n",
       "    </tr>\n",
       "    <tr>\n",
       "      <th>690337376061788161</th>\n",
       "      <td>2016-01-22 00:57:10</td>\n",
       "      <td>&lt;a href=\"http://twitter.com/download/iphone\" rel=\"nofollow\"&gt;Twitter for iPhone&lt;/a&gt;</td>\n",
       "      <td>Thank you, Iowa! #FITN #IACaucus\\n#MakeAmericaGreatAgain #Trump2016 https://t.co/wVJldvTSag</td>\n",
       "      <td>2422</td>\n",
       "    </tr>\n",
       "    <tr>\n",
       "      <th>690382564494839809</th>\n",
       "      <td>2016-01-22 03:56:44</td>\n",
       "      <td>&lt;a href=\"http://twitter.com/download/iphone\" rel=\"nofollow\"&gt;Twitter for iPhone&lt;/a&gt;</td>\n",
       "      <td>National Review is a failing publication that has lost it's way. It's circulation is way down w its influence being at an all time low. Sad!</td>\n",
       "      <td>2187</td>\n",
       "    </tr>\n",
       "    <tr>\n",
       "      <th>690382619213742082</th>\n",
       "      <td>2016-01-22 03:56:57</td>\n",
       "      <td>&lt;a href=\"http://twitter.com/download/iphone\" rel=\"nofollow\"&gt;Twitter for iPhone&lt;/a&gt;</td>\n",
       "      <td>Very few people read the National Review because it only knows how to criticize, but not how to lead.</td>\n",
       "      <td>1817</td>\n",
       "    </tr>\n",
       "    <tr>\n",
       "      <th>690382722162913280</th>\n",
       "      <td>2016-01-22 03:57:22</td>\n",
       "      <td>&lt;a href=\"http://twitter.com/download/iphone\" rel=\"nofollow\"&gt;Twitter for iPhone&lt;/a&gt;</td>\n",
       "      <td>The late, great, William F. Buckley would be ashamed of what had happened to his prize, the dying National Review!</td>\n",
       "      <td>2236</td>\n",
       "    </tr>\n",
       "    <tr>\n",
       "      <th>690404308010057728</th>\n",
       "      <td>2016-01-22 05:23:08</td>\n",
       "      <td>&lt;a href=\"http://twitter.com/download/iphone\" rel=\"nofollow\"&gt;Twitter for iPhone&lt;/a&gt;</td>\n",
       "      <td>RT @williebosshog: Make America Great Again! #Trump2016 https://t.co/1h5j4DZDgy</td>\n",
       "      <td>9144</td>\n",
       "    </tr>\n",
       "    <tr>\n",
       "      <th>690528062190944256</th>\n",
       "      <td>2016-01-22 13:34:54</td>\n",
       "      <td>&lt;a href=\"http://twitter.com/download/android\" rel=\"nofollow\"&gt;Twitter for Android&lt;/a&gt;</td>\n",
       "      <td>Ted Cruz complains about my views on eminent domain, but without it we wouldn't have roads, highways, airports, schools or even pipelines.</td>\n",
       "      <td>1595</td>\n",
       "    </tr>\n",
       "    <tr>\n",
       "      <th>690528407117889538</th>\n",
       "      <td>2016-01-22 13:36:16</td>\n",
       "      <td>&lt;a href=\"http://twitter.com/download/android\" rel=\"nofollow\"&gt;Twitter for Android&lt;/a&gt;</td>\n",
       "      <td>\"@realOllieTaylor:  Isn't it time we had a president? Let goofy Glen keep Canada Cruz who can't win. The American people have Trump!\"</td>\n",
       "      <td>909</td>\n",
       "    </tr>\n",
       "    <tr>\n",
       "      <th>690528526181601281</th>\n",
       "      <td>2016-01-22 13:36:44</td>\n",
       "      <td>&lt;a href=\"http://twitter.com/download/android\" rel=\"nofollow\"&gt;Twitter for Android&lt;/a&gt;</td>\n",
       "      <td>\"@BornToBeGOP: @realDonaldTrump No sleep for the #TrumpTrain!\"</td>\n",
       "      <td>676</td>\n",
       "    </tr>\n",
       "    <tr>\n",
       "      <th>690529122326413314</th>\n",
       "      <td>2016-01-22 13:39:06</td>\n",
       "      <td>&lt;a href=\"http://twitter.com/download/android\" rel=\"nofollow\"&gt;Twitter for Android&lt;/a&gt;</td>\n",
       "      <td>\"@NeilTurner_: @realDonaldTrump https://t.co/uvn95NB6M0 With your help we can #MakeAmericaGreatAgain! #VoteTrump\"</td>\n",
       "      <td>773</td>\n",
       "    </tr>\n",
       "    <tr>\n",
       "      <th>690529690205818880</th>\n",
       "      <td>2016-01-22 13:41:22</td>\n",
       "      <td>&lt;a href=\"http://twitter.com/download/android\" rel=\"nofollow\"&gt;Twitter for Android&lt;/a&gt;</td>\n",
       "      <td>#TedCruz eligibility to be President not settled law, says Cruz' Constitutional Law Professor, #LaurenceTribe https://t.co/GWKoJsBINZ\"</td>\n",
       "      <td>753</td>\n",
       "    </tr>\n",
       "    <tr>\n",
       "      <th>690530164711624705</th>\n",
       "      <td>2016-01-22 13:43:15</td>\n",
       "      <td>&lt;a href=\"http://twitter.com/download/android\" rel=\"nofollow\"&gt;Twitter for Android&lt;/a&gt;</td>\n",
       "      <td>\"@TruBluMajority: #laurencetribe calls Cruz \"constitutional hypocrite\" on @WBUR https://t.co/qRFINtcJlX @pbsgwen @charlierose @jaketapper</td>\n",
       "      <td>637</td>\n",
       "    </tr>\n",
       "    <tr>\n",
       "      <th>690532959363866625</th>\n",
       "      <td>2016-01-22 13:54:21</td>\n",
       "      <td>&lt;a href=\"http://twitter.com/download/android\" rel=\"nofollow\"&gt;Twitter for Android&lt;/a&gt;</td>\n",
       "      <td>Highly respected Constitutional law professor Mary Brigid McManamon has just stated, \"Ted Cruz is not eligible to be President.\" Big problem</td>\n",
       "      <td>1937</td>\n",
       "    </tr>\n",
       "    <tr>\n",
       "      <th>690534215478173697</th>\n",
       "      <td>2016-01-22 13:59:21</td>\n",
       "      <td>&lt;a href=\"http://twitter.com/download/android\" rel=\"nofollow\"&gt;Twitter for Android&lt;/a&gt;</td>\n",
       "      <td>\"@D: #MaryBrigidMcManamon, Washington Post: Constitutionally speaking, #Cruz simply isn’t eligible to be president https://t.co/DBtTgsC1il\"</td>\n",
       "      <td>875</td>\n",
       "    </tr>\n",
       "    <tr>\n",
       "      <th>690534576066719744</th>\n",
       "      <td>2016-01-22 14:00:47</td>\n",
       "      <td>&lt;a href=\"http://twitter.com/download/android\" rel=\"nofollow\"&gt;Twitter for Android&lt;/a&gt;</td>\n",
       "      <td>\"@CyberCiety: #MaryBrigidMcManamon clarified how #CommonLaw is used to interpret meaning of #NaturalBorn #TedCruz https://t.co/5y6SZrTdGr\"</td>\n",
       "      <td>799</td>\n",
       "    </tr>\n",
       "    <tr>\n",
       "      <th>690537121916923904</th>\n",
       "      <td>2016-01-22 14:10:54</td>\n",
       "      <td>&lt;a href=\"http://twitter.com/download/android\" rel=\"nofollow\"&gt;Twitter for Android&lt;/a&gt;</td>\n",
       "      <td>\"@MiamiNewTimes: Poll: Trump has more support in Florida than Rubio and Bush combined. https://t.co/uvH2BKQRHf https://t.co/2tvIaa2aFr\"</td>\n",
       "      <td>1738</td>\n",
       "    </tr>\n",
       "    <tr>\n",
       "      <th>690540484154896384</th>\n",
       "      <td>2016-01-22 14:24:15</td>\n",
       "      <td>&lt;a href=\"http://twitter.com/download/android\" rel=\"nofollow\"&gt;Twitter for Android&lt;/a&gt;</td>\n",
       "      <td>The failing @NRO National Review Magazine has just been informed by the Republican National Committee that they cannot participate in debate</td>\n",
       "      <td>2116</td>\n",
       "    </tr>\n",
       "    <tr>\n",
       "      <th>690560125916975104</th>\n",
       "      <td>2016-01-22 15:42:18</td>\n",
       "      <td>&lt;a href=\"http://twitter.com/download/android\" rel=\"nofollow\"&gt;Twitter for Android&lt;/a&gt;</td>\n",
       "      <td>After spending $89 million, @JebBush is at the bottom of the barrel in polls. He is ashamed to use the name \"Bush\" in ads. Low energy guy!</td>\n",
       "      <td>1661</td>\n",
       "    </tr>\n",
       "    <tr>\n",
       "      <th>690560942430523392</th>\n",
       "      <td>2016-01-22 15:45:33</td>\n",
       "      <td>&lt;a href=\"http://twitter.com/download/android\" rel=\"nofollow\"&gt;Twitter for Android&lt;/a&gt;</td>\n",
       "      <td>\"@Lisa_Milicaj: Truth be told, I  never heard of The National Review until they \"tried\" to declare war on you. No worries, you got my vote!\"</td>\n",
       "      <td>1110</td>\n",
       "    </tr>\n",
       "    <tr>\n",
       "      <th>...</th>\n",
       "      <td>...</td>\n",
       "      <td>...</td>\n",
       "      <td>...</td>\n",
       "      <td>...</td>\n",
       "    </tr>\n",
       "    <tr>\n",
       "      <th>1052947510271111170</th>\n",
       "      <td>2018-10-18 15:40:23</td>\n",
       "      <td>&lt;a href=\"http://twitter.com/download/iphone\" rel=\"nofollow\"&gt;Twitter for iPhone&lt;/a&gt;</td>\n",
       "      <td>...the Crown Prince. He is waiting for the results of the investigations being done by the Saudis and Turkey, and just gave a news conference to that effect.</td>\n",
       "      <td>7497</td>\n",
       "    </tr>\n",
       "    <tr>\n",
       "      <th>1052950726907969536</th>\n",
       "      <td>2018-10-18 15:53:10</td>\n",
       "      <td>&lt;a href=\"http://twitter.com/download/iphone\" rel=\"nofollow\"&gt;Twitter for iPhone&lt;/a&gt;</td>\n",
       "      <td>.@StateDept @SecPompeo outside of the West Wing after our meeting this morning in the Oval Office... https://t.co/4GrmMdOhS1</td>\n",
       "      <td>8560</td>\n",
       "    </tr>\n",
       "    <tr>\n",
       "      <th>1052964059056885760</th>\n",
       "      <td>2018-10-18 16:46:09</td>\n",
       "      <td>&lt;a href=\"http://twitter.com/download/iphone\" rel=\"nofollow\"&gt;Twitter for iPhone&lt;/a&gt;</td>\n",
       "      <td>See you tonight Missoula, Montana! #MAGARally🇺🇸https://t.co/2HZ66y4BS7</td>\n",
       "      <td>9694</td>\n",
       "    </tr>\n",
       "    <tr>\n",
       "      <th>1053008701026693122</th>\n",
       "      <td>2018-10-18 19:43:32</td>\n",
       "      <td>&lt;a href=\"http://twitter.com/download/iphone\" rel=\"nofollow\"&gt;Twitter for iPhone&lt;/a&gt;</td>\n",
       "      <td>All Republicans support people with pre-existing conditions, and if they don’t, they will after I speak to them. I am in total support. Also, Democrats will destroy your Medicare, and I will keep it healthy and well!</td>\n",
       "      <td>25391</td>\n",
       "    </tr>\n",
       "    <tr>\n",
       "      <th>1053013864244219904</th>\n",
       "      <td>2018-10-18 20:04:03</td>\n",
       "      <td>&lt;a href=\"http://twitter.com/download/iphone\" rel=\"nofollow\"&gt;Twitter for iPhone&lt;/a&gt;</td>\n",
       "      <td>Can you believe this, and what Democrats are allowing to be done to our Country? https://t.co/4aDpASkjIU</td>\n",
       "      <td>25412</td>\n",
       "    </tr>\n",
       "    <tr>\n",
       "      <th>1053033702253424640</th>\n",
       "      <td>2018-10-18 21:22:53</td>\n",
       "      <td>&lt;a href=\"http://twitter.com/download/iphone\" rel=\"nofollow\"&gt;Twitter for iPhone&lt;/a&gt;</td>\n",
       "      <td>Look forward to being there. Something’s happening! #MAGA https://t.co/Cev7giQexE</td>\n",
       "      <td>13690</td>\n",
       "    </tr>\n",
       "    <tr>\n",
       "      <th>1053056054295113728</th>\n",
       "      <td>2018-10-18 22:51:42</td>\n",
       "      <td>&lt;a href=\"http://twitter.com/download/iphone\" rel=\"nofollow\"&gt;Twitter for iPhone&lt;/a&gt;</td>\n",
       "      <td>Thank you Mexico, we look forward to working with you! https://t.co/wf7sE0DHFT</td>\n",
       "      <td>21925</td>\n",
       "    </tr>\n",
       "    <tr>\n",
       "      <th>1053070661302669312</th>\n",
       "      <td>2018-10-18 23:49:45</td>\n",
       "      <td>&lt;a href=\"http://twitter.com/download/iphone\" rel=\"nofollow\"&gt;Twitter for iPhone&lt;/a&gt;</td>\n",
       "      <td>Prime Minister @AbeShinzo of Japan has been working with me to help balance out the one-sided Trade with Japan. These are some of the investments they are making in our Country - just the beginning! https://t.co/ib2yB3Akkt</td>\n",
       "      <td>13353</td>\n",
       "    </tr>\n",
       "    <tr>\n",
       "      <th>1053074465150578688</th>\n",
       "      <td>2018-10-19 00:04:52</td>\n",
       "      <td>&lt;a href=\"http://twitter.com/download/iphone\" rel=\"nofollow\"&gt;Twitter for iPhone&lt;/a&gt;</td>\n",
       "      <td>Will be landing soon. Looking forward to seeing our next Senator from Montana, Matt Rosendale. He will represent our Country well, far better than Jon Tester who will vote with Cryin’ Chuck Schumer and Nancy Pelosi - never with us!</td>\n",
       "      <td>13286</td>\n",
       "    </tr>\n",
       "    <tr>\n",
       "      <th>1053076069564071936</th>\n",
       "      <td>2018-10-19 00:11:14</td>\n",
       "      <td>&lt;a href=\"http://twitter.com/download/iphone\" rel=\"nofollow\"&gt;Twitter for iPhone&lt;/a&gt;</td>\n",
       "      <td>The only thing keeping Tester alive is he has millions and millions of dollars from outside liberals and leftists, who couldn’t care less about our Country!</td>\n",
       "      <td>17085</td>\n",
       "    </tr>\n",
       "    <tr>\n",
       "      <th>1053102147888328704</th>\n",
       "      <td>2018-10-19 01:54:52</td>\n",
       "      <td>&lt;a href=\"http://twitter.com/download/iphone\" rel=\"nofollow\"&gt;Twitter for iPhone&lt;/a&gt;</td>\n",
       "      <td>Thank you Missoula, Montana. Get out and VOTE for @MattForMontana and @GregForMontana!! #MAGA🇺🇸\\nhttps://t.co/6XgaceUu1e https://t.co/nEndInSOhw</td>\n",
       "      <td>11149</td>\n",
       "    </tr>\n",
       "    <tr>\n",
       "      <th>1053121500151074817</th>\n",
       "      <td>2018-10-19 03:11:46</td>\n",
       "      <td>&lt;a href=\"http://twitter.com/download/iphone\" rel=\"nofollow\"&gt;Twitter for iPhone&lt;/a&gt;</td>\n",
       "      <td>Jon Tester says one thing to voters and does the EXACT OPPOSITE in Washington. Tester takes his orders form Pelosi &amp;amp; Schumer. Tester wants to raise your taxes, take away your 2A, open your borders, and deliver MOB RULE. Retire Tester &amp;amp; Elect America-First Patriot Matt...</td>\n",
       "      <td>21366</td>\n",
       "    </tr>\n",
       "    <tr>\n",
       "      <th>1053124336637247493</th>\n",
       "      <td>2018-10-19 03:23:02</td>\n",
       "      <td>&lt;a href=\"http://twitter.com/download/iphone\" rel=\"nofollow\"&gt;Twitter for iPhone&lt;/a&gt;</td>\n",
       "      <td>#JobsNotMobs!</td>\n",
       "      <td>28320</td>\n",
       "    </tr>\n",
       "    <tr>\n",
       "      <th>1053285341610668034</th>\n",
       "      <td>2018-10-19 14:02:49</td>\n",
       "      <td>&lt;a href=\"http://twitter.com/download/iphone\" rel=\"nofollow\"&gt;Twitter for iPhone&lt;/a&gt;</td>\n",
       "      <td>Congressman Andy Biggs is doing a great job for Arizona and our Country! https://t.co/V561vXRpzx</td>\n",
       "      <td>10623</td>\n",
       "    </tr>\n",
       "    <tr>\n",
       "      <th>1053285828892463109</th>\n",
       "      <td>2018-10-19 14:04:45</td>\n",
       "      <td>&lt;a href=\"http://twitter.com/download/iphone\" rel=\"nofollow\"&gt;Twitter for iPhone&lt;/a&gt;</td>\n",
       "      <td>When referring to the USA, I will always capitalize the word Country!</td>\n",
       "      <td>18733</td>\n",
       "    </tr>\n",
       "    <tr>\n",
       "      <th>1053336553391452161</th>\n",
       "      <td>2018-10-19 17:26:19</td>\n",
       "      <td>&lt;a href=\"http://twitter.com/download/iphone\" rel=\"nofollow\"&gt;Twitter for iPhone&lt;/a&gt;</td>\n",
       "      <td>Secretary of State Mike Pompeo was never given or shown a Transcript or Video of the Saudi Consulate event. FAKE NEWS!</td>\n",
       "      <td>31338</td>\n",
       "    </tr>\n",
       "    <tr>\n",
       "      <th>1053338516501889025</th>\n",
       "      <td>2018-10-19 17:34:07</td>\n",
       "      <td>&lt;a href=\"http://twitter.com/download/iphone\" rel=\"nofollow\"&gt;Twitter for iPhone&lt;/a&gt;</td>\n",
       "      <td>Beto O’Rourke is a total lightweight compared to Ted Cruz, and he comes nowhere near representing the values and desires of the people of the Great State of Texas. He will never be allowed to turn Texas into Venezuela!</td>\n",
       "      <td>24227</td>\n",
       "    </tr>\n",
       "    <tr>\n",
       "      <th>1053355470449127424</th>\n",
       "      <td>2018-10-19 18:41:29</td>\n",
       "      <td>&lt;a href=\"http://twitter.com/download/iphone\" rel=\"nofollow\"&gt;Twitter for iPhone&lt;/a&gt;</td>\n",
       "      <td>#JobsNotMobs! https://t.co/U1suRW5j6G</td>\n",
       "      <td>18999</td>\n",
       "    </tr>\n",
       "    <tr>\n",
       "      <th>1053432380860456960</th>\n",
       "      <td>2018-10-19 23:47:06</td>\n",
       "      <td>&lt;a href=\"http://twitter.com/download/iphone\" rel=\"nofollow\"&gt;Twitter for iPhone&lt;/a&gt;</td>\n",
       "      <td>This is what it is all about for the Republican Party! #JobsNotMobs https://t.co/8OabccPec5</td>\n",
       "      <td>18992</td>\n",
       "    </tr>\n",
       "    <tr>\n",
       "      <th>1053448472156749824</th>\n",
       "      <td>2018-10-20 00:51:02</td>\n",
       "      <td>&lt;a href=\"http://twitter.com/download/iphone\" rel=\"nofollow\"&gt;Twitter for iPhone&lt;/a&gt;</td>\n",
       "      <td>WOW - Mesa, Arizona! Look forward to joining everyone soon. Something’s happening!! #MAGA🇺🇸 https://t.co/z6LNGYoICO</td>\n",
       "      <td>14388</td>\n",
       "    </tr>\n",
       "    <tr>\n",
       "      <th>1053456620334678016</th>\n",
       "      <td>2018-10-20 01:23:25</td>\n",
       "      <td>&lt;a href=\"http://twitter.com/download/iphone\" rel=\"nofollow\"&gt;Twitter for iPhone&lt;/a&gt;</td>\n",
       "      <td>On my way - see you all shortly! https://t.co/0pWiwCq4MH https://t.co/ahDmLiwPZi</td>\n",
       "      <td>10141</td>\n",
       "    </tr>\n",
       "    <tr>\n",
       "      <th>1053484232138358785</th>\n",
       "      <td>2018-10-20 03:13:08</td>\n",
       "      <td>&lt;a href=\"http://twitter.com/download/iphone\" rel=\"nofollow\"&gt;Twitter for iPhone&lt;/a&gt;</td>\n",
       "      <td>This was outside of the massive totally full hangar tonight in Mesa, Arizona! https://t.co/0pWiwCq4MH #MAGA🇺🇸 https://t.co/7mx98y515I</td>\n",
       "      <td>20201</td>\n",
       "    </tr>\n",
       "    <tr>\n",
       "      <th>1053485357734408192</th>\n",
       "      <td>2018-10-20 03:17:36</td>\n",
       "      <td>&lt;a href=\"http://twitter.com/download/iphone\" rel=\"nofollow\"&gt;Twitter for iPhone&lt;/a&gt;</td>\n",
       "      <td>Beautiful evening in Mesa, Arizona with GREAT PATRIOTS - thank you! https://t.co/0pWiwCq4MH #MAGARally🇺🇸replay: https://t.co/6vHEaB37VH https://t.co/pHmU6pMKh7</td>\n",
       "      <td>9579</td>\n",
       "    </tr>\n",
       "    <tr>\n",
       "      <th>1053655992649506821</th>\n",
       "      <td>2018-10-20 14:35:39</td>\n",
       "      <td>&lt;a href=\"http://twitter.com/download/iphone\" rel=\"nofollow\"&gt;Twitter for iPhone&lt;/a&gt;</td>\n",
       "      <td>If the Democrats would stop being obstructionists and come together, we could write up and agree to new immigration laws in less than one hour. Look at the needless  pain and suffering that they are causing. Look at the horrors taking place on the Border. Chuck &amp;amp; Nancy, c...</td>\n",
       "      <td>17191</td>\n",
       "    </tr>\n",
       "    <tr>\n",
       "      <th>1053657849606234112</th>\n",
       "      <td>2018-10-20 14:43:02</td>\n",
       "      <td>&lt;a href=\"http://twitter.com/download/iphone\" rel=\"nofollow\"&gt;Twitter for iPhone&lt;/a&gt;</td>\n",
       "      <td>Georgia Secretary of State Brian Kemp will be a great governor. He has been successful at whatever he has done, and has prepared for this very difficult and complex job for many years. He has my Strong Endorsement. His opponent is totally unqualified. Would destroy a great st...</td>\n",
       "      <td>9692</td>\n",
       "    </tr>\n",
       "    <tr>\n",
       "      <th>1053658596712431616</th>\n",
       "      <td>2018-10-20 14:46:00</td>\n",
       "      <td>&lt;a href=\"http://twitter.com/download/iphone\" rel=\"nofollow\"&gt;Twitter for iPhone&lt;/a&gt;</td>\n",
       "      <td>Get out and Early Vote for Brian Kemp. He will be a GREAT GOVERNOR for the State of Georgia!</td>\n",
       "      <td>8236</td>\n",
       "    </tr>\n",
       "    <tr>\n",
       "      <th>1053661248217202688</th>\n",
       "      <td>2018-10-20 14:56:32</td>\n",
       "      <td>&lt;a href=\"http://twitter.com/download/iphone\" rel=\"nofollow\"&gt;Twitter for iPhone&lt;/a&gt;</td>\n",
       "      <td>Ron @RonDeSantisFL DeSantis is working hard. A great Congressman and top student at Harvard &amp;amp; Yale, Ron will be a record setting governor for Florida. Rick Scott gave him tremendous foundations to further build on. His opponent runs one of the worst &amp;amp; most corrupt cit...</td>\n",
       "      <td>9682</td>\n",
       "    </tr>\n",
       "    <tr>\n",
       "      <th>1053662989272793089</th>\n",
       "      <td>2018-10-20 15:03:27</td>\n",
       "      <td>&lt;a href=\"http://twitter.com/download/iphone\" rel=\"nofollow\"&gt;Twitter for iPhone&lt;/a&gt;</td>\n",
       "      <td>Rick Scott is known as easily one of the best Governors in the USA. Florida is setting records in almost every category of success. Amazing achievement-the envy of the World. Ron DeSantis will build on this success. His incompetent opponent will destroy Florida - next Venezuela!</td>\n",
       "      <td>9778</td>\n",
       "    </tr>\n",
       "    <tr>\n",
       "      <th>1053682023066288128</th>\n",
       "      <td>2018-10-20 16:19:05</td>\n",
       "      <td>&lt;a href=\"http://twitter.com/download/iphone\" rel=\"nofollow\"&gt;Twitter for iPhone&lt;/a&gt;</td>\n",
       "      <td>Leaving Arizona after a fantastic Rally last night, in Mesa, honoring, and for, Martha @RepMcSally McSally. She is an inspiration &amp;amp; will be a GREAT SENATOR for the people of Arizona. Her opponent is a Nancy Pelosi puppet, really bad for State. Early Voting NOW! Will be ba...</td>\n",
       "      <td>7488</td>\n",
       "    </tr>\n",
       "    <tr>\n",
       "      <th>1053684769991454721</th>\n",
       "      <td>2018-10-20 16:30:00</td>\n",
       "      <td>&lt;a href=\"http://twitter.com/download/iphone\" rel=\"nofollow\"&gt;Twitter for iPhone&lt;/a&gt;</td>\n",
       "      <td>Heading to Nevada to help a man who has become a good friend, Senator Dean Heller. He is all about #MAGA and I need his Help and Talent in Washington. Also, Adam Laxalt will be a GREAT GOVERNOR, and has my complete and total Endorsement. Winners Both!</td>\n",
       "      <td>7148</td>\n",
       "    </tr>\n",
       "  </tbody>\n",
       "</table>\n",
       "<p>9144 rows × 4 columns</p>\n",
       "</div>"
      ],
      "text/plain": [
       "                                   time  \\\n",
       "id                                        \n",
       "690171032150237184  2016-01-21 13:56:11   \n",
       "690171403388104704  2016-01-21 13:57:39   \n",
       "690173226341691392  2016-01-21 14:04:54   \n",
       "690176882055114758  2016-01-21 14:19:26   \n",
       "690180284189310976  2016-01-21 14:32:57   \n",
       "690271688127213568  2016-01-21 20:36:09   \n",
       "690272687168458754  2016-01-21 20:40:07   \n",
       "690313350278819840  2016-01-21 23:21:42   \n",
       "690315202261155840  2016-01-21 23:29:04   \n",
       "690315366564626433  2016-01-21 23:29:43   \n",
       "690315667636023296  2016-01-21 23:30:55   \n",
       "690336644281581568  2016-01-22 00:54:16   \n",
       "690337376061788161  2016-01-22 00:57:10   \n",
       "690382564494839809  2016-01-22 03:56:44   \n",
       "690382619213742082  2016-01-22 03:56:57   \n",
       "690382722162913280  2016-01-22 03:57:22   \n",
       "690404308010057728  2016-01-22 05:23:08   \n",
       "690528062190944256  2016-01-22 13:34:54   \n",
       "690528407117889538  2016-01-22 13:36:16   \n",
       "690528526181601281  2016-01-22 13:36:44   \n",
       "690529122326413314  2016-01-22 13:39:06   \n",
       "690529690205818880  2016-01-22 13:41:22   \n",
       "690530164711624705  2016-01-22 13:43:15   \n",
       "690532959363866625  2016-01-22 13:54:21   \n",
       "690534215478173697  2016-01-22 13:59:21   \n",
       "690534576066719744  2016-01-22 14:00:47   \n",
       "690537121916923904  2016-01-22 14:10:54   \n",
       "690540484154896384  2016-01-22 14:24:15   \n",
       "690560125916975104  2016-01-22 15:42:18   \n",
       "690560942430523392  2016-01-22 15:45:33   \n",
       "...                                 ...   \n",
       "1052947510271111170 2018-10-18 15:40:23   \n",
       "1052950726907969536 2018-10-18 15:53:10   \n",
       "1052964059056885760 2018-10-18 16:46:09   \n",
       "1053008701026693122 2018-10-18 19:43:32   \n",
       "1053013864244219904 2018-10-18 20:04:03   \n",
       "1053033702253424640 2018-10-18 21:22:53   \n",
       "1053056054295113728 2018-10-18 22:51:42   \n",
       "1053070661302669312 2018-10-18 23:49:45   \n",
       "1053074465150578688 2018-10-19 00:04:52   \n",
       "1053076069564071936 2018-10-19 00:11:14   \n",
       "1053102147888328704 2018-10-19 01:54:52   \n",
       "1053121500151074817 2018-10-19 03:11:46   \n",
       "1053124336637247493 2018-10-19 03:23:02   \n",
       "1053285341610668034 2018-10-19 14:02:49   \n",
       "1053285828892463109 2018-10-19 14:04:45   \n",
       "1053336553391452161 2018-10-19 17:26:19   \n",
       "1053338516501889025 2018-10-19 17:34:07   \n",
       "1053355470449127424 2018-10-19 18:41:29   \n",
       "1053432380860456960 2018-10-19 23:47:06   \n",
       "1053448472156749824 2018-10-20 00:51:02   \n",
       "1053456620334678016 2018-10-20 01:23:25   \n",
       "1053484232138358785 2018-10-20 03:13:08   \n",
       "1053485357734408192 2018-10-20 03:17:36   \n",
       "1053655992649506821 2018-10-20 14:35:39   \n",
       "1053657849606234112 2018-10-20 14:43:02   \n",
       "1053658596712431616 2018-10-20 14:46:00   \n",
       "1053661248217202688 2018-10-20 14:56:32   \n",
       "1053662989272793089 2018-10-20 15:03:27   \n",
       "1053682023066288128 2018-10-20 16:19:05   \n",
       "1053684769991454721 2018-10-20 16:30:00   \n",
       "\n",
       "                                                                                                   source  \\\n",
       "id                                                                                                          \n",
       "690171032150237184   <a href=\"http://twitter.com/download/android\" rel=\"nofollow\">Twitter for Android</a>   \n",
       "690171403388104704   <a href=\"http://twitter.com/download/android\" rel=\"nofollow\">Twitter for Android</a>   \n",
       "690173226341691392   <a href=\"http://twitter.com/download/android\" rel=\"nofollow\">Twitter for Android</a>   \n",
       "690176882055114758   <a href=\"http://twitter.com/download/android\" rel=\"nofollow\">Twitter for Android</a>   \n",
       "690180284189310976   <a href=\"http://twitter.com/download/android\" rel=\"nofollow\">Twitter for Android</a>   \n",
       "690271688127213568     <a href=\"http://twitter.com/download/iphone\" rel=\"nofollow\">Twitter for iPhone</a>   \n",
       "690272687168458754   <a href=\"http://twitter.com/download/android\" rel=\"nofollow\">Twitter for Android</a>   \n",
       "690313350278819840     <a href=\"http://twitter.com/download/iphone\" rel=\"nofollow\">Twitter for iPhone</a>   \n",
       "690315202261155840     <a href=\"http://twitter.com/download/iphone\" rel=\"nofollow\">Twitter for iPhone</a>   \n",
       "690315366564626433     <a href=\"http://twitter.com/download/iphone\" rel=\"nofollow\">Twitter for iPhone</a>   \n",
       "690315667636023296     <a href=\"http://twitter.com/download/iphone\" rel=\"nofollow\">Twitter for iPhone</a>   \n",
       "690336644281581568     <a href=\"http://twitter.com/download/iphone\" rel=\"nofollow\">Twitter for iPhone</a>   \n",
       "690337376061788161     <a href=\"http://twitter.com/download/iphone\" rel=\"nofollow\">Twitter for iPhone</a>   \n",
       "690382564494839809     <a href=\"http://twitter.com/download/iphone\" rel=\"nofollow\">Twitter for iPhone</a>   \n",
       "690382619213742082     <a href=\"http://twitter.com/download/iphone\" rel=\"nofollow\">Twitter for iPhone</a>   \n",
       "690382722162913280     <a href=\"http://twitter.com/download/iphone\" rel=\"nofollow\">Twitter for iPhone</a>   \n",
       "690404308010057728     <a href=\"http://twitter.com/download/iphone\" rel=\"nofollow\">Twitter for iPhone</a>   \n",
       "690528062190944256   <a href=\"http://twitter.com/download/android\" rel=\"nofollow\">Twitter for Android</a>   \n",
       "690528407117889538   <a href=\"http://twitter.com/download/android\" rel=\"nofollow\">Twitter for Android</a>   \n",
       "690528526181601281   <a href=\"http://twitter.com/download/android\" rel=\"nofollow\">Twitter for Android</a>   \n",
       "690529122326413314   <a href=\"http://twitter.com/download/android\" rel=\"nofollow\">Twitter for Android</a>   \n",
       "690529690205818880   <a href=\"http://twitter.com/download/android\" rel=\"nofollow\">Twitter for Android</a>   \n",
       "690530164711624705   <a href=\"http://twitter.com/download/android\" rel=\"nofollow\">Twitter for Android</a>   \n",
       "690532959363866625   <a href=\"http://twitter.com/download/android\" rel=\"nofollow\">Twitter for Android</a>   \n",
       "690534215478173697   <a href=\"http://twitter.com/download/android\" rel=\"nofollow\">Twitter for Android</a>   \n",
       "690534576066719744   <a href=\"http://twitter.com/download/android\" rel=\"nofollow\">Twitter for Android</a>   \n",
       "690537121916923904   <a href=\"http://twitter.com/download/android\" rel=\"nofollow\">Twitter for Android</a>   \n",
       "690540484154896384   <a href=\"http://twitter.com/download/android\" rel=\"nofollow\">Twitter for Android</a>   \n",
       "690560125916975104   <a href=\"http://twitter.com/download/android\" rel=\"nofollow\">Twitter for Android</a>   \n",
       "690560942430523392   <a href=\"http://twitter.com/download/android\" rel=\"nofollow\">Twitter for Android</a>   \n",
       "...                                                                                                   ...   \n",
       "1052947510271111170    <a href=\"http://twitter.com/download/iphone\" rel=\"nofollow\">Twitter for iPhone</a>   \n",
       "1052950726907969536    <a href=\"http://twitter.com/download/iphone\" rel=\"nofollow\">Twitter for iPhone</a>   \n",
       "1052964059056885760    <a href=\"http://twitter.com/download/iphone\" rel=\"nofollow\">Twitter for iPhone</a>   \n",
       "1053008701026693122    <a href=\"http://twitter.com/download/iphone\" rel=\"nofollow\">Twitter for iPhone</a>   \n",
       "1053013864244219904    <a href=\"http://twitter.com/download/iphone\" rel=\"nofollow\">Twitter for iPhone</a>   \n",
       "1053033702253424640    <a href=\"http://twitter.com/download/iphone\" rel=\"nofollow\">Twitter for iPhone</a>   \n",
       "1053056054295113728    <a href=\"http://twitter.com/download/iphone\" rel=\"nofollow\">Twitter for iPhone</a>   \n",
       "1053070661302669312    <a href=\"http://twitter.com/download/iphone\" rel=\"nofollow\">Twitter for iPhone</a>   \n",
       "1053074465150578688    <a href=\"http://twitter.com/download/iphone\" rel=\"nofollow\">Twitter for iPhone</a>   \n",
       "1053076069564071936    <a href=\"http://twitter.com/download/iphone\" rel=\"nofollow\">Twitter for iPhone</a>   \n",
       "1053102147888328704    <a href=\"http://twitter.com/download/iphone\" rel=\"nofollow\">Twitter for iPhone</a>   \n",
       "1053121500151074817    <a href=\"http://twitter.com/download/iphone\" rel=\"nofollow\">Twitter for iPhone</a>   \n",
       "1053124336637247493    <a href=\"http://twitter.com/download/iphone\" rel=\"nofollow\">Twitter for iPhone</a>   \n",
       "1053285341610668034    <a href=\"http://twitter.com/download/iphone\" rel=\"nofollow\">Twitter for iPhone</a>   \n",
       "1053285828892463109    <a href=\"http://twitter.com/download/iphone\" rel=\"nofollow\">Twitter for iPhone</a>   \n",
       "1053336553391452161    <a href=\"http://twitter.com/download/iphone\" rel=\"nofollow\">Twitter for iPhone</a>   \n",
       "1053338516501889025    <a href=\"http://twitter.com/download/iphone\" rel=\"nofollow\">Twitter for iPhone</a>   \n",
       "1053355470449127424    <a href=\"http://twitter.com/download/iphone\" rel=\"nofollow\">Twitter for iPhone</a>   \n",
       "1053432380860456960    <a href=\"http://twitter.com/download/iphone\" rel=\"nofollow\">Twitter for iPhone</a>   \n",
       "1053448472156749824    <a href=\"http://twitter.com/download/iphone\" rel=\"nofollow\">Twitter for iPhone</a>   \n",
       "1053456620334678016    <a href=\"http://twitter.com/download/iphone\" rel=\"nofollow\">Twitter for iPhone</a>   \n",
       "1053484232138358785    <a href=\"http://twitter.com/download/iphone\" rel=\"nofollow\">Twitter for iPhone</a>   \n",
       "1053485357734408192    <a href=\"http://twitter.com/download/iphone\" rel=\"nofollow\">Twitter for iPhone</a>   \n",
       "1053655992649506821    <a href=\"http://twitter.com/download/iphone\" rel=\"nofollow\">Twitter for iPhone</a>   \n",
       "1053657849606234112    <a href=\"http://twitter.com/download/iphone\" rel=\"nofollow\">Twitter for iPhone</a>   \n",
       "1053658596712431616    <a href=\"http://twitter.com/download/iphone\" rel=\"nofollow\">Twitter for iPhone</a>   \n",
       "1053661248217202688    <a href=\"http://twitter.com/download/iphone\" rel=\"nofollow\">Twitter for iPhone</a>   \n",
       "1053662989272793089    <a href=\"http://twitter.com/download/iphone\" rel=\"nofollow\">Twitter for iPhone</a>   \n",
       "1053682023066288128    <a href=\"http://twitter.com/download/iphone\" rel=\"nofollow\">Twitter for iPhone</a>   \n",
       "1053684769991454721    <a href=\"http://twitter.com/download/iphone\" rel=\"nofollow\">Twitter for iPhone</a>   \n",
       "\n",
       "                                                                                                                                                                                                                                                                                                        text  \\\n",
       "id                                                                                                                                                                                                                                                                                                             \n",
       "690171032150237184                                                                                                                                                                                                                       \"@bigop1: @realDonaldTrump  @SarahPalinUSA https://t.co/3kYQGqeVyD\"   \n",
       "690171403388104704                                                                                                                                                         \"@AmericanAsPie:  @glennbeck @SarahPalinUSA Remember when Glenn gave out gifts to ILLEGAL ALIENS at crossing the border? Me too!\"   \n",
       "690173226341691392                                                                                                                                                               So sad that @CNN and many others refused to show the massive crowd at the arena yesterday in Oklahoma. Dishonest reporting!   \n",
       "690176882055114758                                                                                                                                                Sad sack @JebBush has just done another ad on me, with special interest money, saying I won't beat Hillary - I WILL. But he can't beat me.   \n",
       "690180284189310976                                                                                                                                              Low energy candidate @JebBush has wasted $80 million on his failed presidential campaign. Millions spent on me. He should go home and relax!   \n",
       "690271688127213568                                                                                                                                                                                           New Day on CNN treats me very badly. @AlisynCamerota is a disaster. Not going to watch anymore.   \n",
       "690272687168458754                                                                                                                                                                                                             Happy birthday to my friend, the great @jacknicklaus - a totally special guy!   \n",
       "690313350278819840                                                                                                                                                                                                                                       Thank you, Iowa! #Trump2016 https://t.co/ryhEheTLqN   \n",
       "690315202261155840                                                                                                                                                                                                                                             Thank you! #Trump2016 https://t.co/pcdmyIO1Zt   \n",
       "690315366564626433                                                                                                                                                                                                                             Thank you, New Hampshire!\\n#Trump2016 https://t.co/TG9oZKly4l   \n",
       "690315667636023296                                                                                                                                                                                                                                 #Trump2016 #MakeAmericaGreatAgain https://t.co/vfUwGIGjN4   \n",
       "690336644281581568                                                                                                                                              Why does @Greta have a fired Bushy like dummy, John Sununu on- spewing false info? I will beat Hillary by a lot, she wants no part of Trump.   \n",
       "690337376061788161                                                                                                                                                                                               Thank you, Iowa! #FITN #IACaucus\\n#MakeAmericaGreatAgain #Trump2016 https://t.co/wVJldvTSag   \n",
       "690382564494839809                                                                                                                                              National Review is a failing publication that has lost it's way. It's circulation is way down w its influence being at an all time low. Sad!   \n",
       "690382619213742082                                                                                                                                                                                     Very few people read the National Review because it only knows how to criticize, but not how to lead.   \n",
       "690382722162913280                                                                                                                                                                        The late, great, William F. Buckley would be ashamed of what had happened to his prize, the dying National Review!   \n",
       "690404308010057728                                                                                                                                                                                                           RT @williebosshog: Make America Great Again! #Trump2016 https://t.co/1h5j4DZDgy   \n",
       "690528062190944256                                                                                                                                                Ted Cruz complains about my views on eminent domain, but without it we wouldn't have roads, highways, airports, schools or even pipelines.   \n",
       "690528407117889538                                                                                                                                                     \"@realOllieTaylor:  Isn't it time we had a president? Let goofy Glen keep Canada Cruz who can't win. The American people have Trump!\"   \n",
       "690528526181601281                                                                                                                                                                                                                            \"@BornToBeGOP: @realDonaldTrump No sleep for the #TrumpTrain!\"   \n",
       "690529122326413314                                                                                                                                                                         \"@NeilTurner_: @realDonaldTrump https://t.co/uvn95NB6M0 With your help we can #MakeAmericaGreatAgain! #VoteTrump\"   \n",
       "690529690205818880                                                                                                                                                    #TedCruz eligibility to be President not settled law, says Cruz' Constitutional Law Professor, #LaurenceTribe https://t.co/GWKoJsBINZ\"   \n",
       "690530164711624705                                                                                                                                                 \"@TruBluMajority: #laurencetribe calls Cruz \"constitutional hypocrite\" on @WBUR https://t.co/qRFINtcJlX @pbsgwen @charlierose @jaketapper   \n",
       "690532959363866625                                                                                                                                              Highly respected Constitutional law professor Mary Brigid McManamon has just stated, \"Ted Cruz is not eligible to be President.\" Big problem   \n",
       "690534215478173697                                                                                                                                               \"@D: #MaryBrigidMcManamon, Washington Post: Constitutionally speaking, #Cruz simply isn’t eligible to be president https://t.co/DBtTgsC1il\"   \n",
       "690534576066719744                                                                                                                                                \"@CyberCiety: #MaryBrigidMcManamon clarified how #CommonLaw is used to interpret meaning of #NaturalBorn #TedCruz https://t.co/5y6SZrTdGr\"   \n",
       "690537121916923904                                                                                                                                                   \"@MiamiNewTimes: Poll: Trump has more support in Florida than Rubio and Bush combined. https://t.co/uvH2BKQRHf https://t.co/2tvIaa2aFr\"   \n",
       "690540484154896384                                                                                                                                              The failing @NRO National Review Magazine has just been informed by the Republican National Committee that they cannot participate in debate   \n",
       "690560125916975104                                                                                                                                                After spending $89 million, @JebBush is at the bottom of the barrel in polls. He is ashamed to use the name \"Bush\" in ads. Low energy guy!   \n",
       "690560942430523392                                                                                                                                              \"@Lisa_Milicaj: Truth be told, I  never heard of The National Review until they \"tried\" to declare war on you. No worries, you got my vote!\"   \n",
       "...                                                                                                                                                                                                                                                                                                      ...   \n",
       "1052947510271111170                                                                                                                            ...the Crown Prince. He is waiting for the results of the investigations being done by the Saudis and Turkey, and just gave a news conference to that effect.   \n",
       "1052950726907969536                                                                                                                                                             .@StateDept @SecPompeo outside of the West Wing after our meeting this morning in the Oval Office... https://t.co/4GrmMdOhS1   \n",
       "1052964059056885760                                                                                                                                                                                                                   See you tonight Missoula, Montana! #MAGARally🇺🇸https://t.co/2HZ66y4BS7   \n",
       "1053008701026693122                                                                 All Republicans support people with pre-existing conditions, and if they don’t, they will after I speak to them. I am in total support. Also, Democrats will destroy your Medicare, and I will keep it healthy and well!   \n",
       "1053013864244219904                                                                                                                                                                                 Can you believe this, and what Democrats are allowing to be done to our Country? https://t.co/4aDpASkjIU   \n",
       "1053033702253424640                                                                                                                                                                                                        Look forward to being there. Something’s happening! #MAGA https://t.co/Cev7giQexE   \n",
       "1053056054295113728                                                                                                                                                                                                           Thank you Mexico, we look forward to working with you! https://t.co/wf7sE0DHFT   \n",
       "1053070661302669312                                                           Prime Minister @AbeShinzo of Japan has been working with me to help balance out the one-sided Trade with Japan. These are some of the investments they are making in our Country - just the beginning! https://t.co/ib2yB3Akkt   \n",
       "1053074465150578688                                                  Will be landing soon. Looking forward to seeing our next Senator from Montana, Matt Rosendale. He will represent our Country well, far better than Jon Tester who will vote with Cryin’ Chuck Schumer and Nancy Pelosi - never with us!   \n",
       "1053076069564071936                                                                                                                             The only thing keeping Tester alive is he has millions and millions of dollars from outside liberals and leftists, who couldn’t care less about our Country!   \n",
       "1053102147888328704                                                                                                                                         Thank you Missoula, Montana. Get out and VOTE for @MattForMontana and @GregForMontana!! #MAGA🇺🇸\\nhttps://t.co/6XgaceUu1e https://t.co/nEndInSOhw   \n",
       "1053121500151074817  Jon Tester says one thing to voters and does the EXACT OPPOSITE in Washington. Tester takes his orders form Pelosi &amp; Schumer. Tester wants to raise your taxes, take away your 2A, open your borders, and deliver MOB RULE. Retire Tester &amp; Elect America-First Patriot Matt...   \n",
       "1053124336637247493                                                                                                                                                                                                                                                                            #JobsNotMobs!   \n",
       "1053285341610668034                                                                                                                                                                                         Congressman Andy Biggs is doing a great job for Arizona and our Country! https://t.co/V561vXRpzx   \n",
       "1053285828892463109                                                                                                                                                                                                                    When referring to the USA, I will always capitalize the word Country!   \n",
       "1053336553391452161                                                                                                                                                                   Secretary of State Mike Pompeo was never given or shown a Transcript or Video of the Saudi Consulate event. FAKE NEWS!   \n",
       "1053338516501889025                                                               Beto O’Rourke is a total lightweight compared to Ted Cruz, and he comes nowhere near representing the values and desires of the people of the Great State of Texas. He will never be allowed to turn Texas into Venezuela!   \n",
       "1053355470449127424                                                                                                                                                                                                                                                    #JobsNotMobs! https://t.co/U1suRW5j6G   \n",
       "1053432380860456960                                                                                                                                                                                              This is what it is all about for the Republican Party! #JobsNotMobs https://t.co/8OabccPec5   \n",
       "1053448472156749824                                                                                                                                                                      WOW - Mesa, Arizona! Look forward to joining everyone soon. Something’s happening!! #MAGA🇺🇸 https://t.co/z6LNGYoICO   \n",
       "1053456620334678016                                                                                                                                                                                                         On my way - see you all shortly! https://t.co/0pWiwCq4MH https://t.co/ahDmLiwPZi   \n",
       "1053484232138358785                                                                                                                                                    This was outside of the massive totally full hangar tonight in Mesa, Arizona! https://t.co/0pWiwCq4MH #MAGA🇺🇸 https://t.co/7mx98y515I   \n",
       "1053485357734408192                                                                                                                          Beautiful evening in Mesa, Arizona with GREAT PATRIOTS - thank you! https://t.co/0pWiwCq4MH #MAGARally🇺🇸replay: https://t.co/6vHEaB37VH https://t.co/pHmU6pMKh7   \n",
       "1053655992649506821  If the Democrats would stop being obstructionists and come together, we could write up and agree to new immigration laws in less than one hour. Look at the needless  pain and suffering that they are causing. Look at the horrors taking place on the Border. Chuck &amp; Nancy, c...   \n",
       "1053657849606234112  Georgia Secretary of State Brian Kemp will be a great governor. He has been successful at whatever he has done, and has prepared for this very difficult and complex job for many years. He has my Strong Endorsement. His opponent is totally unqualified. Would destroy a great st...   \n",
       "1053658596712431616                                                                                                                                                                                             Get out and Early Vote for Brian Kemp. He will be a GREAT GOVERNOR for the State of Georgia!   \n",
       "1053661248217202688  Ron @RonDeSantisFL DeSantis is working hard. A great Congressman and top student at Harvard &amp; Yale, Ron will be a record setting governor for Florida. Rick Scott gave him tremendous foundations to further build on. His opponent runs one of the worst &amp; most corrupt cit...   \n",
       "1053662989272793089  Rick Scott is known as easily one of the best Governors in the USA. Florida is setting records in almost every category of success. Amazing achievement-the envy of the World. Ron DeSantis will build on this success. His incompetent opponent will destroy Florida - next Venezuela!   \n",
       "1053682023066288128  Leaving Arizona after a fantastic Rally last night, in Mesa, honoring, and for, Martha @RepMcSally McSally. She is an inspiration &amp; will be a GREAT SENATOR for the people of Arizona. Her opponent is a Nancy Pelosi puppet, really bad for State. Early Voting NOW! Will be ba...   \n",
       "1053684769991454721                              Heading to Nevada to help a man who has become a good friend, Senator Dean Heller. He is all about #MAGA and I need his Help and Talent in Washington. Also, Adam Laxalt will be a GREAT GOVERNOR, and has my complete and total Endorsement. Winners Both!   \n",
       "\n",
       "                     retweet_count  \n",
       "id                                  \n",
       "690171032150237184            1059  \n",
       "690171403388104704            1339  \n",
       "690173226341691392            2006  \n",
       "690176882055114758            2266  \n",
       "690180284189310976            2886  \n",
       "690271688127213568            1429  \n",
       "690272687168458754            1053  \n",
       "690313350278819840            2329  \n",
       "690315202261155840            1463  \n",
       "690315366564626433            1761  \n",
       "690315667636023296            2217  \n",
       "690336644281581568            1576  \n",
       "690337376061788161            2422  \n",
       "690382564494839809            2187  \n",
       "690382619213742082            1817  \n",
       "690382722162913280            2236  \n",
       "690404308010057728            9144  \n",
       "690528062190944256            1595  \n",
       "690528407117889538             909  \n",
       "690528526181601281             676  \n",
       "690529122326413314             773  \n",
       "690529690205818880             753  \n",
       "690530164711624705             637  \n",
       "690532959363866625            1937  \n",
       "690534215478173697             875  \n",
       "690534576066719744             799  \n",
       "690537121916923904            1738  \n",
       "690540484154896384            2116  \n",
       "690560125916975104            1661  \n",
       "690560942430523392            1110  \n",
       "...                            ...  \n",
       "1052947510271111170           7497  \n",
       "1052950726907969536           8560  \n",
       "1052964059056885760           9694  \n",
       "1053008701026693122          25391  \n",
       "1053013864244219904          25412  \n",
       "1053033702253424640          13690  \n",
       "1053056054295113728          21925  \n",
       "1053070661302669312          13353  \n",
       "1053074465150578688          13286  \n",
       "1053076069564071936          17085  \n",
       "1053102147888328704          11149  \n",
       "1053121500151074817          21366  \n",
       "1053124336637247493          28320  \n",
       "1053285341610668034          10623  \n",
       "1053285828892463109          18733  \n",
       "1053336553391452161          31338  \n",
       "1053338516501889025          24227  \n",
       "1053355470449127424          18999  \n",
       "1053432380860456960          18992  \n",
       "1053448472156749824          14388  \n",
       "1053456620334678016          10141  \n",
       "1053484232138358785          20201  \n",
       "1053485357734408192           9579  \n",
       "1053655992649506821          17191  \n",
       "1053657849606234112           9692  \n",
       "1053658596712431616           8236  \n",
       "1053661248217202688           9682  \n",
       "1053662989272793089           9778  \n",
       "1053682023066288128           7488  \n",
       "1053684769991454721           7148  \n",
       "\n",
       "[9144 rows x 4 columns]"
      ]
     },
     "execution_count": 23,
     "metadata": {},
     "output_type": "execute_result"
    }
   ],
   "source": [
    "for tweet in all_tweets:\n",
    "    if 'full_text' in tweet.keys():\n",
    "        tweet['text'] = tweet.pop('full_text')\n",
    "        \n",
    "trump = pd.DataFrame(all_tweets).set_index(['id'])\n",
    "trump['created_at'] = pd.to_datetime(trump['created_at'])\n",
    "trump = trump.rename(columns={'created_at':'time'})\n",
    "trump = trump[['time', 'source', 'text', 'retweet_count']]\n",
    "trump = trump.sort_index()\n",
    "trump\n",
    "# YOUR CODE HERE"
   ]
  },
  {
   "cell_type": "code",
   "execution_count": 24,
   "metadata": {
    "deletable": false,
    "editable": false,
    "nbgrader": {
     "cell_type": "code",
     "checksum": "2dd08a7053daa04e9b2763d40dc635da",
     "grade": true,
     "grade_id": "q3b-tests",
     "locked": true,
     "points": 2,
     "schema_version": 2,
     "solution": false
    },
    "tags": [
     "test",
     "q03"
    ]
   },
   "outputs": [],
   "source": [
    "assert isinstance(trump, pd.DataFrame)\n",
    "assert trump.shape[0] < 11000\n",
    "assert trump.shape[1] >= 4\n",
    "assert 831846101179314177 in trump.index\n",
    "assert 753063644578144260 in trump.index\n",
    "assert all(col in trump.columns for col in ['time', 'source', 'text', 'retweet_count'])\n",
    "# If you fail these tests, you probably tried to use __dict__ or _json to read in the tweets\n",
    "assert np.sometrue([('Twitter for iPhone' in s) for s in trump['source'].unique()])\n",
    "assert trump['time'].dtype == np.dtype('<M8[ns]')\n",
    "assert trump['text'].dtype == np.dtype('O')\n",
    "assert trump['retweet_count'].dtype == np.dtype('int64')"
   ]
  },
  {
   "cell_type": "markdown",
   "metadata": {
    "deletable": false,
    "editable": false,
    "nbgrader": {
     "cell_type": "markdown",
     "checksum": "30d38d0c0f5988b2b1da8eadd678d083",
     "grade": false,
     "grade_id": "question4",
     "locked": true,
     "schema_version": 2,
     "solution": false
    }
   },
   "source": [
    "## Question 4: Tweet Source Analysis\n",
    "\n",
    "In the following questions, we are going to find out the charateristics of Trump tweets and the devices used for the tweets.\n",
    "\n",
    "First let's examine the source field:"
   ]
  },
  {
   "cell_type": "code",
   "execution_count": 25,
   "metadata": {
    "deletable": false,
    "editable": false,
    "nbgrader": {
     "cell_type": "code",
     "checksum": "6afb6dfe20e5154416906478ba3d9384",
     "grade": false,
     "grade_id": "unique-sources",
     "locked": true,
     "schema_version": 2,
     "solution": false
    }
   },
   "outputs": [
    {
     "data": {
      "text/plain": [
       "array([ '<a href=\"http://twitter.com/download/android\" rel=\"nofollow\">Twitter for Android</a>',\n",
       "       '<a href=\"http://twitter.com/download/iphone\" rel=\"nofollow\">Twitter for iPhone</a>',\n",
       "       '<a href=\"http://twitter.com\" rel=\"nofollow\">Twitter Web Client</a>',\n",
       "       '<a href=\"https://mobile.twitter.com\" rel=\"nofollow\">Mobile Web (M5)</a>',\n",
       "       '<a href=\"http://instagram.com\" rel=\"nofollow\">Instagram</a>',\n",
       "       '<a href=\"http://twitter.com/#!/download/ipad\" rel=\"nofollow\">Twitter for iPad</a>',\n",
       "       '<a href=\"https://studio.twitter.com\" rel=\"nofollow\">Media Studio</a>',\n",
       "       '<a href=\"https://periscope.tv\" rel=\"nofollow\">Periscope</a>',\n",
       "       '<a href=\"https://ads.twitter.com\" rel=\"nofollow\">Twitter Ads</a>'], dtype=object)"
      ]
     },
     "execution_count": 25,
     "metadata": {},
     "output_type": "execute_result"
    }
   ],
   "source": [
    "trump['source'].unique()"
   ]
  },
  {
   "cell_type": "markdown",
   "metadata": {
    "deletable": false,
    "editable": false,
    "nbgrader": {
     "cell_type": "markdown",
     "checksum": "c6456dce1f6278ee550862faf8829f32",
     "grade": false,
     "grade_id": "q4a",
     "locked": true,
     "schema_version": 2,
     "solution": false
    }
   },
   "source": [
    "## Question 4a\n",
    "\n",
    "Remove the HTML tags from the source field. \n",
    "\n",
    "**Hint:** Use `trump['source'].str.replace` and your favorite regular expression."
   ]
  },
  {
   "cell_type": "code",
   "execution_count": 26,
   "metadata": {
    "deletable": false,
    "nbgrader": {
     "cell_type": "code",
     "checksum": "a05e9dfd89d13b6b4d93b7b32b0c18d0",
     "grade": false,
     "grade_id": "q4a-answer",
     "locked": false,
     "schema_version": 2,
     "solution": true
    }
   },
   "outputs": [],
   "source": [
    "## Uncomment and complete\n",
    "trump['source'] = trump['source'].str.replace('<.*?>', \"\")\n",
    "# YOUR CODE HERE"
   ]
  },
  {
   "cell_type": "code",
   "execution_count": 27,
   "metadata": {
    "deletable": false,
    "editable": false,
    "nbgrader": {
     "cell_type": "code",
     "checksum": "ba180bc3697692747a71297f6b4dc64a",
     "grade": true,
     "grade_id": "q4a-test",
     "locked": true,
     "points": 1,
     "schema_version": 2,
     "solution": false
    }
   },
   "outputs": [],
   "source": [
    "from datetime import datetime\n",
    "ELEC_DATE = datetime(2016, 11, 8)\n",
    "INAUG_DATE = datetime(2017, 1, 20)\n",
    "assert set(trump[(trump['time'] > ELEC_DATE) & (trump['time'] < INAUG_DATE) ]['source'].unique()) == set(['Twitter Ads',\n",
    " 'Twitter Web Client',\n",
    " 'Twitter for Android',\n",
    " 'Twitter for iPhone'])"
   ]
  },
  {
   "cell_type": "markdown",
   "metadata": {
    "deletable": false,
    "editable": false,
    "nbgrader": {
     "cell_type": "markdown",
     "checksum": "fbd18f3db9b76174657bbfadec0dede6",
     "grade": false,
     "grade_id": "note-about-device-usage",
     "locked": true,
     "schema_version": 2,
     "solution": false
    }
   },
   "source": [
    "We can see in the following plot that there are two device types that are more commonly used"
   ]
  },
  {
   "cell_type": "code",
   "execution_count": 28,
   "metadata": {
    "deletable": false,
    "editable": false,
    "nbgrader": {
     "cell_type": "code",
     "checksum": "80767c65e51906a26ac3aa9c6e0d48e5",
     "grade": false,
     "grade_id": "device-usage-plot",
     "locked": true,
     "schema_version": 2,
     "solution": false
    }
   },
   "outputs": [
    {
     "data": {
      "text/plain": [
       "Text(0,0.5,'Number of Tweets')"
      ]
     },
     "execution_count": 28,
     "metadata": {},
     "output_type": "execute_result"
    },
    {
     "data": {
      "image/png": "[encoded data removed]",
      "text/plain": [
       "<matplotlib.figure.Figure at 0x7f0e3ccebd30>"
      ]
     },
     "metadata": {},
     "output_type": "display_data"
    }
   ],
   "source": [
    "trump['source'].value_counts().plot(kind=\"bar\")\n",
    "plt.ylabel(\"Number of Tweets\")"
   ]
  },
  {
   "cell_type": "markdown",
   "metadata": {
    "deletable": false,
    "editable": false,
    "nbgrader": {
     "cell_type": "markdown",
     "checksum": "4fc8de3b5e3282ab8fa3c8f31fa6794c",
     "grade": false,
     "grade_id": "q4b",
     "locked": true,
     "schema_version": 2,
     "solution": false
    }
   },
   "source": [
    "## Question 4b\n",
    "\n",
    "\n",
    "Is there a difference between his Tweet behavior across these devices? We will attempt to answer this question in our subsequent analysis.\n",
    "\n",
    "First, we'll take a look at whether Trump's tweets from an Android come at different times than his tweets from an iPhone. Note that Twitter gives us his tweets in the [UTC timezone](https://www.wikiwand.com/en/List_of_UTC_time_offsets) (notice the `+0000` in the first few tweets)"
   ]
  },
  {
   "cell_type": "code",
   "execution_count": 29,
   "metadata": {
    "deletable": false,
    "editable": false,
    "nbgrader": {
     "cell_type": "code",
     "checksum": "8a6257dbd02d1af40cdfd288d7c37250",
     "grade": false,
     "grade_id": "tweet-created-at",
     "locked": true,
     "schema_version": 2,
     "solution": false
    }
   },
   "outputs": [
    {
     "name": "stdout",
     "output_type": "stream",
     "text": [
      "Sat Oct 20 16:30:00 +0000 2018\n",
      "Sat Oct 20 16:19:05 +0000 2018\n",
      "Sat Oct 20 15:03:27 +0000 2018\n"
     ]
    }
   ],
   "source": [
    "for t in trump_tweets[0:3]:\n",
    "    print(t['created_at'])"
   ]
  },
  {
   "cell_type": "markdown",
   "metadata": {
    "deletable": false,
    "editable": false,
    "nbgrader": {
     "cell_type": "markdown",
     "checksum": "5a4f73d1c7135ddc404472884d7ba6fa",
     "grade": false,
     "grade_id": "convert-to-est-justification",
     "locked": true,
     "schema_version": 2,
     "solution": false
    }
   },
   "source": [
    "We'll convert the tweet times to US Eastern Time, the timezone of New York and Washington D.C., since those are the places we would expect the most tweet activity from Trump."
   ]
  },
  {
   "cell_type": "code",
   "execution_count": 30,
   "metadata": {
    "deletable": false,
    "editable": false,
    "nbgrader": {
     "cell_type": "code",
     "checksum": "6adc54fdcb7560cb4586d97800b8bfab",
     "grade": false,
     "grade_id": "convert-to-est",
     "locked": true,
     "schema_version": 2,
     "solution": false
    }
   },
   "outputs": [
    {
     "data": {
      "text/html": [
       "<div>\n",
       "<style scoped>\n",
       "    .dataframe tbody tr th:only-of-type {\n",
       "        vertical-align: middle;\n",
       "    }\n",
       "\n",
       "    .dataframe tbody tr th {\n",
       "        vertical-align: top;\n",
       "    }\n",
       "\n",
       "    .dataframe thead th {\n",
       "        text-align: right;\n",
       "    }\n",
       "</style>\n",
       "<table border=\"1\" class=\"dataframe\">\n",
       "  <thead>\n",
       "    <tr style=\"text-align: right;\">\n",
       "      <th></th>\n",
       "      <th>time</th>\n",
       "      <th>source</th>\n",
       "      <th>text</th>\n",
       "      <th>retweet_count</th>\n",
       "      <th>est_time</th>\n",
       "    </tr>\n",
       "    <tr>\n",
       "      <th>id</th>\n",
       "      <th></th>\n",
       "      <th></th>\n",
       "      <th></th>\n",
       "      <th></th>\n",
       "      <th></th>\n",
       "    </tr>\n",
       "  </thead>\n",
       "  <tbody>\n",
       "    <tr>\n",
       "      <th>690171032150237184</th>\n",
       "      <td>2016-01-21 13:56:11</td>\n",
       "      <td>Twitter for Android</td>\n",
       "      <td>\"@bigop1: @realDonaldTrump  @SarahPalinUSA https://t.co/3kYQGqeVyD\"</td>\n",
       "      <td>1059</td>\n",
       "      <td>2016-01-21 08:56:11-05:00</td>\n",
       "    </tr>\n",
       "    <tr>\n",
       "      <th>690171403388104704</th>\n",
       "      <td>2016-01-21 13:57:39</td>\n",
       "      <td>Twitter for Android</td>\n",
       "      <td>\"@AmericanAsPie:  @glennbeck @SarahPalinUSA Remember when Glenn gave out gifts to ILLEGAL ALIENS at crossing the border? Me too!\"</td>\n",
       "      <td>1339</td>\n",
       "      <td>2016-01-21 08:57:39-05:00</td>\n",
       "    </tr>\n",
       "    <tr>\n",
       "      <th>690173226341691392</th>\n",
       "      <td>2016-01-21 14:04:54</td>\n",
       "      <td>Twitter for Android</td>\n",
       "      <td>So sad that @CNN and many others refused to show the massive crowd at the arena yesterday in Oklahoma. Dishonest reporting!</td>\n",
       "      <td>2006</td>\n",
       "      <td>2016-01-21 09:04:54-05:00</td>\n",
       "    </tr>\n",
       "    <tr>\n",
       "      <th>690176882055114758</th>\n",
       "      <td>2016-01-21 14:19:26</td>\n",
       "      <td>Twitter for Android</td>\n",
       "      <td>Sad sack @JebBush has just done another ad on me, with special interest money, saying I won't beat Hillary - I WILL. But he can't beat me.</td>\n",
       "      <td>2266</td>\n",
       "      <td>2016-01-21 09:19:26-05:00</td>\n",
       "    </tr>\n",
       "    <tr>\n",
       "      <th>690180284189310976</th>\n",
       "      <td>2016-01-21 14:32:57</td>\n",
       "      <td>Twitter for Android</td>\n",
       "      <td>Low energy candidate @JebBush has wasted $80 million on his failed presidential campaign. Millions spent on me. He should go home and relax!</td>\n",
       "      <td>2886</td>\n",
       "      <td>2016-01-21 09:32:57-05:00</td>\n",
       "    </tr>\n",
       "  </tbody>\n",
       "</table>\n",
       "</div>"
      ],
      "text/plain": [
       "                                  time               source  \\\n",
       "id                                                            \n",
       "690171032150237184 2016-01-21 13:56:11  Twitter for Android   \n",
       "690171403388104704 2016-01-21 13:57:39  Twitter for Android   \n",
       "690173226341691392 2016-01-21 14:04:54  Twitter for Android   \n",
       "690176882055114758 2016-01-21 14:19:26  Twitter for Android   \n",
       "690180284189310976 2016-01-21 14:32:57  Twitter for Android   \n",
       "\n",
       "                                                                                                                                                            text  \\\n",
       "id                                                                                                                                                                 \n",
       "690171032150237184                                                                           \"@bigop1: @realDonaldTrump  @SarahPalinUSA https://t.co/3kYQGqeVyD\"   \n",
       "690171403388104704             \"@AmericanAsPie:  @glennbeck @SarahPalinUSA Remember when Glenn gave out gifts to ILLEGAL ALIENS at crossing the border? Me too!\"   \n",
       "690173226341691392                   So sad that @CNN and many others refused to show the massive crowd at the arena yesterday in Oklahoma. Dishonest reporting!   \n",
       "690176882055114758    Sad sack @JebBush has just done another ad on me, with special interest money, saying I won't beat Hillary - I WILL. But he can't beat me.   \n",
       "690180284189310976  Low energy candidate @JebBush has wasted $80 million on his failed presidential campaign. Millions spent on me. He should go home and relax!   \n",
       "\n",
       "                    retweet_count                  est_time  \n",
       "id                                                           \n",
       "690171032150237184           1059 2016-01-21 08:56:11-05:00  \n",
       "690171403388104704           1339 2016-01-21 08:57:39-05:00  \n",
       "690173226341691392           2006 2016-01-21 09:04:54-05:00  \n",
       "690176882055114758           2266 2016-01-21 09:19:26-05:00  \n",
       "690180284189310976           2886 2016-01-21 09:32:57-05:00  "
      ]
     },
     "execution_count": 30,
     "metadata": {},
     "output_type": "execute_result"
    }
   ],
   "source": [
    "trump['est_time'] = (\n",
    "    trump['time'].dt.tz_localize(\"UTC\") # Set initial timezone to UTC\n",
    "                 .dt.tz_convert(\"EST\") # Convert to Eastern Time\n",
    ")\n",
    "trump.head()"
   ]
  },
  {
   "cell_type": "markdown",
   "metadata": {
    "deletable": false,
    "editable": false,
    "nbgrader": {
     "cell_type": "markdown",
     "checksum": "62a7fe09ae5f6e81c5112a2052452467",
     "grade": false,
     "grade_id": "need-to-do",
     "locked": true,
     "schema_version": 2,
     "solution": false
    }
   },
   "source": [
    "**What you need to do:**\n",
    "\n",
    "Add a column called `hour` to the `trump` table which contains the hour of the day as floating point number computed by:\n",
    "\n",
    "$$\n",
    "\\text{hour} + \\frac{\\text{minute}}{60} + \\frac{\\text{second}}{60^2}\n",
    "$$\n"
   ]
  },
  {
   "cell_type": "code",
   "execution_count": 31,
   "metadata": {
    "deletable": false,
    "nbgrader": {
     "cell_type": "code",
     "checksum": "06c6a53e7388e12148e57710efe30726",
     "grade": false,
     "grade_id": "q4b-answer",
     "locked": false,
     "schema_version": 2,
     "solution": true
    },
    "tags": [
     "student"
    ]
   },
   "outputs": [],
   "source": [
    "time = [re.findall('(\\d+):(\\d+):(\\d+)', str(t)) for t in trump['est_time']]\n",
    "trump['hour'] = [float(t[0][0]) + float(t[0][1])/60 + float(t[0][2])/3600 for t in time]\n",
    "\n",
    "\n",
    "# make a bar plot here\n",
    "# YOUR CODE HERE\n"
   ]
  },
  {
   "cell_type": "code",
   "execution_count": 32,
   "metadata": {
    "deletable": false,
    "editable": false,
    "nbgrader": {
     "cell_type": "code",
     "checksum": "b0fcc19ae4e12541fa73e3e62f334e01",
     "grade": true,
     "grade_id": "q4b-tests",
     "locked": true,
     "points": 1,
     "schema_version": 2,
     "solution": false
    },
    "tags": [
     "test",
     "q04a"
    ]
   },
   "outputs": [],
   "source": [
    "assert np.isclose(trump.loc[690171032150237184]['hour'], 8.93639)"
   ]
  },
  {
   "cell_type": "markdown",
   "metadata": {
    "deletable": false,
    "editable": false,
    "nbgrader": {
     "cell_type": "markdown",
     "checksum": "00c6bf4a7b09b661a2e430d2fd080a55",
     "grade": false,
     "grade_id": "q4c",
     "locked": true,
     "schema_version": 2,
     "solution": false
    }
   },
   "source": [
    "## Question 4c\n",
    "\n",
    "Use this data along with the seaborn `distplot` function to examine the distribution over hours of the day in eastern time that trump tweets on each device for the 2 most commonly used devices.  Your plot should look similar to the following. \n",
    "\n",
    "<img src=\"images/device_hour2.png\" width=\"600px\" />"
   ]
  },
  {
   "cell_type": "code",
   "execution_count": 33,
   "metadata": {
    "deletable": false,
    "nbgrader": {
     "cell_type": "code",
     "checksum": "8098891f5ad326482ed42b89fb116b10",
     "grade": true,
     "grade_id": "q4c-answer",
     "locked": false,
     "points": 2,
     "schema_version": 2,
     "solution": true
    }
   },
   "outputs": [
    {
     "data": {
      "image/png": "[encoded data removed]",
      "text/plain": [
       "<matplotlib.figure.Figure at 0x7f0e3b1e7978>"
      ]
     },
     "metadata": {},
     "output_type": "display_data"
    }
   ],
   "source": [
    "### make your plot here\n",
    "# YOUR CODE HERE\n",
    "iPhone = trump[trump['source'] == 'Twitter for iPhone']\n",
    "Android = trump[trump['source'] == 'Twitter for Android']\n",
    "sns.distplot(iPhone['hour'], hist=False, label='iPhone')\n",
    "sns.distplot(Android['hour'], hist=False, label='Android')\n",
    "plt.ylabel('fraction');"
   ]
  },
  {
   "cell_type": "markdown",
   "metadata": {
    "deletable": false,
    "editable": false,
    "nbgrader": {
     "cell_type": "markdown",
     "checksum": "7671d02d0497957893438869ee0b2e73",
     "grade": false,
     "grade_id": "q4d",
     "locked": true,
     "schema_version": 2,
     "solution": false
    }
   },
   "source": [
    "\n",
    "## Question 4d\n",
    "\n",
    "According to [this Verge article](https://www.theverge.com/2017/3/29/15103504/donald-trump-iphone-using-switched-android), Donald Trump switched from an Android to an iPhone sometime in March 2017.\n",
    "\n",
    "Create a figure identical to your figure from 4c, except that you should show the results only from 2016.\n",
    "\n",
    "During the campaign, it was theorized that Donald Trump's tweets from Android were written by him personally, and the tweets from iPhone were from his staff. Does your figure give support to this theory?"
   ]
  },
  {
   "cell_type": "code",
   "execution_count": 34,
   "metadata": {
    "deletable": false,
    "nbgrader": {
     "cell_type": "code",
     "checksum": "2a4bfea63d20cf7bdd4eeaedd3cd3d2d",
     "grade": true,
     "grade_id": "cell-ba90f75e6f9b73d6",
     "locked": false,
     "points": 1,
     "schema_version": 2,
     "solution": true
    }
   },
   "outputs": [
    {
     "data": {
      "image/png": "[encoded data removed]",
      "text/plain": [
       "<matplotlib.figure.Figure at 0x7f0e3b00cc88>"
      ]
     },
     "metadata": {},
     "output_type": "display_data"
    }
   ],
   "source": [
    "### make your plot here\n",
    "# YOUR CODE HERE\n",
    "year = [re.findall('(\\d\\d\\d\\d)', str(t)) for t in trump['est_time']]\n",
    "trump['year'] = [int(y[0]) for y in year]\n",
    "only_2016 = trump[trump['year'] == 2016]\n",
    "iPhone_2016 = only_2016[only_2016['source'] == 'Twitter for iPhone']\n",
    "Android_2016 = only_2016[only_2016['source'] == 'Twitter for Android']\n",
    "sns.distplot(iPhone_2016['hour'], hist=False, label='iPhone')\n",
    "sns.distplot(Android_2016['hour'], hist=False, label='Android')\n",
    "plt.ylabel('fraction');"
   ]
  },
  {
   "cell_type": "markdown",
   "metadata": {
    "deletable": false,
    "nbgrader": {
     "cell_type": "markdown",
     "checksum": "dd2a71cbda4d42eaf1a86490a723f4ea",
     "grade": true,
     "grade_id": "q4d-answer",
     "locked": false,
     "points": 1,
     "schema_version": 2,
     "solution": true
    },
    "tags": [
     "student",
     "written"
    ]
   },
   "source": [
    "The figure does give some support to this theory because when looking at the plot of Trump's tweets from 2016, we see that the times at which his tweets from iPhone occurred the most often were earlier in the day than the times when the tweets came from Android, but when looking at the plot of all Trump's tweets, we see that over the years he tended to tweet the most often around the same hour in the earlier part of the day from both iPhone and Android. So, one possible explanation is that this occurred because someone else was tweeting from iPhone in 2016 for him, since the distribution of tweets from Android looked the same in both plots while the distribution of tweets from iPhone changed.\n"
   ]
  },
  {
   "cell_type": "markdown",
   "metadata": {
    "deletable": false,
    "editable": false,
    "nbgrader": {
     "cell_type": "markdown",
     "checksum": "a59afe12404b1f0811e16801674c53cf",
     "grade": false,
     "grade_id": "q5",
     "locked": true,
     "schema_version": 2,
     "solution": false
    }
   },
   "source": [
    "## Question 5\n",
    "\n",
    "Let's now look at which device he has used over the entire time period of this dataset.\n",
    "\n",
    "To examine the distribution of dates we will convert the date to a fractional year that can be plotted as a distribution.\n",
    "\n",
    "(Code borrowed from https://stackoverflow.com/questions/6451655/python-how-to-convert-datetime-dates-to-decimal-years)"
   ]
  },
  {
   "cell_type": "code",
   "execution_count": 35,
   "metadata": {
    "deletable": false,
    "editable": false,
    "nbgrader": {
     "cell_type": "code",
     "checksum": "473e641d026c095c438d79d7aa94b2f2",
     "grade": false,
     "grade_id": "fractional-year",
     "locked": true,
     "schema_version": 2,
     "solution": false
    }
   },
   "outputs": [],
   "source": [
    "import datetime\n",
    "def year_fraction(date):\n",
    "    start = datetime.date(date.year, 1, 1).toordinal()\n",
    "    year_length = datetime.date(date.year+1, 1, 1).toordinal() - start\n",
    "    return date.year + float(date.toordinal() - start) / year_length\n",
    "\n",
    "\n",
    "trump['year'] = trump['time'].apply(year_fraction)"
   ]
  },
  {
   "cell_type": "markdown",
   "metadata": {
    "deletable": false,
    "editable": false,
    "nbgrader": {
     "cell_type": "markdown",
     "checksum": "64eb067a351f92005ef87b72f2298f8a",
     "grade": false,
     "grade_id": "q5a",
     "locked": true,
     "schema_version": 2,
     "solution": false
    }
   },
   "source": [
    "### Question 5a\n",
    "\n",
    "Use the `sns.distplot` to overlay the distributions of the 2 most frequently used web technologies over the years.  Your final plot should look like:\n",
    "\n",
    "<img src=\"images/source_years.png\" width=\"600px\" />\n"
   ]
  },
  {
   "cell_type": "code",
   "execution_count": 36,
   "metadata": {
    "deletable": false,
    "nbgrader": {
     "cell_type": "code",
     "checksum": "1e4c5f933e6074bd85bb221f71bf9e9b",
     "grade": true,
     "grade_id": "q5a-answer",
     "locked": false,
     "points": 2,
     "schema_version": 2,
     "solution": true
    }
   },
   "outputs": [
    {
     "data": {
      "image/png": "[encoded data removed]",
      "text/plain": [
       "<matplotlib.figure.Figure at 0x7f0e3b8b8c18>"
      ]
     },
     "metadata": {},
     "output_type": "display_data"
    }
   ],
   "source": [
    "# YOUR CODE HERE\n",
    "iPhone_dates = trump[trump['source'] == 'Twitter for iPhone']\n",
    "Android_dates = trump[trump['source'] == 'Twitter for Android']\n",
    "sns.distplot(iPhone_dates['year'], label='iPhone')\n",
    "sns.distplot(Android_dates['year'], label='Android')\n",
    "plt.yticks(np.arange(0, 1.51, .25))\n",
    "plt.legend();"
   ]
  },
  {
   "cell_type": "markdown",
   "metadata": {
    "deletable": false,
    "editable": false,
    "nbgrader": {
     "cell_type": "markdown",
     "checksum": "9160f63c38f2638e31ad51b3260bef67",
     "grade": false,
     "grade_id": "q6-header",
     "locked": true,
     "schema_version": 2,
     "solution": false
    }
   },
   "source": [
    "## Question 6: Sentiment Analysis\n",
    "\n",
    "It turns out that we can use the words in Trump's tweets to calculate a measure of the sentiment of the tweet. For example, the sentence \"I love America!\" has positive sentiment, whereas the sentence \"I hate taxes!\" has a negative sentiment. In addition, some words have stronger positive / negative sentiment than others: \"I love America.\" is more positive than \"I like America.\"\n",
    "\n",
    "We will use the [VADER (Valence Aware Dictionary and sEntiment Reasoner)](https://github.com/cjhutto/vaderSentiment) lexicon to analyze the sentiment of Trump's tweets. VADER is a lexicon and rule-based sentiment analysis tool that is specifically attuned to sentiments expressed in social media which is great for our usage.\n",
    "\n",
    "The VADER lexicon gives the sentiment of individual words. Run the following cell to show the first few rows of the lexicon:"
   ]
  },
  {
   "cell_type": "code",
   "execution_count": 37,
   "metadata": {
    "deletable": false,
    "editable": false,
    "nbgrader": {
     "cell_type": "code",
     "checksum": "4bdf61c45c5bf6f12052419af685d59e",
     "grade": false,
     "grade_id": "head-vader",
     "locked": true,
     "schema_version": 2,
     "solution": false
    }
   },
   "outputs": [
    {
     "name": "stdout",
     "output_type": "stream",
     "text": [
      "$:\t-1.5\t0.80623\t[-1, -1, -1, -1, -3, -1, -3, -1, -2, -1]\n",
      "%)\t-0.4\t1.0198\t[-1, 0, -1, 0, 0, -2, -1, 2, -1, 0]\n",
      "%-)\t-1.5\t1.43178\t[-2, 0, -2, -2, -1, 2, -2, -3, -2, -3]\n",
      "&-:\t-0.4\t1.42829\t[-3, -1, 0, 0, -1, -1, -1, 2, -1, 2]\n",
      "&:\t-0.7\t0.64031\t[0, -1, -1, -1, 1, -1, -1, -1, -1, -1]\n",
      "( '}{' )\t1.6\t0.66332\t[1, 2, 2, 1, 1, 2, 2, 1, 3, 1]\n",
      "(%\t-0.9\t0.9434\t[0, 0, 1, -1, -1, -1, -2, -2, -1, -2]\n",
      "('-:\t2.2\t1.16619\t[4, 1, 4, 3, 1, 2, 3, 1, 2, 1]\n",
      "(':\t2.3\t0.9\t[1, 3, 3, 2, 2, 4, 2, 3, 1, 2]\n",
      "((-:\t2.1\t0.53852\t[2, 2, 2, 1, 2, 3, 2, 2, 3, 2]\n",
      "\n"
     ]
    }
   ],
   "source": [
    "print(''.join(open(\"vader_lexicon.txt\").readlines()[:10]))"
   ]
  },
  {
   "cell_type": "markdown",
   "metadata": {
    "deletable": false,
    "editable": false,
    "nbgrader": {
     "cell_type": "markdown",
     "checksum": "631d386141906603b7febb8ce0901638",
     "grade": false,
     "grade_id": "q6a-header",
     "locked": true,
     "schema_version": 2,
     "solution": false
    }
   },
   "source": [
    "## Question 6a\n",
    "\n",
    "As you can see, the lexicon contains emojis too! The first column of the lexicon is the *token*, or the word itself. The second column is the *polarity* of the word, or how positive / negative it is.\n",
    "\n",
    "(How did they decide the polarities of these words? What are the other two columns in the lexicon? See the link above.)\n",
    "\n",
    " Read in the lexicon into a DataFrame called `sent`. The index of the DF should be the tokens in the lexicon. `sent` should have one column: `polarity`: The polarity of each token."
   ]
  },
  {
   "cell_type": "code",
   "execution_count": 38,
   "metadata": {
    "deletable": false,
    "nbgrader": {
     "cell_type": "code",
     "checksum": "962759aad285ccfb16f06dc8dd86035c",
     "grade": false,
     "grade_id": "q6a1",
     "locked": false,
     "schema_version": 2,
     "solution": true
    },
    "tags": [
     "student"
    ]
   },
   "outputs": [
    {
     "data": {
      "text/html": [
       "<div>\n",
       "<style scoped>\n",
       "    .dataframe tbody tr th:only-of-type {\n",
       "        vertical-align: middle;\n",
       "    }\n",
       "\n",
       "    .dataframe tbody tr th {\n",
       "        vertical-align: top;\n",
       "    }\n",
       "\n",
       "    .dataframe thead th {\n",
       "        text-align: right;\n",
       "    }\n",
       "</style>\n",
       "<table border=\"1\" class=\"dataframe\">\n",
       "  <thead>\n",
       "    <tr style=\"text-align: right;\">\n",
       "      <th></th>\n",
       "      <th>polarity</th>\n",
       "    </tr>\n",
       "    <tr>\n",
       "      <th>token</th>\n",
       "      <th></th>\n",
       "    </tr>\n",
       "  </thead>\n",
       "  <tbody>\n",
       "    <tr>\n",
       "      <th>$:</th>\n",
       "      <td>-1.5</td>\n",
       "    </tr>\n",
       "    <tr>\n",
       "      <th>%)</th>\n",
       "      <td>-0.4</td>\n",
       "    </tr>\n",
       "    <tr>\n",
       "      <th>%-)</th>\n",
       "      <td>-1.5</td>\n",
       "    </tr>\n",
       "    <tr>\n",
       "      <th>&amp;-:</th>\n",
       "      <td>-0.4</td>\n",
       "    </tr>\n",
       "    <tr>\n",
       "      <th>&amp;:</th>\n",
       "      <td>-0.7</td>\n",
       "    </tr>\n",
       "    <tr>\n",
       "      <th>( '}{' )</th>\n",
       "      <td>1.6</td>\n",
       "    </tr>\n",
       "    <tr>\n",
       "      <th>(%</th>\n",
       "      <td>-0.9</td>\n",
       "    </tr>\n",
       "    <tr>\n",
       "      <th>('-:</th>\n",
       "      <td>2.2</td>\n",
       "    </tr>\n",
       "    <tr>\n",
       "      <th>(':</th>\n",
       "      <td>2.3</td>\n",
       "    </tr>\n",
       "    <tr>\n",
       "      <th>((-:</th>\n",
       "      <td>2.1</td>\n",
       "    </tr>\n",
       "    <tr>\n",
       "      <th>(*</th>\n",
       "      <td>1.1</td>\n",
       "    </tr>\n",
       "    <tr>\n",
       "      <th>(-%</th>\n",
       "      <td>-0.7</td>\n",
       "    </tr>\n",
       "    <tr>\n",
       "      <th>(-*</th>\n",
       "      <td>1.3</td>\n",
       "    </tr>\n",
       "    <tr>\n",
       "      <th>(-:</th>\n",
       "      <td>1.6</td>\n",
       "    </tr>\n",
       "    <tr>\n",
       "      <th>(-:0</th>\n",
       "      <td>2.8</td>\n",
       "    </tr>\n",
       "    <tr>\n",
       "      <th>(-:&lt;</th>\n",
       "      <td>-0.4</td>\n",
       "    </tr>\n",
       "    <tr>\n",
       "      <th>(-:o</th>\n",
       "      <td>1.5</td>\n",
       "    </tr>\n",
       "    <tr>\n",
       "      <th>(-:O</th>\n",
       "      <td>1.5</td>\n",
       "    </tr>\n",
       "    <tr>\n",
       "      <th>(-:{</th>\n",
       "      <td>-0.1</td>\n",
       "    </tr>\n",
       "    <tr>\n",
       "      <th>(-:|&gt;*</th>\n",
       "      <td>1.9</td>\n",
       "    </tr>\n",
       "    <tr>\n",
       "      <th>(-;</th>\n",
       "      <td>1.3</td>\n",
       "    </tr>\n",
       "    <tr>\n",
       "      <th>(-;|</th>\n",
       "      <td>2.1</td>\n",
       "    </tr>\n",
       "    <tr>\n",
       "      <th>(8</th>\n",
       "      <td>2.6</td>\n",
       "    </tr>\n",
       "    <tr>\n",
       "      <th>(:</th>\n",
       "      <td>2.2</td>\n",
       "    </tr>\n",
       "    <tr>\n",
       "      <th>(:0</th>\n",
       "      <td>2.4</td>\n",
       "    </tr>\n",
       "    <tr>\n",
       "      <th>(:&lt;</th>\n",
       "      <td>-0.2</td>\n",
       "    </tr>\n",
       "    <tr>\n",
       "      <th>(:o</th>\n",
       "      <td>2.5</td>\n",
       "    </tr>\n",
       "    <tr>\n",
       "      <th>(:O</th>\n",
       "      <td>2.5</td>\n",
       "    </tr>\n",
       "    <tr>\n",
       "      <th>(;</th>\n",
       "      <td>1.1</td>\n",
       "    </tr>\n",
       "    <tr>\n",
       "      <th>(;&lt;</th>\n",
       "      <td>0.3</td>\n",
       "    </tr>\n",
       "    <tr>\n",
       "      <th>...</th>\n",
       "      <td>...</td>\n",
       "    </tr>\n",
       "    <tr>\n",
       "      <th>xd</th>\n",
       "      <td>2.8</td>\n",
       "    </tr>\n",
       "    <tr>\n",
       "      <th>xp</th>\n",
       "      <td>1.6</td>\n",
       "    </tr>\n",
       "    <tr>\n",
       "      <th>yay</th>\n",
       "      <td>2.4</td>\n",
       "    </tr>\n",
       "    <tr>\n",
       "      <th>yeah</th>\n",
       "      <td>1.2</td>\n",
       "    </tr>\n",
       "    <tr>\n",
       "      <th>yearning</th>\n",
       "      <td>0.5</td>\n",
       "    </tr>\n",
       "    <tr>\n",
       "      <th>yeees</th>\n",
       "      <td>1.7</td>\n",
       "    </tr>\n",
       "    <tr>\n",
       "      <th>yep</th>\n",
       "      <td>1.2</td>\n",
       "    </tr>\n",
       "    <tr>\n",
       "      <th>yes</th>\n",
       "      <td>1.7</td>\n",
       "    </tr>\n",
       "    <tr>\n",
       "      <th>youthful</th>\n",
       "      <td>1.3</td>\n",
       "    </tr>\n",
       "    <tr>\n",
       "      <th>yucky</th>\n",
       "      <td>-1.8</td>\n",
       "    </tr>\n",
       "    <tr>\n",
       "      <th>yummy</th>\n",
       "      <td>2.4</td>\n",
       "    </tr>\n",
       "    <tr>\n",
       "      <th>zealot</th>\n",
       "      <td>-1.9</td>\n",
       "    </tr>\n",
       "    <tr>\n",
       "      <th>zealots</th>\n",
       "      <td>-0.8</td>\n",
       "    </tr>\n",
       "    <tr>\n",
       "      <th>zealous</th>\n",
       "      <td>0.5</td>\n",
       "    </tr>\n",
       "    <tr>\n",
       "      <th>{:</th>\n",
       "      <td>1.8</td>\n",
       "    </tr>\n",
       "    <tr>\n",
       "      <th>|-0</th>\n",
       "      <td>-1.2</td>\n",
       "    </tr>\n",
       "    <tr>\n",
       "      <th>|-:</th>\n",
       "      <td>-0.8</td>\n",
       "    </tr>\n",
       "    <tr>\n",
       "      <th>|-:&gt;</th>\n",
       "      <td>-1.6</td>\n",
       "    </tr>\n",
       "    <tr>\n",
       "      <th>|-o</th>\n",
       "      <td>-1.2</td>\n",
       "    </tr>\n",
       "    <tr>\n",
       "      <th>|:</th>\n",
       "      <td>-0.5</td>\n",
       "    </tr>\n",
       "    <tr>\n",
       "      <th>|;-)</th>\n",
       "      <td>2.2</td>\n",
       "    </tr>\n",
       "    <tr>\n",
       "      <th>|=</th>\n",
       "      <td>-0.4</td>\n",
       "    </tr>\n",
       "    <tr>\n",
       "      <th>|^:</th>\n",
       "      <td>-1.1</td>\n",
       "    </tr>\n",
       "    <tr>\n",
       "      <th>|o:</th>\n",
       "      <td>-0.9</td>\n",
       "    </tr>\n",
       "    <tr>\n",
       "      <th>||-:</th>\n",
       "      <td>-2.3</td>\n",
       "    </tr>\n",
       "    <tr>\n",
       "      <th>}:</th>\n",
       "      <td>-2.1</td>\n",
       "    </tr>\n",
       "    <tr>\n",
       "      <th>}:(</th>\n",
       "      <td>-2.0</td>\n",
       "    </tr>\n",
       "    <tr>\n",
       "      <th>}:)</th>\n",
       "      <td>0.4</td>\n",
       "    </tr>\n",
       "    <tr>\n",
       "      <th>}:-(</th>\n",
       "      <td>-2.1</td>\n",
       "    </tr>\n",
       "    <tr>\n",
       "      <th>}:-)</th>\n",
       "      <td>0.3</td>\n",
       "    </tr>\n",
       "  </tbody>\n",
       "</table>\n",
       "<p>7517 rows × 1 columns</p>\n",
       "</div>"
      ],
      "text/plain": [
       "          polarity\n",
       "token             \n",
       "$:            -1.5\n",
       "%)            -0.4\n",
       "%-)           -1.5\n",
       "&-:           -0.4\n",
       "&:            -0.7\n",
       "( '}{' )       1.6\n",
       "(%            -0.9\n",
       "('-:           2.2\n",
       "(':            2.3\n",
       "((-:           2.1\n",
       "(*             1.1\n",
       "(-%           -0.7\n",
       "(-*            1.3\n",
       "(-:            1.6\n",
       "(-:0           2.8\n",
       "(-:<          -0.4\n",
       "(-:o           1.5\n",
       "(-:O           1.5\n",
       "(-:{          -0.1\n",
       "(-:|>*         1.9\n",
       "(-;            1.3\n",
       "(-;|           2.1\n",
       "(8             2.6\n",
       "(:             2.2\n",
       "(:0            2.4\n",
       "(:<           -0.2\n",
       "(:o            2.5\n",
       "(:O            2.5\n",
       "(;             1.1\n",
       "(;<            0.3\n",
       "...            ...\n",
       "xd             2.8\n",
       "xp             1.6\n",
       "yay            2.4\n",
       "yeah           1.2\n",
       "yearning       0.5\n",
       "yeees          1.7\n",
       "yep            1.2\n",
       "yes            1.7\n",
       "youthful       1.3\n",
       "yucky         -1.8\n",
       "yummy          2.4\n",
       "zealot        -1.9\n",
       "zealots       -0.8\n",
       "zealous        0.5\n",
       "{:             1.8\n",
       "|-0           -1.2\n",
       "|-:           -0.8\n",
       "|-:>          -1.6\n",
       "|-o           -1.2\n",
       "|:            -0.5\n",
       "|;-)           2.2\n",
       "|=            -0.4\n",
       "|^:           -1.1\n",
       "|o:           -0.9\n",
       "||-:          -2.3\n",
       "}:            -2.1\n",
       "}:(           -2.0\n",
       "}:)            0.4\n",
       "}:-(          -2.1\n",
       "}:-)           0.3\n",
       "\n",
       "[7517 rows x 1 columns]"
      ]
     },
     "execution_count": 38,
     "metadata": {},
     "output_type": "execute_result"
    }
   ],
   "source": [
    "sent = pd.read_csv(\"vader_lexicon.txt\", delimiter=\"\\t\", names=['token', 'polarity', 'other1', 'other2']).set_index('token')\n",
    "sent = sent.drop(columns=['other1', 'other2'])\n",
    "sent\n",
    "# YOUR CODE HERE"
   ]
  },
  {
   "cell_type": "code",
   "execution_count": 39,
   "metadata": {
    "deletable": false,
    "editable": false,
    "nbgrader": {
     "cell_type": "code",
     "checksum": "417f93b4eb89b4206d6b77725b72e56a",
     "grade": true,
     "grade_id": "q6a-test1",
     "locked": true,
     "points": 1,
     "schema_version": 2,
     "solution": false
    },
    "tags": [
     "test",
     "q05a"
    ]
   },
   "outputs": [],
   "source": [
    "assert isinstance(sent, pd.DataFrame)\n",
    "assert sent.shape == (7517, 1)\n",
    "assert list(sent.index[5000:5005]) == ['paranoids', 'pardon', 'pardoned', 'pardoning', 'pardons']\n",
    "assert np.allclose(sent['polarity'].head(), [-1.5, -0.4, -1.5, -0.4, -0.7])"
   ]
  },
  {
   "cell_type": "markdown",
   "metadata": {
    "deletable": false,
    "editable": false,
    "nbgrader": {
     "cell_type": "markdown",
     "checksum": "53a09bb6ee188a572ee0c8501087ac9c",
     "grade": false,
     "grade_id": "q6b-header",
     "locked": true,
     "schema_version": 2,
     "solution": false
    }
   },
   "source": [
    "## Question 6b\n",
    "\n",
    "Now, let's use this lexicon to calculate the overall sentiment for each of Trump's tweets. Here's the basic idea:\n",
    "\n",
    "1. For each tweet, find the sentiment of each word.\n",
    "2. Calculate the sentiment of each tweet by taking the sum of the sentiments of its words.\n",
    "\n",
    "First, let's lowercase the text in the tweets since the lexicon is also lowercase. Set the `text` column of the `trump` DF to be the lowercased text of each tweet."
   ]
  },
  {
   "cell_type": "code",
   "execution_count": 40,
   "metadata": {
    "deletable": false,
    "nbgrader": {
     "cell_type": "code",
     "checksum": "a8bb2469a666ad8f1388abb6ad808881",
     "grade": false,
     "grade_id": "q6b-answer",
     "locked": false,
     "schema_version": 2,
     "solution": true
    },
    "tags": [
     "student"
    ]
   },
   "outputs": [],
   "source": [
    "# YOUR CODE HERE\n",
    "trump['text'] = trump['text'].str.lower()"
   ]
  },
  {
   "cell_type": "code",
   "execution_count": 41,
   "metadata": {
    "deletable": false,
    "editable": false,
    "nbgrader": {
     "cell_type": "code",
     "checksum": "13de085e42b82bf985f60f6489ed6946",
     "grade": true,
     "grade_id": "q6b-test",
     "locked": true,
     "points": 1,
     "schema_version": 2,
     "solution": false
    },
    "tags": [
     "test",
     "q05b"
    ]
   },
   "outputs": [],
   "source": [
    "assert trump['text'].loc[884740553040175104] == 'working hard to get the olympics for the united states (l.a.). stay tuned!'"
   ]
  },
  {
   "cell_type": "markdown",
   "metadata": {
    "deletable": false,
    "editable": false,
    "nbgrader": {
     "cell_type": "markdown",
     "checksum": "b985c716dee1121b3764f29e1648fe14",
     "grade": false,
     "grade_id": "q6c-header",
     "locked": true,
     "schema_version": 2,
     "solution": false
    }
   },
   "source": [
    "## Question 6c\n",
    "\n",
    "Now, let's get rid of punctuation since it'll cause us to fail to match words. Create a new column called `no_punc` in the `trump` DF to be the lowercased text of each tweet with all punctuation replaced by a single space. We consider punctuation characters to be any character that isn't a Unicode word character or a whitespace character. You may want to consult the Python documentation on regexes for this problem.\n",
    "\n",
    "(Why don't we simply remove punctuation instead of replacing with a space? See if you can figure this out by looking at the tweet data.)"
   ]
  },
  {
   "cell_type": "code",
   "execution_count": 42,
   "metadata": {
    "deletable": false,
    "nbgrader": {
     "cell_type": "code",
     "checksum": "2901325706be092abb437c239e7d3d83",
     "grade": false,
     "grade_id": "q6c",
     "locked": false,
     "schema_version": 2,
     "solution": true
    },
    "tags": [
     "student"
    ]
   },
   "outputs": [],
   "source": [
    "# Save your regex in punct_re\n",
    "punct_re = r'[^\\w\\s]'\n",
    "trump['no_punc'] = trump['text'].str.replace(punct_re, \" \")\n",
    "# YOUR CODE HERE"
   ]
  },
  {
   "cell_type": "code",
   "execution_count": 43,
   "metadata": {
    "deletable": false,
    "editable": false,
    "nbgrader": {
     "cell_type": "code",
     "checksum": "acba51f5c1ed85ceafe923184be4be33",
     "grade": true,
     "grade_id": "q6c-test",
     "locked": true,
     "points": 1,
     "schema_version": 2,
     "solution": false
    },
    "tags": [
     "test",
     "q05c"
    ]
   },
   "outputs": [],
   "source": [
    "assert isinstance(punct_re, str)\n",
    "assert re.search(punct_re, 'this') is None\n",
    "assert re.search(punct_re, 'this is ok') is None\n",
    "assert re.search(punct_re, 'this is\\nok') is None\n",
    "assert re.search(punct_re, 'this is not ok.') is not None\n",
    "assert re.search(punct_re, 'this#is#ok') is not None\n",
    "assert re.search(punct_re, 'this^is ok') is not None\n",
    "assert trump['no_punc'].loc[800329364986626048] == 'i watched parts of  nbcsnl saturday night live last night  it is a totally one sided  biased show   nothing funny at all  equal time for us '\n",
    "assert trump['no_punc'].loc[894620077634592769] == 'on  purpleheartday i thank all the brave men and women who have sacrificed in battle for this great nation   usa   https   t co qmfdlslp6p'\n",
    "# If you fail these tests, you accidentally changed the text column\n",
    "assert trump['text'].loc[884740553040175104] == 'working hard to get the olympics for the united states (l.a.). stay tuned!'"
   ]
  },
  {
   "cell_type": "markdown",
   "metadata": {
    "deletable": false,
    "editable": false,
    "nbgrader": {
     "cell_type": "markdown",
     "checksum": "f5839488bd1747eb5a57c1f22124fd25",
     "grade": false,
     "grade_id": "q6d-header",
     "locked": true,
     "schema_version": 2,
     "solution": false
    }
   },
   "source": [
    "## Question 6d:\n",
    "\n",
    "\n",
    "Now, let's convert the tweets into what's called a [*tidy format*](https://cran.r-project.org/web/packages/tidyr/vignettes/tidy-data.html) to make the sentiments easier to calculate. Use the `no_punc` column of `trump` to create a table called `tidy_format`. The index of the table should be the IDs of the tweets, repeated once for every word in the tweet. It has two columns:\n",
    "\n",
    "1. `num`: The location of the word in the tweet. For example, if the tweet was \"i love america\", then the location of the word \"i\" is 0, \"love\" is 1, and \"america\" is 2.\n",
    "2. `word`: The individual words of each tweet.\n",
    "\n",
    "The first few rows of our `tidy_format` table look like:\n",
    "\n",
    "<table border=\"1\" class=\"dataframe\">\n",
    "  <thead>\n",
    "    <tr style=\"text-align: right;\">\n",
    "      <th></th>\n",
    "      <th>num</th>\n",
    "      <th>word</th>\n",
    "    </tr>\n",
    "  </thead>\n",
    "  <tbody>\n",
    "    <tr>\n",
    "      <th>894661651760377856</th>\n",
    "      <td>0</td>\n",
    "      <td>i</td>\n",
    "    </tr>\n",
    "    <tr>\n",
    "      <th>894661651760377856</th>\n",
    "      <td>1</td>\n",
    "      <td>think</td>\n",
    "    </tr>\n",
    "    <tr>\n",
    "      <th>894661651760377856</th>\n",
    "      <td>2</td>\n",
    "      <td>senator</td>\n",
    "    </tr>\n",
    "    <tr>\n",
    "      <th>894661651760377856</th>\n",
    "      <td>3</td>\n",
    "      <td>blumenthal</td>\n",
    "    </tr>\n",
    "    <tr>\n",
    "      <th>894661651760377856</th>\n",
    "      <td>4</td>\n",
    "      <td>should</td>\n",
    "    </tr>\n",
    "  </tbody>\n",
    "</table>\n",
    "\n",
    "**Note that you'll get different results depending on when you pulled in the tweets.** However, you can double check that your tweet with ID `894661651760377856` has the same rows as ours. Our tests don't check whether your table looks exactly like ours.\n",
    "\n",
    "As usual, try to avoid using any for loops. Our solution uses a chain of 5 methods on the 'trump' DF, albeit using some rather advanced Pandas hacking.\n",
    "\n",
    "* **Hint 1:** Try looking at the `expand` argument to pandas' `str.split`.\n",
    "\n",
    "* **Hint 2:** Try looking at the `stack()` method.\n",
    "\n",
    "* **Hint 3:** Try looking at the `level` parameter of the `reset_index` method.\n"
   ]
  },
  {
   "cell_type": "code",
   "execution_count": 44,
   "metadata": {
    "deletable": false,
    "nbgrader": {
     "cell_type": "code",
     "checksum": "71f93a81cbd4dd1b2ff47a6d65ef758e",
     "grade": false,
     "grade_id": "q6d-answer",
     "locked": false,
     "schema_version": 2,
     "solution": true
    },
    "tags": [
     "student"
    ]
   },
   "outputs": [
    {
     "data": {
      "text/html": [
       "<div>\n",
       "<style scoped>\n",
       "    .dataframe tbody tr th:only-of-type {\n",
       "        vertical-align: middle;\n",
       "    }\n",
       "\n",
       "    .dataframe tbody tr th {\n",
       "        vertical-align: top;\n",
       "    }\n",
       "\n",
       "    .dataframe thead th {\n",
       "        text-align: right;\n",
       "    }\n",
       "</style>\n",
       "<table border=\"1\" class=\"dataframe\">\n",
       "  <thead>\n",
       "    <tr style=\"text-align: right;\">\n",
       "      <th></th>\n",
       "      <th>num</th>\n",
       "      <th>word</th>\n",
       "    </tr>\n",
       "  </thead>\n",
       "  <tbody>\n",
       "    <tr>\n",
       "      <th>894661651760377856</th>\n",
       "      <td>0</td>\n",
       "      <td>i</td>\n",
       "    </tr>\n",
       "    <tr>\n",
       "      <th>894661651760377856</th>\n",
       "      <td>1</td>\n",
       "      <td>think</td>\n",
       "    </tr>\n",
       "    <tr>\n",
       "      <th>894661651760377856</th>\n",
       "      <td>2</td>\n",
       "      <td>senator</td>\n",
       "    </tr>\n",
       "    <tr>\n",
       "      <th>894661651760377856</th>\n",
       "      <td>3</td>\n",
       "      <td>blumenthal</td>\n",
       "    </tr>\n",
       "    <tr>\n",
       "      <th>894661651760377856</th>\n",
       "      <td>4</td>\n",
       "      <td>should</td>\n",
       "    </tr>\n",
       "    <tr>\n",
       "      <th>894661651760377856</th>\n",
       "      <td>5</td>\n",
       "      <td>take</td>\n",
       "    </tr>\n",
       "    <tr>\n",
       "      <th>894661651760377856</th>\n",
       "      <td>6</td>\n",
       "      <td>a</td>\n",
       "    </tr>\n",
       "    <tr>\n",
       "      <th>894661651760377856</th>\n",
       "      <td>7</td>\n",
       "      <td>nice</td>\n",
       "    </tr>\n",
       "    <tr>\n",
       "      <th>894661651760377856</th>\n",
       "      <td>8</td>\n",
       "      <td>long</td>\n",
       "    </tr>\n",
       "    <tr>\n",
       "      <th>894661651760377856</th>\n",
       "      <td>9</td>\n",
       "      <td>vacation</td>\n",
       "    </tr>\n",
       "    <tr>\n",
       "      <th>894661651760377856</th>\n",
       "      <td>10</td>\n",
       "      <td>in</td>\n",
       "    </tr>\n",
       "    <tr>\n",
       "      <th>894661651760377856</th>\n",
       "      <td>11</td>\n",
       "      <td>vietnam</td>\n",
       "    </tr>\n",
       "    <tr>\n",
       "      <th>894661651760377856</th>\n",
       "      <td>12</td>\n",
       "      <td>where</td>\n",
       "    </tr>\n",
       "    <tr>\n",
       "      <th>894661651760377856</th>\n",
       "      <td>13</td>\n",
       "      <td>he</td>\n",
       "    </tr>\n",
       "    <tr>\n",
       "      <th>894661651760377856</th>\n",
       "      <td>14</td>\n",
       "      <td>lied</td>\n",
       "    </tr>\n",
       "    <tr>\n",
       "      <th>894661651760377856</th>\n",
       "      <td>15</td>\n",
       "      <td>about</td>\n",
       "    </tr>\n",
       "    <tr>\n",
       "      <th>894661651760377856</th>\n",
       "      <td>16</td>\n",
       "      <td>his</td>\n",
       "    </tr>\n",
       "    <tr>\n",
       "      <th>894661651760377856</th>\n",
       "      <td>17</td>\n",
       "      <td>service</td>\n",
       "    </tr>\n",
       "    <tr>\n",
       "      <th>894661651760377856</th>\n",
       "      <td>18</td>\n",
       "      <td>so</td>\n",
       "    </tr>\n",
       "    <tr>\n",
       "      <th>894661651760377856</th>\n",
       "      <td>19</td>\n",
       "      <td>he</td>\n",
       "    </tr>\n",
       "    <tr>\n",
       "      <th>894661651760377856</th>\n",
       "      <td>20</td>\n",
       "      <td>can</td>\n",
       "    </tr>\n",
       "    <tr>\n",
       "      <th>894661651760377856</th>\n",
       "      <td>21</td>\n",
       "      <td>at</td>\n",
       "    </tr>\n",
       "    <tr>\n",
       "      <th>894661651760377856</th>\n",
       "      <td>22</td>\n",
       "      <td>least</td>\n",
       "    </tr>\n",
       "    <tr>\n",
       "      <th>894661651760377856</th>\n",
       "      <td>23</td>\n",
       "      <td>say</td>\n",
       "    </tr>\n",
       "    <tr>\n",
       "      <th>894661651760377856</th>\n",
       "      <td>24</td>\n",
       "      <td>he</td>\n",
       "    </tr>\n",
       "    <tr>\n",
       "      <th>894661651760377856</th>\n",
       "      <td>25</td>\n",
       "      <td>was</td>\n",
       "    </tr>\n",
       "    <tr>\n",
       "      <th>894661651760377856</th>\n",
       "      <td>26</td>\n",
       "      <td>there</td>\n",
       "    </tr>\n",
       "  </tbody>\n",
       "</table>\n",
       "</div>"
      ],
      "text/plain": [
       "                    num        word\n",
       "894661651760377856    0           i\n",
       "894661651760377856    1       think\n",
       "894661651760377856    2     senator\n",
       "894661651760377856    3  blumenthal\n",
       "894661651760377856    4      should\n",
       "894661651760377856    5        take\n",
       "894661651760377856    6           a\n",
       "894661651760377856    7        nice\n",
       "894661651760377856    8        long\n",
       "894661651760377856    9    vacation\n",
       "894661651760377856   10          in\n",
       "894661651760377856   11     vietnam\n",
       "894661651760377856   12       where\n",
       "894661651760377856   13          he\n",
       "894661651760377856   14        lied\n",
       "894661651760377856   15       about\n",
       "894661651760377856   16         his\n",
       "894661651760377856   17     service\n",
       "894661651760377856   18          so\n",
       "894661651760377856   19          he\n",
       "894661651760377856   20         can\n",
       "894661651760377856   21          at\n",
       "894661651760377856   22       least\n",
       "894661651760377856   23         say\n",
       "894661651760377856   24          he\n",
       "894661651760377856   25         was\n",
       "894661651760377856   26       there"
      ]
     },
     "execution_count": 44,
     "metadata": {},
     "output_type": "execute_result"
    }
   ],
   "source": [
    "tidy_format = pd.DataFrame(trump['no_punc'].str.split(expand=True).stack()).reset_index(level=1)\n",
    "tidy_format.index.name = None\n",
    "tidy_format = tidy_format.rename(columns={\"level_1\":\"num\", 0:\"word\"})\n",
    "\n",
    "\n",
    "# YOUR CODE HERE\n",
    "tidy_format[tidy_format.index==894661651760377856]"
   ]
  },
  {
   "cell_type": "code",
   "execution_count": 45,
   "metadata": {
    "deletable": false,
    "editable": false,
    "nbgrader": {
     "cell_type": "code",
     "checksum": "78b35d7cc8348ceb6ffbd17591dfd4f1",
     "grade": true,
     "grade_id": "q6d-tests",
     "locked": true,
     "points": 1,
     "schema_version": 2,
     "solution": false
    },
    "tags": [
     "test",
     "q05d"
    ]
   },
   "outputs": [],
   "source": [
    "assert tidy_format.loc[894661651760377856].shape == (27, 2)\n",
    "assert ' '.join(list(tidy_format.loc[894661651760377856]['word'])) == 'i think senator blumenthal should take a nice long vacation in vietnam where he lied about his service so he can at least say he was there'"
   ]
  },
  {
   "cell_type": "markdown",
   "metadata": {
    "deletable": false,
    "editable": false,
    "nbgrader": {
     "cell_type": "markdown",
     "checksum": "b170181366bfdd62b6d5df9e487479b3",
     "grade": false,
     "grade_id": "q6e-header",
     "locked": true,
     "schema_version": 2,
     "solution": false
    }
   },
   "source": [
    "## Question 6e:\n",
    "\n",
    "Now that we have this table in the tidy format, it becomes much easier to find the sentiment of each tweet: we can join the table with the lexicon table. \n",
    "\n",
    "Add a `polarity` column to the `trump` table.  The `polarity` column should contain the sum of the sentiment polarity of each word in the text of the tweet.\n",
    "\n",
    "**Hint** you will need to merge the `tidy_format` and `sent` tables and group the final answer.\n"
   ]
  },
  {
   "cell_type": "code",
   "execution_count": 46,
   "metadata": {
    "deletable": false,
    "nbgrader": {
     "cell_type": "code",
     "checksum": "5ad778cbb8a86c9255acac2d8799fa96",
     "grade": false,
     "grade_id": "q6e",
     "locked": false,
     "schema_version": 2,
     "solution": true
    },
    "tags": [
     "student"
    ]
   },
   "outputs": [],
   "source": [
    "merged = tidy_format.merge(right=sent, how='left', left_on='word', right_index=True)\n",
    "merged = merged.groupby(merged.index).sum()\n",
    "trump['polarity'] = merged['polarity']\n",
    "\n",
    "# YOUR CODE HERE"
   ]
  },
  {
   "cell_type": "code",
   "execution_count": 47,
   "metadata": {
    "deletable": false,
    "editable": false,
    "nbgrader": {
     "cell_type": "code",
     "checksum": "ff43fac8ac5a95a2eef4bbb52405ad16",
     "grade": true,
     "grade_id": "q6e-tests",
     "locked": true,
     "points": 2,
     "schema_version": 2,
     "solution": false
    },
    "tags": [
     "test",
     "q05e"
    ]
   },
   "outputs": [],
   "source": [
    "assert np.allclose(trump.loc[744701872456536064, 'polarity'], 8.4)\n",
    "assert np.allclose(trump.loc[745304731346702336, 'polarity'], 2.5)\n",
    "assert np.allclose(trump.loc[744519497764184064, 'polarity'], 1.7)\n",
    "assert np.allclose(trump.loc[894661651760377856, 'polarity'], 0.2)\n",
    "assert np.allclose(trump.loc[894620077634592769, 'polarity'], 5.4)\n",
    "# If you fail this test, you dropped tweets with 0 polarity\n",
    "assert np.allclose(trump.loc[744355251365511169, 'polarity'], 0.0)"
   ]
  },
  {
   "cell_type": "markdown",
   "metadata": {
    "deletable": false,
    "editable": false,
    "nbgrader": {
     "cell_type": "markdown",
     "checksum": "1d52c721610f2c6a5e4862a1866e5abc",
     "grade": false,
     "grade_id": "a-note-on-vader",
     "locked": true,
     "schema_version": 2,
     "solution": false
    }
   },
   "source": [
    "Now we have a measure of the sentiment of each of his tweets! Note that this calculation is rather basic; you can read over the VADER readme to understand a more robust sentiment analysis.\n",
    "\n",
    "Now, run the cells below to see the most positive and most negative tweets from Trump in your dataset:"
   ]
  },
  {
   "cell_type": "code",
   "execution_count": 48,
   "metadata": {
    "deletable": false,
    "editable": false,
    "nbgrader": {
     "cell_type": "code",
     "checksum": "3ea0c421557a05c5a03c51515a5fdc78",
     "grade": false,
     "grade_id": "negative-tweets",
     "locked": true,
     "schema_version": 2,
     "solution": false
    }
   },
   "outputs": [
    {
     "name": "stdout",
     "output_type": "stream",
     "text": [
      "Most negative tweets:\n",
      "\n",
      "   it is outrageous that poisonous synthetic heroin fentanyl comes pouring into the u.s. postal system from china. we can, and must, end this now! the senate should pass the stop act – and firmly stop this poison from killing our children and destroying our country. no more delay!\n",
      "\n",
      "   the rigged russian witch hunt goes on and on as the “originators and founders” of this scam continue to be fired and demoted for their corrupt and illegal activity. all credibility is gone from this terrible hoax, and much more will be lost as it proceeds. no collusion!\n",
      "\n",
      "   james comey is a proven leaker &amp; liar. virtually everyone in washington thought he should be fired for the terrible job he did-until he was, in fact, fired. he leaked classified information, for which he should be prosecuted. he lied to congress under oath. he is a weak and.....\n",
      "\n",
      "   this is an illegally brought rigged witch hunt run by people who are totally corrupt and/or conflicted. it was started and paid for by crooked hillary and the democrats. phony dossier, fisa disgrace and so many lying and dishonest people already fired. 17 angry dems? stay tuned!\n",
      "\n",
      "   where’s the collusion? they made up a phony crime called collusion, and when there was no collusion they say there was obstruction (of a phony crime that never existed). if you fight back or say anything bad about the rigged witch hunt, they scream obstruction!\n"
     ]
    }
   ],
   "source": [
    "print('Most negative tweets:')\n",
    "for t in trump.sort_values('polarity').head()['text']:\n",
    "    print('\\n  ', t)"
   ]
  },
  {
   "cell_type": "code",
   "execution_count": 49,
   "metadata": {
    "deletable": false,
    "editable": false,
    "nbgrader": {
     "cell_type": "code",
     "checksum": "e0d27a82de94a1ce5cf64a2c72ffb7aa",
     "grade": false,
     "grade_id": "postive-tweets",
     "locked": true,
     "schema_version": 2,
     "solution": false
    }
   },
   "outputs": [
    {
     "name": "stdout",
     "output_type": "stream",
     "text": [
      "Most positive tweets:\n",
      "\n",
      "   congratulations to patrick reed on his great and courageous masters win! when patrick had his amazing win at doral 5 years ago, people saw his great talent, and a bright future ahead. now he is the masters champion!\n",
      "\n",
      "   my supporters are the smartest, strongest, most hard working and most loyal that we have seen in our countries history. it is a beautiful thing to watch as we win elections and gather support from all over the country. as we get stronger, so does our country. best numbers ever!\n",
      "\n",
      "   thank you to all of my great supporters, really big progress being made. other countries wanting to fix crazy trade deals. economy is roaring. supreme court pick getting great reviews. new poll says trump, at over 90%, is the most popular republican in history of the party. wow!\n",
      "\n",
      "   thank you, @wvgovernor jim justice, for that warm introduction. tonight, it was my great honor to attend the “greenbrier classic – salute to service dinner” in west virginia! god bless our veterans. god bless america - and happy independence day to all! https://t.co/v35qvcn8m6\n",
      "\n",
      "   the republican party had a great night. tremendous voter energy and excitement, and all candidates are those who have a great chance of winning in november. the economy is sooo strong, and with nancy pelosi wanting to end the big tax cuts and raise taxes, why wouldn’t we win?\n"
     ]
    }
   ],
   "source": [
    "print('Most positive tweets:')\n",
    "for t in trump.sort_values('polarity', ascending=False).head()['text']:\n",
    "    print('\\n  ', t)"
   ]
  },
  {
   "cell_type": "markdown",
   "metadata": {
    "deletable": false,
    "editable": false,
    "nbgrader": {
     "cell_type": "markdown",
     "checksum": "0f2ca7db78e7689cdd731e11c9dcffb9",
     "grade": false,
     "grade_id": "q6g",
     "locked": true,
     "schema_version": 2,
     "solution": false
    }
   },
   "source": [
    "## Question 6g\n",
    "\n",
    "Plot the distribution of tweet sentiments broken down by whether the text of the tweet contains `nyt` or `fox`.  Then in the box below comment on what we observe?"
   ]
  },
  {
   "cell_type": "code",
   "execution_count": 50,
   "metadata": {
    "deletable": false,
    "nbgrader": {
     "cell_type": "code",
     "checksum": "4eb3b83e9188000a1a52427c06ea3c62",
     "grade": true,
     "grade_id": "q6g-answer",
     "locked": false,
     "points": 1,
     "schema_version": 2,
     "solution": true
    },
    "tags": [
     "student"
    ]
   },
   "outputs": [
    {
     "data": {
      "image/png": "[encoded data removed]",
      "text/plain": [
       "<matplotlib.figure.Figure at 0x7f0e3cceb940>"
      ]
     },
     "metadata": {},
     "output_type": "display_data"
    }
   ],
   "source": [
    "# YOUR CODE HERE\n",
    "nyt = trump[trump['text'].str.contains('nyt')]\n",
    "fox = trump[trump['text'].str.contains('fox')]\n",
    "\n",
    "sns.distplot(nyt['polarity'], label='nyt')\n",
    "sns.distplot(fox['polarity'], label='fox')\n",
    "plt.legend();"
   ]
  },
  {
   "cell_type": "markdown",
   "metadata": {
    "deletable": false,
    "editable": false,
    "nbgrader": {
     "cell_type": "markdown",
     "checksum": "88e3a81cb1d24df731e4d72d10f08d9f",
     "grade": false,
     "grade_id": "comment-on-faux-news",
     "locked": true,
     "schema_version": 2,
     "solution": false
    }
   },
   "source": [
    "#### Comment on what you observe:"
   ]
  },
  {
   "cell_type": "markdown",
   "metadata": {
    "deletable": false,
    "nbgrader": {
     "cell_type": "markdown",
     "checksum": "07f011cfd9a34c2b3314f2a3aa210187",
     "grade": true,
     "grade_id": "q6g-written",
     "locked": false,
     "points": 1,
     "schema_version": 2,
     "solution": true
    }
   },
   "source": [
    "It looks like for the distribution of Trump's tweets that include nyt, the majority of tweets had an overall negative sentiment, while for the distribution of Trump's tweets that include fox, the majority of tweets had an overall sentiment of 0 or higher."
   ]
  },
  {
   "cell_type": "code",
   "execution_count": 51,
   "metadata": {},
   "outputs": [
    {
     "data": {
      "text/html": [
       "<div>\n",
       "<style scoped>\n",
       "    .dataframe tbody tr th:only-of-type {\n",
       "        vertical-align: middle;\n",
       "    }\n",
       "\n",
       "    .dataframe tbody tr th {\n",
       "        vertical-align: top;\n",
       "    }\n",
       "\n",
       "    .dataframe thead th {\n",
       "        text-align: right;\n",
       "    }\n",
       "</style>\n",
       "<table border=\"1\" class=\"dataframe\">\n",
       "  <thead>\n",
       "    <tr style=\"text-align: right;\">\n",
       "      <th></th>\n",
       "      <th>num</th>\n",
       "      <th>word</th>\n",
       "    </tr>\n",
       "  </thead>\n",
       "  <tbody>\n",
       "    <tr>\n",
       "      <th>690171032150237184</th>\n",
       "      <td>0</td>\n",
       "      <td>bigop1</td>\n",
       "    </tr>\n",
       "    <tr>\n",
       "      <th>690171032150237184</th>\n",
       "      <td>1</td>\n",
       "      <td>realdonaldtrump</td>\n",
       "    </tr>\n",
       "    <tr>\n",
       "      <th>690171032150237184</th>\n",
       "      <td>2</td>\n",
       "      <td>sarahpalinusa</td>\n",
       "    </tr>\n",
       "    <tr>\n",
       "      <th>690171032150237184</th>\n",
       "      <td>3</td>\n",
       "      <td>https</td>\n",
       "    </tr>\n",
       "    <tr>\n",
       "      <th>690171032150237184</th>\n",
       "      <td>4</td>\n",
       "      <td>t</td>\n",
       "    </tr>\n",
       "    <tr>\n",
       "      <th>690171032150237184</th>\n",
       "      <td>5</td>\n",
       "      <td>co</td>\n",
       "    </tr>\n",
       "    <tr>\n",
       "      <th>690171032150237184</th>\n",
       "      <td>6</td>\n",
       "      <td>3kyqgqevyd</td>\n",
       "    </tr>\n",
       "    <tr>\n",
       "      <th>690171403388104704</th>\n",
       "      <td>0</td>\n",
       "      <td>americanaspie</td>\n",
       "    </tr>\n",
       "    <tr>\n",
       "      <th>690171403388104704</th>\n",
       "      <td>1</td>\n",
       "      <td>glennbeck</td>\n",
       "    </tr>\n",
       "    <tr>\n",
       "      <th>690171403388104704</th>\n",
       "      <td>2</td>\n",
       "      <td>sarahpalinusa</td>\n",
       "    </tr>\n",
       "    <tr>\n",
       "      <th>690171403388104704</th>\n",
       "      <td>3</td>\n",
       "      <td>remember</td>\n",
       "    </tr>\n",
       "    <tr>\n",
       "      <th>690171403388104704</th>\n",
       "      <td>4</td>\n",
       "      <td>when</td>\n",
       "    </tr>\n",
       "    <tr>\n",
       "      <th>690171403388104704</th>\n",
       "      <td>5</td>\n",
       "      <td>glenn</td>\n",
       "    </tr>\n",
       "    <tr>\n",
       "      <th>690171403388104704</th>\n",
       "      <td>6</td>\n",
       "      <td>gave</td>\n",
       "    </tr>\n",
       "    <tr>\n",
       "      <th>690171403388104704</th>\n",
       "      <td>7</td>\n",
       "      <td>out</td>\n",
       "    </tr>\n",
       "    <tr>\n",
       "      <th>690171403388104704</th>\n",
       "      <td>8</td>\n",
       "      <td>gifts</td>\n",
       "    </tr>\n",
       "    <tr>\n",
       "      <th>690171403388104704</th>\n",
       "      <td>9</td>\n",
       "      <td>to</td>\n",
       "    </tr>\n",
       "    <tr>\n",
       "      <th>690171403388104704</th>\n",
       "      <td>10</td>\n",
       "      <td>illegal</td>\n",
       "    </tr>\n",
       "    <tr>\n",
       "      <th>690171403388104704</th>\n",
       "      <td>11</td>\n",
       "      <td>aliens</td>\n",
       "    </tr>\n",
       "    <tr>\n",
       "      <th>690171403388104704</th>\n",
       "      <td>12</td>\n",
       "      <td>at</td>\n",
       "    </tr>\n",
       "    <tr>\n",
       "      <th>690171403388104704</th>\n",
       "      <td>13</td>\n",
       "      <td>crossing</td>\n",
       "    </tr>\n",
       "    <tr>\n",
       "      <th>690171403388104704</th>\n",
       "      <td>14</td>\n",
       "      <td>the</td>\n",
       "    </tr>\n",
       "    <tr>\n",
       "      <th>690171403388104704</th>\n",
       "      <td>15</td>\n",
       "      <td>border</td>\n",
       "    </tr>\n",
       "    <tr>\n",
       "      <th>690171403388104704</th>\n",
       "      <td>16</td>\n",
       "      <td>me</td>\n",
       "    </tr>\n",
       "    <tr>\n",
       "      <th>690171403388104704</th>\n",
       "      <td>17</td>\n",
       "      <td>too</td>\n",
       "    </tr>\n",
       "    <tr>\n",
       "      <th>690173226341691392</th>\n",
       "      <td>0</td>\n",
       "      <td>so</td>\n",
       "    </tr>\n",
       "    <tr>\n",
       "      <th>690173226341691392</th>\n",
       "      <td>1</td>\n",
       "      <td>sad</td>\n",
       "    </tr>\n",
       "    <tr>\n",
       "      <th>690173226341691392</th>\n",
       "      <td>2</td>\n",
       "      <td>that</td>\n",
       "    </tr>\n",
       "    <tr>\n",
       "      <th>690173226341691392</th>\n",
       "      <td>3</td>\n",
       "      <td>cnn</td>\n",
       "    </tr>\n",
       "    <tr>\n",
       "      <th>690173226341691392</th>\n",
       "      <td>4</td>\n",
       "      <td>and</td>\n",
       "    </tr>\n",
       "    <tr>\n",
       "      <th>...</th>\n",
       "      <td>...</td>\n",
       "      <td>...</td>\n",
       "    </tr>\n",
       "    <tr>\n",
       "      <th>1053684769991454721</th>\n",
       "      <td>17</td>\n",
       "      <td>is</td>\n",
       "    </tr>\n",
       "    <tr>\n",
       "      <th>1053684769991454721</th>\n",
       "      <td>18</td>\n",
       "      <td>all</td>\n",
       "    </tr>\n",
       "    <tr>\n",
       "      <th>1053684769991454721</th>\n",
       "      <td>19</td>\n",
       "      <td>about</td>\n",
       "    </tr>\n",
       "    <tr>\n",
       "      <th>1053684769991454721</th>\n",
       "      <td>20</td>\n",
       "      <td>maga</td>\n",
       "    </tr>\n",
       "    <tr>\n",
       "      <th>1053684769991454721</th>\n",
       "      <td>21</td>\n",
       "      <td>and</td>\n",
       "    </tr>\n",
       "    <tr>\n",
       "      <th>1053684769991454721</th>\n",
       "      <td>22</td>\n",
       "      <td>i</td>\n",
       "    </tr>\n",
       "    <tr>\n",
       "      <th>1053684769991454721</th>\n",
       "      <td>23</td>\n",
       "      <td>need</td>\n",
       "    </tr>\n",
       "    <tr>\n",
       "      <th>1053684769991454721</th>\n",
       "      <td>24</td>\n",
       "      <td>his</td>\n",
       "    </tr>\n",
       "    <tr>\n",
       "      <th>1053684769991454721</th>\n",
       "      <td>25</td>\n",
       "      <td>help</td>\n",
       "    </tr>\n",
       "    <tr>\n",
       "      <th>1053684769991454721</th>\n",
       "      <td>26</td>\n",
       "      <td>and</td>\n",
       "    </tr>\n",
       "    <tr>\n",
       "      <th>1053684769991454721</th>\n",
       "      <td>27</td>\n",
       "      <td>talent</td>\n",
       "    </tr>\n",
       "    <tr>\n",
       "      <th>1053684769991454721</th>\n",
       "      <td>28</td>\n",
       "      <td>in</td>\n",
       "    </tr>\n",
       "    <tr>\n",
       "      <th>1053684769991454721</th>\n",
       "      <td>29</td>\n",
       "      <td>washington</td>\n",
       "    </tr>\n",
       "    <tr>\n",
       "      <th>1053684769991454721</th>\n",
       "      <td>30</td>\n",
       "      <td>also</td>\n",
       "    </tr>\n",
       "    <tr>\n",
       "      <th>1053684769991454721</th>\n",
       "      <td>31</td>\n",
       "      <td>adam</td>\n",
       "    </tr>\n",
       "    <tr>\n",
       "      <th>1053684769991454721</th>\n",
       "      <td>32</td>\n",
       "      <td>laxalt</td>\n",
       "    </tr>\n",
       "    <tr>\n",
       "      <th>1053684769991454721</th>\n",
       "      <td>33</td>\n",
       "      <td>will</td>\n",
       "    </tr>\n",
       "    <tr>\n",
       "      <th>1053684769991454721</th>\n",
       "      <td>34</td>\n",
       "      <td>be</td>\n",
       "    </tr>\n",
       "    <tr>\n",
       "      <th>1053684769991454721</th>\n",
       "      <td>35</td>\n",
       "      <td>a</td>\n",
       "    </tr>\n",
       "    <tr>\n",
       "      <th>1053684769991454721</th>\n",
       "      <td>36</td>\n",
       "      <td>great</td>\n",
       "    </tr>\n",
       "    <tr>\n",
       "      <th>1053684769991454721</th>\n",
       "      <td>37</td>\n",
       "      <td>governor</td>\n",
       "    </tr>\n",
       "    <tr>\n",
       "      <th>1053684769991454721</th>\n",
       "      <td>38</td>\n",
       "      <td>and</td>\n",
       "    </tr>\n",
       "    <tr>\n",
       "      <th>1053684769991454721</th>\n",
       "      <td>39</td>\n",
       "      <td>has</td>\n",
       "    </tr>\n",
       "    <tr>\n",
       "      <th>1053684769991454721</th>\n",
       "      <td>40</td>\n",
       "      <td>my</td>\n",
       "    </tr>\n",
       "    <tr>\n",
       "      <th>1053684769991454721</th>\n",
       "      <td>41</td>\n",
       "      <td>complete</td>\n",
       "    </tr>\n",
       "    <tr>\n",
       "      <th>1053684769991454721</th>\n",
       "      <td>42</td>\n",
       "      <td>and</td>\n",
       "    </tr>\n",
       "    <tr>\n",
       "      <th>1053684769991454721</th>\n",
       "      <td>43</td>\n",
       "      <td>total</td>\n",
       "    </tr>\n",
       "    <tr>\n",
       "      <th>1053684769991454721</th>\n",
       "      <td>44</td>\n",
       "      <td>endorsement</td>\n",
       "    </tr>\n",
       "    <tr>\n",
       "      <th>1053684769991454721</th>\n",
       "      <td>45</td>\n",
       "      <td>winners</td>\n",
       "    </tr>\n",
       "    <tr>\n",
       "      <th>1053684769991454721</th>\n",
       "      <td>46</td>\n",
       "      <td>both</td>\n",
       "    </tr>\n",
       "  </tbody>\n",
       "</table>\n",
       "<p>218799 rows × 2 columns</p>\n",
       "</div>"
      ],
      "text/plain": [
       "                     num             word\n",
       "690171032150237184     0           bigop1\n",
       "690171032150237184     1  realdonaldtrump\n",
       "690171032150237184     2    sarahpalinusa\n",
       "690171032150237184     3            https\n",
       "690171032150237184     4                t\n",
       "690171032150237184     5               co\n",
       "690171032150237184     6       3kyqgqevyd\n",
       "690171403388104704     0    americanaspie\n",
       "690171403388104704     1        glennbeck\n",
       "690171403388104704     2    sarahpalinusa\n",
       "690171403388104704     3         remember\n",
       "690171403388104704     4             when\n",
       "690171403388104704     5            glenn\n",
       "690171403388104704     6             gave\n",
       "690171403388104704     7              out\n",
       "690171403388104704     8            gifts\n",
       "690171403388104704     9               to\n",
       "690171403388104704    10          illegal\n",
       "690171403388104704    11           aliens\n",
       "690171403388104704    12               at\n",
       "690171403388104704    13         crossing\n",
       "690171403388104704    14              the\n",
       "690171403388104704    15           border\n",
       "690171403388104704    16               me\n",
       "690171403388104704    17              too\n",
       "690173226341691392     0               so\n",
       "690173226341691392     1              sad\n",
       "690173226341691392     2             that\n",
       "690173226341691392     3              cnn\n",
       "690173226341691392     4              and\n",
       "...                  ...              ...\n",
       "1053684769991454721   17               is\n",
       "1053684769991454721   18              all\n",
       "1053684769991454721   19            about\n",
       "1053684769991454721   20             maga\n",
       "1053684769991454721   21              and\n",
       "1053684769991454721   22                i\n",
       "1053684769991454721   23             need\n",
       "1053684769991454721   24              his\n",
       "1053684769991454721   25             help\n",
       "1053684769991454721   26              and\n",
       "1053684769991454721   27           talent\n",
       "1053684769991454721   28               in\n",
       "1053684769991454721   29       washington\n",
       "1053684769991454721   30             also\n",
       "1053684769991454721   31             adam\n",
       "1053684769991454721   32           laxalt\n",
       "1053684769991454721   33             will\n",
       "1053684769991454721   34               be\n",
       "1053684769991454721   35                a\n",
       "1053684769991454721   36            great\n",
       "1053684769991454721   37         governor\n",
       "1053684769991454721   38              and\n",
       "1053684769991454721   39              has\n",
       "1053684769991454721   40               my\n",
       "1053684769991454721   41         complete\n",
       "1053684769991454721   42              and\n",
       "1053684769991454721   43            total\n",
       "1053684769991454721   44      endorsement\n",
       "1053684769991454721   45          winners\n",
       "1053684769991454721   46             both\n",
       "\n",
       "[218799 rows x 2 columns]"
      ]
     },
     "execution_count": 51,
     "metadata": {},
     "output_type": "execute_result"
    }
   ],
   "source": [
    "tidy_format"
   ]
  },
  {
   "cell_type": "markdown",
   "metadata": {
    "deletable": false,
    "editable": false,
    "nbgrader": {
     "cell_type": "markdown",
     "checksum": "c5ecdf3a6f728a340b159acc71ac1abe",
     "grade": false,
     "grade_id": "q7-header",
     "locked": true,
     "schema_version": 2,
     "solution": false
    }
   },
   "source": [
    "## Question 7: Engagement\n",
    "\n",
    "## Question 7a\n",
    "\n",
    "In this problem, we'll explore which words led to a greater average number of retweets. For example, at the time of this writing, Donald Trump has two tweets that contain the word 'oakland' (tweets 932570628451954688 and 1016609920031117312) with 36757 and 10286 retweets respectively, for an average of 23,521.5.\n",
    "\n",
    "Find the top 20 most retweeted words. Include only words that appear in at least 25 tweets. As usual, try to do this without any for loops. You can string together ~7 pandas commands and get everything done on one line.\n",
    "\n",
    "Your `top_20` table should have this format:\n",
    "\n",
    "<table border=\"1\" class=\"dataframe\">\n",
    "  <thead>\n",
    "    <tr style=\"text-align: right;\">\n",
    "      <th></th>\n",
    "      <th>retweet_count</th>\n",
    "    </tr>\n",
    "    <tr>\n",
    "      <th>word</th>\n",
    "      <th></th>\n",
    "    </tr>\n",
    "  </thead>\n",
    "  <tbody>\n",
    "    <tr>\n",
    "      <th>jong</th>\n",
    "      <td>40675.666667</td>\n",
    "    </tr>\n",
    "    <tr>\n",
    "      <th>try</th>\n",
    "      <td>33937.800000</td>\n",
    "    </tr>\n",
    "    <tr>\n",
    "      <th>kim</th>\n",
    "      <td>32849.595745</td>\n",
    "    </tr>\n",
    "    <tr>\n",
    "      <th>un</th>\n",
    "      <td>32741.731707</td>\n",
    "    </tr>\n",
    "    <tr>\n",
    "      <th>maybe</th>\n",
    "      <td>30473.192308</td>\n",
    "    </tr>\n",
    "  </tbody>\n",
    "</table>"
   ]
  },
  {
   "cell_type": "code",
   "execution_count": 52,
   "metadata": {
    "deletable": false,
    "nbgrader": {
     "cell_type": "code",
     "checksum": "fd0b39f47c0462c1c6da4a8c31df384c",
     "grade": false,
     "grade_id": "q7a",
     "locked": false,
     "schema_version": 2,
     "solution": true
    },
    "tags": [
     "student"
    ]
   },
   "outputs": [
    {
     "data": {
      "text/html": [
       "<div>\n",
       "<style scoped>\n",
       "    .dataframe tbody tr th:only-of-type {\n",
       "        vertical-align: middle;\n",
       "    }\n",
       "\n",
       "    .dataframe tbody tr th {\n",
       "        vertical-align: top;\n",
       "    }\n",
       "\n",
       "    .dataframe thead th {\n",
       "        text-align: right;\n",
       "    }\n",
       "</style>\n",
       "<table border=\"1\" class=\"dataframe\">\n",
       "  <thead>\n",
       "    <tr style=\"text-align: right;\">\n",
       "      <th></th>\n",
       "      <th>retweet_count</th>\n",
       "    </tr>\n",
       "    <tr>\n",
       "      <th>word</th>\n",
       "      <th></th>\n",
       "    </tr>\n",
       "  </thead>\n",
       "  <tbody>\n",
       "    <tr>\n",
       "      <th>jong</th>\n",
       "      <td>39590.133333</td>\n",
       "    </tr>\n",
       "    <tr>\n",
       "      <th>try</th>\n",
       "      <td>32497.840000</td>\n",
       "    </tr>\n",
       "    <tr>\n",
       "      <th>un</th>\n",
       "      <td>31919.097561</td>\n",
       "    </tr>\n",
       "    <tr>\n",
       "      <th>kim</th>\n",
       "      <td>31612.816327</td>\n",
       "    </tr>\n",
       "    <tr>\n",
       "      <th>maybe</th>\n",
       "      <td>29808.538462</td>\n",
       "    </tr>\n",
       "    <tr>\n",
       "      <th>kavanaugh</th>\n",
       "      <td>28606.814815</td>\n",
       "    </tr>\n",
       "    <tr>\n",
       "      <th>nuclear</th>\n",
       "      <td>28561.700000</td>\n",
       "    </tr>\n",
       "    <tr>\n",
       "      <th>illegally</th>\n",
       "      <td>28364.090909</td>\n",
       "    </tr>\n",
       "    <tr>\n",
       "      <th>mccabe</th>\n",
       "      <td>27630.806452</td>\n",
       "    </tr>\n",
       "    <tr>\n",
       "      <th>old</th>\n",
       "      <td>27486.333333</td>\n",
       "    </tr>\n",
       "    <tr>\n",
       "      <th>players</th>\n",
       "      <td>26832.233333</td>\n",
       "    </tr>\n",
       "    <tr>\n",
       "      <th>lowest</th>\n",
       "      <td>26470.391304</td>\n",
       "    </tr>\n",
       "    <tr>\n",
       "      <th>flag</th>\n",
       "      <td>26327.366667</td>\n",
       "    </tr>\n",
       "    <tr>\n",
       "      <th>nfl</th>\n",
       "      <td>26174.194444</td>\n",
       "    </tr>\n",
       "    <tr>\n",
       "      <th>emails</th>\n",
       "      <td>25970.509434</td>\n",
       "    </tr>\n",
       "    <tr>\n",
       "      <th>judge</th>\n",
       "      <td>25127.166667</td>\n",
       "    </tr>\n",
       "    <tr>\n",
       "      <th>fbi</th>\n",
       "      <td>25005.260000</td>\n",
       "    </tr>\n",
       "    <tr>\n",
       "      <th>obstruction</th>\n",
       "      <td>24926.459459</td>\n",
       "    </tr>\n",
       "    <tr>\n",
       "      <th>anthem</th>\n",
       "      <td>24862.378378</td>\n",
       "    </tr>\n",
       "    <tr>\n",
       "      <th>bless</th>\n",
       "      <td>24716.000000</td>\n",
       "    </tr>\n",
       "  </tbody>\n",
       "</table>\n",
       "</div>"
      ],
      "text/plain": [
       "             retweet_count\n",
       "word                      \n",
       "jong          39590.133333\n",
       "try           32497.840000\n",
       "un            31919.097561\n",
       "kim           31612.816327\n",
       "maybe         29808.538462\n",
       "kavanaugh     28606.814815\n",
       "nuclear       28561.700000\n",
       "illegally     28364.090909\n",
       "mccabe        27630.806452\n",
       "old           27486.333333\n",
       "players       26832.233333\n",
       "lowest        26470.391304\n",
       "flag          26327.366667\n",
       "nfl           26174.194444\n",
       "emails        25970.509434\n",
       "judge         25127.166667\n",
       "fbi           25005.260000\n",
       "obstruction   24926.459459\n",
       "anthem        24862.378378\n",
       "bless         24716.000000"
      ]
     },
     "execution_count": 52,
     "metadata": {},
     "output_type": "execute_result"
    }
   ],
   "source": [
    "trump_words = trump.merge(right=tidy_format, how='left', left_index=True, right_index=True)\n",
    "word_counts = trump_words.groupby('word').count()[['num']].rename(columns={'num':\"num_appearances\"})\n",
    "trump_words = trump_words.merge(word_counts, how='inner', left_on='word', right_index=True)\n",
    "trump_words = trump_words[trump_words['num_appearances'] >= 25]\n",
    "top_20 = trump_words[['word', 'retweet_count']].groupby('word').mean().sort_values('retweet_count', ascending=False).iloc[0:20]\n",
    "top_20\n",
    "\n",
    "# YOUR CODE HERE\n",
    "\n"
   ]
  },
  {
   "cell_type": "code",
   "execution_count": 53,
   "metadata": {
    "deletable": false,
    "editable": false,
    "nbgrader": {
     "cell_type": "code",
     "checksum": "21c9f88159cc2a93678adbf0ed15b141",
     "grade": true,
     "grade_id": "q7a-test",
     "locked": true,
     "points": 1,
     "schema_version": 2,
     "solution": false
    },
    "tags": [
     "test",
     "q07a"
    ]
   },
   "outputs": [],
   "source": [
    "# Although it can't be guaranteed, it's very likely that the top 5 words will still be\n",
    "# in the top 20 words in the next month.\n",
    "assert 'jong'     in top_20.index\n",
    "assert 'try'     in top_20.index\n",
    "assert 'kim' in top_20.index\n",
    "assert 'un'    in top_20.index\n",
    "assert 'maybe'    in top_20.index\n"
   ]
  },
  {
   "cell_type": "markdown",
   "metadata": {
    "deletable": false,
    "editable": false,
    "nbgrader": {
     "cell_type": "markdown",
     "checksum": "a4a12be8f88ac931b51b85a1ffa5cfde",
     "grade": false,
     "grade_id": "bar-chart-results",
     "locked": true,
     "schema_version": 2,
     "solution": false
    }
   },
   "source": [
    "Here's a bar chart of your results:"
   ]
  },
  {
   "cell_type": "code",
   "execution_count": 54,
   "metadata": {
    "deletable": false,
    "editable": false,
    "nbgrader": {
     "cell_type": "code",
     "checksum": "4a962cdd19dad39e5f8aa5fe2ff096e4",
     "grade": false,
     "grade_id": "top-retweets",
     "locked": true,
     "schema_version": 2,
     "solution": false
    }
   },
   "outputs": [
    {
     "data": {
      "image/png": "[encoded data removed]",
      "text/plain": [
       "<matplotlib.figure.Figure at 0x7f0e3b8cef98>"
      ]
     },
     "metadata": {},
     "output_type": "display_data"
    }
   ],
   "source": [
    "top_20['retweet_count'].sort_values().plot.barh(figsize=(10, 8));"
   ]
  },
  {
   "cell_type": "markdown",
   "metadata": {
    "deletable": false,
    "editable": false,
    "nbgrader": {
     "cell_type": "markdown",
     "checksum": "70a14a09cd647399e07501fd7ba2c9e1",
     "grade": false,
     "grade_id": "q7b",
     "locked": true,
     "schema_version": 2,
     "solution": false
    }
   },
   "source": [
    "## Question 7b\n",
    "\n",
    "\"kim\", \"jong\" and \"un\" are apparently really popular in Trump's tweets! It seems like we can conclude that his tweets involving jong are more popular than his other tweets. Or can we?\n",
    "\n",
    "Consider each of the statements about possible confounding factors below. State whether each statement is true or false and explain. If the statement is true, state whether the confounding factor could have made kim jong un related tweets higher in the list than they should be.\n",
    "\n",
    "1. We didn't restrict our word list to nouns, so we have unhelpful words like \"let\" and \"any\" in our result.\n",
    "1. We didn't remove hashtags in our text, so we have duplicate words (eg. #great and great).\n",
    "1. We didn't account for the fact that Trump's follower count has increased over time."
   ]
  },
  {
   "cell_type": "markdown",
   "metadata": {
    "deletable": false,
    "nbgrader": {
     "cell_type": "markdown",
     "checksum": "577b78199cd4361dd51b92774e09beb0",
     "grade": true,
     "grade_id": "q7b-answer",
     "locked": false,
     "points": 1,
     "schema_version": 2,
     "solution": true
    },
    "tags": [
     "student",
     "written"
    ]
   },
   "source": [
    "1. True, we can see we did not remove some unhelpful but commonly used words such as \"try,\" however this would not have made kim jon un related tweets higher than they should be. Eliminating unhelpful words that aren't nouns would only move kim jong un related tweets higher on the list because order of the list would be preserved while the elimination of unhelpful words would result in nouns moving up the list. So, although removing unhelpful words would result in a different spot on the list for most remaining words, it would not change relative order and kim jong un tweets would not be higher than it should be.\n",
    "\n",
    "2. False, when we removed punctuation from the tweets we removed anything that was not a unicode or whitespace character.\n",
    "\n",
    "3. True, we did not account for Trump's increase in follower count, so tweets that are more recent and contain hot topics would potentially have more average retweets because more people would have seen/retweeted those tweets. This could be a confounding factor that made kim jong un related tweets higher than they should be because the tweets are both popular and recent, which would move them above older tweets that could have been more popular if weights were adjusted by number of followers. "
   ]
  },
  {
   "cell_type": "markdown",
   "metadata": {
    "deletable": false,
    "editable": false,
    "nbgrader": {
     "cell_type": "markdown",
     "checksum": "2349bca60086e521e2127eb40b1beb29",
     "grade": false,
     "grade_id": "q8",
     "locked": true,
     "schema_version": 2,
     "solution": false
    }
   },
   "source": [
    "## Question 8\n",
    "\n",
    "Using the `trump` tweets construct an interesting plot describing a property of the data and discuss what you found below.\n",
    "\n",
    "**Ideas:**\n",
    "\n",
    "1. How has the sentiment changed with length of the tweets?\n",
    "1. Does sentiment affect retweet count?\n",
    "1. Are retweets more negative than regular tweets?\n",
    "1. Are there any spikes in the number of retweets and do the correspond to world events? \n",
    "1. *Bonus:* How many Russian twitter bots follow Trump? \n",
    "1. What terms have an especially positive or negative sentiment?\n",
    "\n",
    "You can look at other data sources and even tweets.\n"
   ]
  },
  {
   "cell_type": "markdown",
   "metadata": {
    "deletable": false,
    "editable": false,
    "nbgrader": {
     "cell_type": "markdown",
     "checksum": "9742f4a99a0e60845ad7dcc60d774fd7",
     "grade": false,
     "grade_id": "plot8-q",
     "locked": true,
     "schema_version": 2,
     "solution": false
    }
   },
   "source": [
    "### Plot:"
   ]
  },
  {
   "cell_type": "code",
   "execution_count": 105,
   "metadata": {
    "deletable": false,
    "nbgrader": {
     "cell_type": "code",
     "checksum": "1f84a32506abaa59849e1923f60afb03",
     "grade": true,
     "grade_id": "q8-plot",
     "locked": false,
     "points": 2,
     "schema_version": 2,
     "solution": true
    }
   },
   "outputs": [
    {
     "data": {
      "image/png": "[encoded data removed]",
      "text/plain": [
       "<matplotlib.figure.Figure at 0x7f0e2cd720b8>"
      ]
     },
     "metadata": {},
     "output_type": "display_data"
    }
   ],
   "source": [
    "# YOUR CODE HERE\n",
    "tweet_len = tidy_format.index.value_counts().to_frame('tweet_len')\n",
    "trump_with_len = trump.merge(tweet_len, how='inner', left_index=True, right_index=True)\n",
    "#average_polarity = trump_with_len[['tweet_len', 'polarity']].groupby('tweet_len').mean().reset_index()\n",
    "#average_polarity.plot.scatter(x='tweet_len', y='polarity')\n",
    "#plt.xlabel('Number of Words in Tweet')\n",
    "#plt.ylabel('Average Polarity')\n",
    "\n",
    "trump_with_len['chars'] = [len(text) for text in trump['no_punc']]\n",
    "avg_chars = trump_with_len[['chars', 'polarity']].groupby('chars').mean().reset_index()\n",
    "avg_chars.plot.scatter(x='chars', y='polarity')\n",
    "plt.xlabel('Number of Characters in Tweet')\n",
    "plt.ylabel('Average Polarity')\n",
    "plt.title('Characters in Tweet vs. Average Polarity');\n",
    "\n",
    "#trump_with_len.plot.scatter(x='chars', y='polarity')\n",
    "#trump_with_len.plot.scatter(x='tweet_len', y='polarity')"
   ]
  },
  {
   "cell_type": "markdown",
   "metadata": {
    "deletable": false,
    "editable": false,
    "nbgrader": {
     "cell_type": "markdown",
     "checksum": "8bcdf92134fc82c0b7dcfb54c62dadfe",
     "grade": false,
     "grade_id": "disc8-q",
     "locked": true,
     "schema_version": 2,
     "solution": false
    }
   },
   "source": [
    "### Discussion of Your Plot:"
   ]
  },
  {
   "cell_type": "markdown",
   "metadata": {
    "deletable": false,
    "nbgrader": {
     "cell_type": "markdown",
     "checksum": "36550141bfc678e4ad08057239781458",
     "grade": true,
     "grade_id": "q8-disc",
     "locked": false,
     "points": 1,
     "schema_version": 2,
     "solution": true
    }
   },
   "source": [
    "Idea 1:\n",
    "This is a plot of the average polarity of tweets in relationship to the number of characters in the tweets. I thought this graph best showed the relationship between sentiment and tweet length because a plot of the number of words in each tweet vs. average polarity appeared to have too few data points to see any clear correlations and plots of individual tweet length vs polarity pairs seemed to have too much overplotting. \n",
    "\n",
    "From the graph, we can see that the longer a tweet gets, the more the sentiment of the tweet tends to vary to be more positive/negative. When tweets are under 150 characters they tend to have a polarity a little over 0, and after 150 characters tweets vary more in polarity. Also, longer tweets more often have a high polarity than they have low polarity. "
   ]
  },
  {
   "cell_type": "markdown",
   "metadata": {
    "deletable": false,
    "editable": false,
    "nbgrader": {
     "cell_type": "markdown",
     "checksum": "7cd0d0cd6110eba1fea6f1316c48f4a0",
     "grade": false,
     "grade_id": "submission",
     "locked": true,
     "schema_version": 2,
     "solution": false
    }
   },
   "source": [
    "## Submission\n",
    "\n",
    "Congrats, you just finished Project 1!"
   ]
  },
  {
   "cell_type": "markdown",
   "metadata": {},
   "source": [
    "## Submission\n",
    "\n",
    "You're done!\n",
    "\n",
    "Before submitting this assignment, ensure to:\n",
    "\n",
    "1. Restart the Kernel (in the menubar, select Kernel->Restart & Run All)\n",
    "2. Validate the notebook by clicking the \"Validate\" button\n",
    "\n",
    "Finally, make sure to **submit** the assignment via the Assignments tab in Datahub"
   ]
  }
 ],
 "metadata": {
  "kernelspec": {
   "display_name": "Python 3",
   "language": "python",
   "name": "python3"
  },
  "language_info": {
   "codemirror_mode": {
    "name": "ipython",
    "version": 3
   },
   "file_extension": ".py",
   "mimetype": "text/x-python",
   "name": "python",
   "nbconvert_exporter": "python",
   "pygments_lexer": "ipython3",
   "version": "3.7.1"
  }
 },
 "nbformat": 4,
 "nbformat_minor": 2
}
